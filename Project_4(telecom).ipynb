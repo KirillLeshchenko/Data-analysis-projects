{
 "cells": [
  {
   "cell_type": "markdown",
   "metadata": {},
   "source": [
    "<div class=\"alert alert-block alert-success\">\n",
    "<b>V2 Успех:</b> Кирилл, ты исправил все доработки и я поздравляю тебя с успешным выполнением проекта. Это начало интересного и непростого пути, на котором ты сделал следующий шаг. Проект зачтен, я думаю он получился крутым, надеюсь тебе было интересно. Еще раз поздравляю!\n",
    "</div>"
   ]
  },
  {
   "cell_type": "markdown",
   "metadata": {},
   "source": [
    "**Привет, Кирилл!** \n",
    "<br> Меня зовут Родион Щебентовский, сегодня я буду проверять твой проект. Моя цель при проверке - помочь тебе с освоением темы статистического анализа и порадоваться, когда ты сделаешь классную работу :) \n",
    "<br> Предлагаю в общении перейти на \"ты\", если тебе так комфортно. \n",
    "<br> Будет здорово, если будешь реагировать на мои комментарий ('исправил', 'не понял как исправить ошибку', ...) и я смогу дать более подробную информацию по неразрешенным вопросам.\n",
    "\n",
    "<br> Пожалуйста, не удаляй мои комментарии во время доработки, так мы сможем быть в одном контексте и работа будет проверяться быстрее.\n",
    "\n",
    "Комментарии будут в <font color='green'>зеленой</font>, <font color='orange'>желтой</font> или <font color='red'>красной</font> рамках:\n",
    "\n",
    "<div class=\"alert alert-block alert-success\">\n",
    "<b>Успех:</b> Если все сделано отлично\n",
    "</div>\n",
    "\n",
    "<div class=\"alert alert-block alert-warning\">\n",
    "<b>Совет: </b> Если можно немного улучшить\n",
    "</div>\n",
    "\n",
    "<div class=\"alert alert-block alert-danger\">\n",
    "<b>Необходимо исправить: </b> Работа не может быть принята с красными комментариями.\n",
    "</div>\n",
    "\n",
    "Буду рад, если ты оформишь свои комментарии так: \n",
    "\n",
    "<div class=\"alert alert-info\" role=\"alert\">\n",
    "  <b>Комментарий студента: </b> Здесь будет твой вопрос.\n",
    "</div>\n",
    "\n",
    "\n",
    "<font color='blue'>**Общее впечатление**</font>\n",
    "* Этот проект выполнен хорошо, некоторые идеи достаточно оригинальны.\n",
    "* Молодец, что структурируешь ноутбук, приятно проверять такие работы.\n",
    "* В работе допущено несколько ошибок, которые достаточно легко исправить.\n",
    "* Я оставил несколько советов, они позволят тебе глубже изучить тему и привести работу в еще лучшее состояние. Исправь их если останется время.\n",
    "* Порадовало достаточно качественное оформление графиков, спасибо!\n",
    "* Жду новую версию проекта. Уверен, ты справишься :) "
   ]
  },
  {
   "cell_type": "markdown",
   "metadata": {},
   "source": [
    "<div class=\"alert alert-info\">\n",
    "<b> Комментарий от студента </b>\n",
    "    \n",
    "Привет, меня зовут Кирилл. Предлагаю сразу перейти на \"ты\" для удобства общения. Свои комментарии по ходу проверки буду оставлять в подобной форме. \n",
    "    \n",
    "Спасибо, что проверяешь мой проект! Буду рад любым замечаниям и предложениям, успехов в работе!\n",
    "</div>\n",
    "\n",
    "# Описание проекта\n",
    "\n",
    "Заказчик исследования - федеральный оператор сотовой связи \"Мегалайн\". Клиентам предлагается два тарифных плана: \"Смарт\" и \"Ультра\". Чтобы скорректировать рекламный бюджет, коммерческий департамент хочет понять, какой тариф приносит больше денег. \n",
    "\n",
    "Предстоит сделать предварительный анализ тарифов на небольшой выборке клиентов. В распоряжении данные 500 пользователей \"Мегалайна\": кто они, откуда, каким тарифом пользуются, сколько звонков и сообщений каждый отправил за 2018 год.\n",
    "\n",
    "Необходимо проанализировать поведение клиентов и сделать вывод — какой тариф лучше.\n",
    "\n",
    "### Описание тарифов\n",
    "#### Тариф \"Смарт\"\n",
    "1. Ежемесячная плата: 550 рублей\n",
    "2. Включено 500 минут разговора, 50 сообщений и 15 Гб интернет-трафика\n",
    "3. Стоимость услуг сверх тарифного пакета:\n",
    "    * Минута разговора: 3 рубля\n",
    "    * Сообщение: 3 рубля\n",
    "    * 1 Гб интернет-трафика: 200 рублей\n",
    "\n",
    "#### Тариф \"Ультра\"\n",
    "1. Ежемесячная плата: 1950 рублей\n",
    "2. Включено 3000 минут разговора, 1000 сообщений и 30 Гб интернет-трафика\n",
    "3. Стоимость услуг сверх тарифного пакета:\n",
    "    * Минута разговора: 1 рубль\n",
    "    * Сообщение: 1 рубль\n",
    "    * 1 Гб интернет-трафика: 150 рублей\n",
    "    \n",
    "    \n",
    "#### Примечание\n",
    "\"Мегалайн\" всегда округляет секунды до минут, а мегабайта – до гигабайт. Каждый звонок округляется отдельно: даже если он длился всего 1 секунду, будет засчитан как 1 минута. \n",
    "\n",
    "Для веб-трафика отдельные сессии не считаются. Вместо этого общая сумма за месяц округляется в большую сторону. Если абонент использует 1025 мегабайт в этом месяце, с него возьмут плату за 2 гигабайт."
   ]
  },
  {
   "cell_type": "markdown",
   "metadata": {},
   "source": [
    "## 1. Изучение данных из файлов"
   ]
  },
  {
   "cell_type": "code",
   "execution_count": 73,
   "metadata": {},
   "outputs": [],
   "source": [
    "# Импортируем необходимые для работы библиотеки\n",
    "\n",
    "from scipy import stats as st\n",
    "import pandas as pd\n",
    "import numpy as np\n",
    "import os\n",
    "import sys\n",
    "import matplotlib.pyplot as plt\n",
    "import math"
   ]
  },
  {
   "cell_type": "markdown",
   "metadata": {},
   "source": [
    "<div class=\"alert alert-block alert-success\">\n",
    "<b>Успех:</b> Отлично, что все импорты собраны в первой ячейке ноутбука! Если у того, кто будет запускать твой ноутбук будут отсутствовать некоторые библиотеки, то он это увидит сразу, а не в процессе выполнения.\n",
    "</div>"
   ]
  },
  {
   "cell_type": "code",
   "execution_count": 74,
   "metadata": {},
   "outputs": [],
   "source": [
    "# Читаем данные из полученных .csv файлов\n",
    "# Воспользуемся универсальной конструкцией для подгрузки файла как с сервера, так и локально\n",
    "\n",
    "# Локальные пути\n",
    "pth1_1 = 'users.csv'\n",
    "pth1_2 = 'calls.csv'\n",
    "pth1_3 = 'internet.csv'\n",
    "pth1_4 = 'messages.csv'\n",
    "pth1_5 = 'tariffs.csv'\n",
    "\n",
    "# Серверные пути\n",
    "pth2_1 = '/datasets/users.csv'\n",
    "pth2_2 = '/datasets/calls.csv'\n",
    "pth2_3 = '/datasets/internet.csv'\n",
    "pth2_4 = '/datasets/messages.csv'\n",
    "pth2_5 = '/datasets/tariffs.csv'\n",
    "\n",
    "if os.path.exists(pth1_1):\n",
    "    data_users = pd.read_csv(pth1_1)\n",
    "    data_calls = pd.read_csv(pth1_2)\n",
    "    data_internet = pd.read_csv(pth1_3)\n",
    "    data_messages = pd.read_csv(pth1_4)\n",
    "    data_tariffs = pd.read_csv(pth1_5)\n",
    "elif os.path.exists(pth2_1):\n",
    "    data_users = pd.read_csv(pth2_1)\n",
    "    data_calls = pd.read_csv(pth2_2)\n",
    "    data_internet = pd.read_csv(pth2_3)\n",
    "    data_messages = pd.read_csv(pth2_4)\n",
    "    data_tariffs = pd.read_csv(pth2_5)\n",
    "else:\n",
    "    print('Something is wrong. Check path')"
   ]
  },
  {
   "cell_type": "markdown",
   "metadata": {},
   "source": [
    "<div class=\"alert alert-block alert-success\">\n",
    "<b>Успех:</b> Хорошее оформление путей\n",
    "</div>"
   ]
  },
  {
   "cell_type": "code",
   "execution_count": 75,
   "metadata": {},
   "outputs": [
    {
     "data": {
      "text/html": [
       "<div>\n",
       "<style scoped>\n",
       "    .dataframe tbody tr th:only-of-type {\n",
       "        vertical-align: middle;\n",
       "    }\n",
       "\n",
       "    .dataframe tbody tr th {\n",
       "        vertical-align: top;\n",
       "    }\n",
       "\n",
       "    .dataframe thead th {\n",
       "        text-align: right;\n",
       "    }\n",
       "</style>\n",
       "<table border=\"1\" class=\"dataframe\">\n",
       "  <thead>\n",
       "    <tr style=\"text-align: right;\">\n",
       "      <th></th>\n",
       "      <th>user_id</th>\n",
       "      <th>age</th>\n",
       "      <th>churn_date</th>\n",
       "      <th>city</th>\n",
       "      <th>first_name</th>\n",
       "      <th>last_name</th>\n",
       "      <th>reg_date</th>\n",
       "      <th>tariff</th>\n",
       "    </tr>\n",
       "  </thead>\n",
       "  <tbody>\n",
       "    <tr>\n",
       "      <th>0</th>\n",
       "      <td>1000</td>\n",
       "      <td>52</td>\n",
       "      <td>NaN</td>\n",
       "      <td>Краснодар</td>\n",
       "      <td>Рафаил</td>\n",
       "      <td>Верещагин</td>\n",
       "      <td>2018-05-25</td>\n",
       "      <td>ultra</td>\n",
       "    </tr>\n",
       "    <tr>\n",
       "      <th>1</th>\n",
       "      <td>1001</td>\n",
       "      <td>41</td>\n",
       "      <td>NaN</td>\n",
       "      <td>Москва</td>\n",
       "      <td>Иван</td>\n",
       "      <td>Ежов</td>\n",
       "      <td>2018-11-01</td>\n",
       "      <td>smart</td>\n",
       "    </tr>\n",
       "    <tr>\n",
       "      <th>2</th>\n",
       "      <td>1002</td>\n",
       "      <td>59</td>\n",
       "      <td>NaN</td>\n",
       "      <td>Стерлитамак</td>\n",
       "      <td>Евгений</td>\n",
       "      <td>Абрамович</td>\n",
       "      <td>2018-06-17</td>\n",
       "      <td>smart</td>\n",
       "    </tr>\n",
       "    <tr>\n",
       "      <th>3</th>\n",
       "      <td>1003</td>\n",
       "      <td>23</td>\n",
       "      <td>NaN</td>\n",
       "      <td>Москва</td>\n",
       "      <td>Белла</td>\n",
       "      <td>Белякова</td>\n",
       "      <td>2018-08-17</td>\n",
       "      <td>ultra</td>\n",
       "    </tr>\n",
       "    <tr>\n",
       "      <th>4</th>\n",
       "      <td>1004</td>\n",
       "      <td>68</td>\n",
       "      <td>NaN</td>\n",
       "      <td>Новокузнецк</td>\n",
       "      <td>Татьяна</td>\n",
       "      <td>Авдеенко</td>\n",
       "      <td>2018-05-14</td>\n",
       "      <td>ultra</td>\n",
       "    </tr>\n",
       "  </tbody>\n",
       "</table>\n",
       "</div>"
      ],
      "text/plain": [
       "   user_id  age churn_date         city first_name  last_name    reg_date  \\\n",
       "0     1000   52        NaN    Краснодар     Рафаил  Верещагин  2018-05-25   \n",
       "1     1001   41        NaN       Москва       Иван       Ежов  2018-11-01   \n",
       "2     1002   59        NaN  Стерлитамак    Евгений  Абрамович  2018-06-17   \n",
       "3     1003   23        NaN       Москва      Белла   Белякова  2018-08-17   \n",
       "4     1004   68        NaN  Новокузнецк    Татьяна   Авдеенко  2018-05-14   \n",
       "\n",
       "  tariff  \n",
       "0  ultra  \n",
       "1  smart  \n",
       "2  smart  \n",
       "3  ultra  \n",
       "4  ultra  "
      ]
     },
     "metadata": {},
     "output_type": "display_data"
    },
    {
     "data": {
      "text/html": [
       "<div>\n",
       "<style scoped>\n",
       "    .dataframe tbody tr th:only-of-type {\n",
       "        vertical-align: middle;\n",
       "    }\n",
       "\n",
       "    .dataframe tbody tr th {\n",
       "        vertical-align: top;\n",
       "    }\n",
       "\n",
       "    .dataframe thead th {\n",
       "        text-align: right;\n",
       "    }\n",
       "</style>\n",
       "<table border=\"1\" class=\"dataframe\">\n",
       "  <thead>\n",
       "    <tr style=\"text-align: right;\">\n",
       "      <th></th>\n",
       "      <th>id</th>\n",
       "      <th>call_date</th>\n",
       "      <th>duration</th>\n",
       "      <th>user_id</th>\n",
       "    </tr>\n",
       "  </thead>\n",
       "  <tbody>\n",
       "    <tr>\n",
       "      <th>0</th>\n",
       "      <td>1000_0</td>\n",
       "      <td>2018-07-25</td>\n",
       "      <td>0.00</td>\n",
       "      <td>1000</td>\n",
       "    </tr>\n",
       "    <tr>\n",
       "      <th>1</th>\n",
       "      <td>1000_1</td>\n",
       "      <td>2018-08-17</td>\n",
       "      <td>0.00</td>\n",
       "      <td>1000</td>\n",
       "    </tr>\n",
       "    <tr>\n",
       "      <th>2</th>\n",
       "      <td>1000_2</td>\n",
       "      <td>2018-06-11</td>\n",
       "      <td>2.85</td>\n",
       "      <td>1000</td>\n",
       "    </tr>\n",
       "    <tr>\n",
       "      <th>3</th>\n",
       "      <td>1000_3</td>\n",
       "      <td>2018-09-21</td>\n",
       "      <td>13.80</td>\n",
       "      <td>1000</td>\n",
       "    </tr>\n",
       "    <tr>\n",
       "      <th>4</th>\n",
       "      <td>1000_4</td>\n",
       "      <td>2018-12-15</td>\n",
       "      <td>5.18</td>\n",
       "      <td>1000</td>\n",
       "    </tr>\n",
       "  </tbody>\n",
       "</table>\n",
       "</div>"
      ],
      "text/plain": [
       "       id   call_date  duration  user_id\n",
       "0  1000_0  2018-07-25      0.00     1000\n",
       "1  1000_1  2018-08-17      0.00     1000\n",
       "2  1000_2  2018-06-11      2.85     1000\n",
       "3  1000_3  2018-09-21     13.80     1000\n",
       "4  1000_4  2018-12-15      5.18     1000"
      ]
     },
     "metadata": {},
     "output_type": "display_data"
    },
    {
     "data": {
      "text/html": [
       "<div>\n",
       "<style scoped>\n",
       "    .dataframe tbody tr th:only-of-type {\n",
       "        vertical-align: middle;\n",
       "    }\n",
       "\n",
       "    .dataframe tbody tr th {\n",
       "        vertical-align: top;\n",
       "    }\n",
       "\n",
       "    .dataframe thead th {\n",
       "        text-align: right;\n",
       "    }\n",
       "</style>\n",
       "<table border=\"1\" class=\"dataframe\">\n",
       "  <thead>\n",
       "    <tr style=\"text-align: right;\">\n",
       "      <th></th>\n",
       "      <th>Unnamed: 0</th>\n",
       "      <th>id</th>\n",
       "      <th>mb_used</th>\n",
       "      <th>session_date</th>\n",
       "      <th>user_id</th>\n",
       "    </tr>\n",
       "  </thead>\n",
       "  <tbody>\n",
       "    <tr>\n",
       "      <th>0</th>\n",
       "      <td>0</td>\n",
       "      <td>1000_0</td>\n",
       "      <td>112.95</td>\n",
       "      <td>2018-11-25</td>\n",
       "      <td>1000</td>\n",
       "    </tr>\n",
       "    <tr>\n",
       "      <th>1</th>\n",
       "      <td>1</td>\n",
       "      <td>1000_1</td>\n",
       "      <td>1052.81</td>\n",
       "      <td>2018-09-07</td>\n",
       "      <td>1000</td>\n",
       "    </tr>\n",
       "    <tr>\n",
       "      <th>2</th>\n",
       "      <td>2</td>\n",
       "      <td>1000_2</td>\n",
       "      <td>1197.26</td>\n",
       "      <td>2018-06-25</td>\n",
       "      <td>1000</td>\n",
       "    </tr>\n",
       "    <tr>\n",
       "      <th>3</th>\n",
       "      <td>3</td>\n",
       "      <td>1000_3</td>\n",
       "      <td>550.27</td>\n",
       "      <td>2018-08-22</td>\n",
       "      <td>1000</td>\n",
       "    </tr>\n",
       "    <tr>\n",
       "      <th>4</th>\n",
       "      <td>4</td>\n",
       "      <td>1000_4</td>\n",
       "      <td>302.56</td>\n",
       "      <td>2018-09-24</td>\n",
       "      <td>1000</td>\n",
       "    </tr>\n",
       "  </tbody>\n",
       "</table>\n",
       "</div>"
      ],
      "text/plain": [
       "   Unnamed: 0      id  mb_used session_date  user_id\n",
       "0           0  1000_0   112.95   2018-11-25     1000\n",
       "1           1  1000_1  1052.81   2018-09-07     1000\n",
       "2           2  1000_2  1197.26   2018-06-25     1000\n",
       "3           3  1000_3   550.27   2018-08-22     1000\n",
       "4           4  1000_4   302.56   2018-09-24     1000"
      ]
     },
     "metadata": {},
     "output_type": "display_data"
    },
    {
     "data": {
      "text/html": [
       "<div>\n",
       "<style scoped>\n",
       "    .dataframe tbody tr th:only-of-type {\n",
       "        vertical-align: middle;\n",
       "    }\n",
       "\n",
       "    .dataframe tbody tr th {\n",
       "        vertical-align: top;\n",
       "    }\n",
       "\n",
       "    .dataframe thead th {\n",
       "        text-align: right;\n",
       "    }\n",
       "</style>\n",
       "<table border=\"1\" class=\"dataframe\">\n",
       "  <thead>\n",
       "    <tr style=\"text-align: right;\">\n",
       "      <th></th>\n",
       "      <th>id</th>\n",
       "      <th>message_date</th>\n",
       "      <th>user_id</th>\n",
       "    </tr>\n",
       "  </thead>\n",
       "  <tbody>\n",
       "    <tr>\n",
       "      <th>0</th>\n",
       "      <td>1000_0</td>\n",
       "      <td>2018-06-27</td>\n",
       "      <td>1000</td>\n",
       "    </tr>\n",
       "    <tr>\n",
       "      <th>1</th>\n",
       "      <td>1000_1</td>\n",
       "      <td>2018-10-08</td>\n",
       "      <td>1000</td>\n",
       "    </tr>\n",
       "    <tr>\n",
       "      <th>2</th>\n",
       "      <td>1000_2</td>\n",
       "      <td>2018-08-04</td>\n",
       "      <td>1000</td>\n",
       "    </tr>\n",
       "    <tr>\n",
       "      <th>3</th>\n",
       "      <td>1000_3</td>\n",
       "      <td>2018-06-16</td>\n",
       "      <td>1000</td>\n",
       "    </tr>\n",
       "    <tr>\n",
       "      <th>4</th>\n",
       "      <td>1000_4</td>\n",
       "      <td>2018-12-05</td>\n",
       "      <td>1000</td>\n",
       "    </tr>\n",
       "  </tbody>\n",
       "</table>\n",
       "</div>"
      ],
      "text/plain": [
       "       id message_date  user_id\n",
       "0  1000_0   2018-06-27     1000\n",
       "1  1000_1   2018-10-08     1000\n",
       "2  1000_2   2018-08-04     1000\n",
       "3  1000_3   2018-06-16     1000\n",
       "4  1000_4   2018-12-05     1000"
      ]
     },
     "metadata": {},
     "output_type": "display_data"
    },
    {
     "data": {
      "text/html": [
       "<div>\n",
       "<style scoped>\n",
       "    .dataframe tbody tr th:only-of-type {\n",
       "        vertical-align: middle;\n",
       "    }\n",
       "\n",
       "    .dataframe tbody tr th {\n",
       "        vertical-align: top;\n",
       "    }\n",
       "\n",
       "    .dataframe thead th {\n",
       "        text-align: right;\n",
       "    }\n",
       "</style>\n",
       "<table border=\"1\" class=\"dataframe\">\n",
       "  <thead>\n",
       "    <tr style=\"text-align: right;\">\n",
       "      <th></th>\n",
       "      <th>messages_included</th>\n",
       "      <th>mb_per_month_included</th>\n",
       "      <th>minutes_included</th>\n",
       "      <th>rub_monthly_fee</th>\n",
       "      <th>rub_per_gb</th>\n",
       "      <th>rub_per_message</th>\n",
       "      <th>rub_per_minute</th>\n",
       "      <th>tariff_name</th>\n",
       "    </tr>\n",
       "  </thead>\n",
       "  <tbody>\n",
       "    <tr>\n",
       "      <th>0</th>\n",
       "      <td>50</td>\n",
       "      <td>15360</td>\n",
       "      <td>500</td>\n",
       "      <td>550</td>\n",
       "      <td>200</td>\n",
       "      <td>3</td>\n",
       "      <td>3</td>\n",
       "      <td>smart</td>\n",
       "    </tr>\n",
       "    <tr>\n",
       "      <th>1</th>\n",
       "      <td>1000</td>\n",
       "      <td>30720</td>\n",
       "      <td>3000</td>\n",
       "      <td>1950</td>\n",
       "      <td>150</td>\n",
       "      <td>1</td>\n",
       "      <td>1</td>\n",
       "      <td>ultra</td>\n",
       "    </tr>\n",
       "  </tbody>\n",
       "</table>\n",
       "</div>"
      ],
      "text/plain": [
       "   messages_included  mb_per_month_included  minutes_included  \\\n",
       "0                 50                  15360               500   \n",
       "1               1000                  30720              3000   \n",
       "\n",
       "   rub_monthly_fee  rub_per_gb  rub_per_message  rub_per_minute tariff_name  \n",
       "0              550         200                3               3       smart  \n",
       "1             1950         150                1               1       ultra  "
      ]
     },
     "metadata": {},
     "output_type": "display_data"
    }
   ],
   "source": [
    "# Выводим первые 5 строк датафреймов\n",
    "    \n",
    "data_list = [data_users, data_calls, data_internet, data_messages, data_tariffs]\n",
    "    \n",
    "for i in data_list:\n",
    "    display(i.head())"
   ]
  },
  {
   "cell_type": "code",
   "execution_count": 76,
   "metadata": {},
   "outputs": [
    {
     "name": "stdout",
     "output_type": "stream",
     "text": [
      "<class 'pandas.core.frame.DataFrame'>\n",
      "RangeIndex: 500 entries, 0 to 499\n",
      "Data columns (total 8 columns):\n",
      " #   Column      Non-Null Count  Dtype \n",
      "---  ------      --------------  ----- \n",
      " 0   user_id     500 non-null    int64 \n",
      " 1   age         500 non-null    int64 \n",
      " 2   churn_date  38 non-null     object\n",
      " 3   city        500 non-null    object\n",
      " 4   first_name  500 non-null    object\n",
      " 5   last_name   500 non-null    object\n",
      " 6   reg_date    500 non-null    object\n",
      " 7   tariff      500 non-null    object\n",
      "dtypes: int64(2), object(6)\n",
      "memory usage: 31.4+ KB\n"
     ]
    },
    {
     "data": {
      "text/plain": [
       "None"
      ]
     },
     "metadata": {},
     "output_type": "display_data"
    },
    {
     "name": "stdout",
     "output_type": "stream",
     "text": [
      "<class 'pandas.core.frame.DataFrame'>\n",
      "RangeIndex: 202607 entries, 0 to 202606\n",
      "Data columns (total 4 columns):\n",
      " #   Column     Non-Null Count   Dtype  \n",
      "---  ------     --------------   -----  \n",
      " 0   id         202607 non-null  object \n",
      " 1   call_date  202607 non-null  object \n",
      " 2   duration   202607 non-null  float64\n",
      " 3   user_id    202607 non-null  int64  \n",
      "dtypes: float64(1), int64(1), object(2)\n",
      "memory usage: 6.2+ MB\n"
     ]
    },
    {
     "data": {
      "text/plain": [
       "None"
      ]
     },
     "metadata": {},
     "output_type": "display_data"
    },
    {
     "name": "stdout",
     "output_type": "stream",
     "text": [
      "<class 'pandas.core.frame.DataFrame'>\n",
      "RangeIndex: 149396 entries, 0 to 149395\n",
      "Data columns (total 5 columns):\n",
      " #   Column        Non-Null Count   Dtype  \n",
      "---  ------        --------------   -----  \n",
      " 0   Unnamed: 0    149396 non-null  int64  \n",
      " 1   id            149396 non-null  object \n",
      " 2   mb_used       149396 non-null  float64\n",
      " 3   session_date  149396 non-null  object \n",
      " 4   user_id       149396 non-null  int64  \n",
      "dtypes: float64(1), int64(2), object(2)\n",
      "memory usage: 5.7+ MB\n"
     ]
    },
    {
     "data": {
      "text/plain": [
       "None"
      ]
     },
     "metadata": {},
     "output_type": "display_data"
    },
    {
     "name": "stdout",
     "output_type": "stream",
     "text": [
      "<class 'pandas.core.frame.DataFrame'>\n",
      "RangeIndex: 123036 entries, 0 to 123035\n",
      "Data columns (total 3 columns):\n",
      " #   Column        Non-Null Count   Dtype \n",
      "---  ------        --------------   ----- \n",
      " 0   id            123036 non-null  object\n",
      " 1   message_date  123036 non-null  object\n",
      " 2   user_id       123036 non-null  int64 \n",
      "dtypes: int64(1), object(2)\n",
      "memory usage: 2.8+ MB\n"
     ]
    },
    {
     "data": {
      "text/plain": [
       "None"
      ]
     },
     "metadata": {},
     "output_type": "display_data"
    },
    {
     "name": "stdout",
     "output_type": "stream",
     "text": [
      "<class 'pandas.core.frame.DataFrame'>\n",
      "RangeIndex: 2 entries, 0 to 1\n",
      "Data columns (total 8 columns):\n",
      " #   Column                 Non-Null Count  Dtype \n",
      "---  ------                 --------------  ----- \n",
      " 0   messages_included      2 non-null      int64 \n",
      " 1   mb_per_month_included  2 non-null      int64 \n",
      " 2   minutes_included       2 non-null      int64 \n",
      " 3   rub_monthly_fee        2 non-null      int64 \n",
      " 4   rub_per_gb             2 non-null      int64 \n",
      " 5   rub_per_message        2 non-null      int64 \n",
      " 6   rub_per_minute         2 non-null      int64 \n",
      " 7   tariff_name            2 non-null      object\n",
      "dtypes: int64(7), object(1)\n",
      "memory usage: 256.0+ bytes\n"
     ]
    },
    {
     "data": {
      "text/plain": [
       "None"
      ]
     },
     "metadata": {},
     "output_type": "display_data"
    }
   ],
   "source": [
    "# Выводим информацию о таблицах\n",
    "\n",
    "for i in data_list:\n",
    "    display(i.info())"
   ]
  },
  {
   "cell_type": "markdown",
   "metadata": {},
   "source": [
    "### Выводы\n",
    "\n",
    "Исходные данные декомпозированы на 5 таблиц, содержащих в себе следующую информацию:\n",
    "* `data_users` - хранит информацию о пользователях. Основная таблице;\n",
    "* `data_calls` - хранит информацию о звонках. Связана с основной таблицей по идентификатору пользователя (user_id);\n",
    "* `data_messages` - хранит информацию о сообщениях. Связана с основной таблицей по идентификатору пользователя (user_id);\n",
    "* `data_internet` - хранит информацию об интернет-сессиях. Связана с основной таблицей по идентификатору пользователя (user_id);\n",
    "* `data_traffic` - хранит информацию о тарифах. Является вспомогательной таблицей.\n",
    "\n",
    "В следующей главе приведенные таблицы будут более подробно рассмотрены с точки зрения типов и ошибок данных."
   ]
  },
  {
   "cell_type": "markdown",
   "metadata": {},
   "source": [
    "<div class=\"alert alert-block alert-success\">\n",
    "<b>Успех:</b> Отлично, первый взгляд сделан, можем приступать к подготовке данных.\n",
    "</div>"
   ]
  },
  {
   "cell_type": "markdown",
   "metadata": {},
   "source": [
    "## 2. Подготовка данных\n",
    "\n",
    "### 2.1. Предобработка данных"
   ]
  },
  {
   "cell_type": "markdown",
   "metadata": {},
   "source": [
    "В данной главе выполним подготовку данных для последующего исследования. Необходимо проверить данные на наличие дубликатов, пропусков, некорректных типов данных, некорректного наименования колонок и иных проблем, которые внести погрешности в анализ данных.\n",
    "\n",
    "Поочередно детально рассмотрим каждую из таблиц. Начнем с таблицы `data_users`. Выведем первые 10 строк таблицы и основную информацию.\n",
    "\n",
    "#### 2.1.1 Предобработка таблицы `data_users`"
   ]
  },
  {
   "cell_type": "code",
   "execution_count": 77,
   "metadata": {},
   "outputs": [
    {
     "data": {
      "text/html": [
       "<div>\n",
       "<style scoped>\n",
       "    .dataframe tbody tr th:only-of-type {\n",
       "        vertical-align: middle;\n",
       "    }\n",
       "\n",
       "    .dataframe tbody tr th {\n",
       "        vertical-align: top;\n",
       "    }\n",
       "\n",
       "    .dataframe thead th {\n",
       "        text-align: right;\n",
       "    }\n",
       "</style>\n",
       "<table border=\"1\" class=\"dataframe\">\n",
       "  <thead>\n",
       "    <tr style=\"text-align: right;\">\n",
       "      <th></th>\n",
       "      <th>user_id</th>\n",
       "      <th>age</th>\n",
       "      <th>churn_date</th>\n",
       "      <th>city</th>\n",
       "      <th>first_name</th>\n",
       "      <th>last_name</th>\n",
       "      <th>reg_date</th>\n",
       "      <th>tariff</th>\n",
       "    </tr>\n",
       "  </thead>\n",
       "  <tbody>\n",
       "    <tr>\n",
       "      <th>0</th>\n",
       "      <td>1000</td>\n",
       "      <td>52</td>\n",
       "      <td>NaN</td>\n",
       "      <td>Краснодар</td>\n",
       "      <td>Рафаил</td>\n",
       "      <td>Верещагин</td>\n",
       "      <td>2018-05-25</td>\n",
       "      <td>ultra</td>\n",
       "    </tr>\n",
       "    <tr>\n",
       "      <th>1</th>\n",
       "      <td>1001</td>\n",
       "      <td>41</td>\n",
       "      <td>NaN</td>\n",
       "      <td>Москва</td>\n",
       "      <td>Иван</td>\n",
       "      <td>Ежов</td>\n",
       "      <td>2018-11-01</td>\n",
       "      <td>smart</td>\n",
       "    </tr>\n",
       "    <tr>\n",
       "      <th>2</th>\n",
       "      <td>1002</td>\n",
       "      <td>59</td>\n",
       "      <td>NaN</td>\n",
       "      <td>Стерлитамак</td>\n",
       "      <td>Евгений</td>\n",
       "      <td>Абрамович</td>\n",
       "      <td>2018-06-17</td>\n",
       "      <td>smart</td>\n",
       "    </tr>\n",
       "    <tr>\n",
       "      <th>3</th>\n",
       "      <td>1003</td>\n",
       "      <td>23</td>\n",
       "      <td>NaN</td>\n",
       "      <td>Москва</td>\n",
       "      <td>Белла</td>\n",
       "      <td>Белякова</td>\n",
       "      <td>2018-08-17</td>\n",
       "      <td>ultra</td>\n",
       "    </tr>\n",
       "    <tr>\n",
       "      <th>4</th>\n",
       "      <td>1004</td>\n",
       "      <td>68</td>\n",
       "      <td>NaN</td>\n",
       "      <td>Новокузнецк</td>\n",
       "      <td>Татьяна</td>\n",
       "      <td>Авдеенко</td>\n",
       "      <td>2018-05-14</td>\n",
       "      <td>ultra</td>\n",
       "    </tr>\n",
       "    <tr>\n",
       "      <th>5</th>\n",
       "      <td>1005</td>\n",
       "      <td>67</td>\n",
       "      <td>NaN</td>\n",
       "      <td>Набережные Челны</td>\n",
       "      <td>Афанасий</td>\n",
       "      <td>Горлов</td>\n",
       "      <td>2018-01-25</td>\n",
       "      <td>smart</td>\n",
       "    </tr>\n",
       "    <tr>\n",
       "      <th>6</th>\n",
       "      <td>1006</td>\n",
       "      <td>21</td>\n",
       "      <td>NaN</td>\n",
       "      <td>Ульяновск</td>\n",
       "      <td>Леонид</td>\n",
       "      <td>Ермолаев</td>\n",
       "      <td>2018-02-26</td>\n",
       "      <td>smart</td>\n",
       "    </tr>\n",
       "    <tr>\n",
       "      <th>7</th>\n",
       "      <td>1007</td>\n",
       "      <td>65</td>\n",
       "      <td>NaN</td>\n",
       "      <td>Москва</td>\n",
       "      <td>Юна</td>\n",
       "      <td>Березина</td>\n",
       "      <td>2018-04-19</td>\n",
       "      <td>smart</td>\n",
       "    </tr>\n",
       "    <tr>\n",
       "      <th>8</th>\n",
       "      <td>1008</td>\n",
       "      <td>63</td>\n",
       "      <td>NaN</td>\n",
       "      <td>Челябинск</td>\n",
       "      <td>Рустэм</td>\n",
       "      <td>Пономарёв</td>\n",
       "      <td>2018-12-19</td>\n",
       "      <td>smart</td>\n",
       "    </tr>\n",
       "    <tr>\n",
       "      <th>9</th>\n",
       "      <td>1009</td>\n",
       "      <td>24</td>\n",
       "      <td>NaN</td>\n",
       "      <td>Пермь</td>\n",
       "      <td>Василиса</td>\n",
       "      <td>Блинова</td>\n",
       "      <td>2018-03-22</td>\n",
       "      <td>smart</td>\n",
       "    </tr>\n",
       "  </tbody>\n",
       "</table>\n",
       "</div>"
      ],
      "text/plain": [
       "   user_id  age churn_date              city first_name  last_name  \\\n",
       "0     1000   52        NaN         Краснодар     Рафаил  Верещагин   \n",
       "1     1001   41        NaN            Москва       Иван       Ежов   \n",
       "2     1002   59        NaN       Стерлитамак    Евгений  Абрамович   \n",
       "3     1003   23        NaN            Москва      Белла   Белякова   \n",
       "4     1004   68        NaN       Новокузнецк    Татьяна   Авдеенко   \n",
       "5     1005   67        NaN  Набережные Челны   Афанасий     Горлов   \n",
       "6     1006   21        NaN         Ульяновск     Леонид   Ермолаев   \n",
       "7     1007   65        NaN            Москва        Юна   Березина   \n",
       "8     1008   63        NaN         Челябинск     Рустэм  Пономарёв   \n",
       "9     1009   24        NaN             Пермь   Василиса    Блинова   \n",
       "\n",
       "     reg_date tariff  \n",
       "0  2018-05-25  ultra  \n",
       "1  2018-11-01  smart  \n",
       "2  2018-06-17  smart  \n",
       "3  2018-08-17  ultra  \n",
       "4  2018-05-14  ultra  \n",
       "5  2018-01-25  smart  \n",
       "6  2018-02-26  smart  \n",
       "7  2018-04-19  smart  \n",
       "8  2018-12-19  smart  \n",
       "9  2018-03-22  smart  "
      ]
     },
     "metadata": {},
     "output_type": "display_data"
    },
    {
     "name": "stdout",
     "output_type": "stream",
     "text": [
      "<class 'pandas.core.frame.DataFrame'>\n",
      "RangeIndex: 500 entries, 0 to 499\n",
      "Data columns (total 8 columns):\n",
      " #   Column      Non-Null Count  Dtype \n",
      "---  ------      --------------  ----- \n",
      " 0   user_id     500 non-null    int64 \n",
      " 1   age         500 non-null    int64 \n",
      " 2   churn_date  38 non-null     object\n",
      " 3   city        500 non-null    object\n",
      " 4   first_name  500 non-null    object\n",
      " 5   last_name   500 non-null    object\n",
      " 6   reg_date    500 non-null    object\n",
      " 7   tariff      500 non-null    object\n",
      "dtypes: int64(2), object(6)\n",
      "memory usage: 31.4+ KB\n"
     ]
    },
    {
     "data": {
      "text/plain": [
       "None"
      ]
     },
     "metadata": {},
     "output_type": "display_data"
    }
   ],
   "source": [
    "# Вывод таблицы data_users и информацию о ней\n",
    "\n",
    "display(data_users.head(10))\n",
    "display(data_users.info())"
   ]
  },
  {
   "cell_type": "markdown",
   "metadata": {},
   "source": [
    "Для корректной обработки таблицы необходимо понять, за что отвечает каждая из колонок таблицы. Обратимся к документации.\n",
    "\n",
    "* `user_id` - уникальный идентификатор пользователя;\n",
    "* `age` - возраст пользователя (годы);\n",
    "* `churn_date` - дата прекращения пользования тарифом;\n",
    "* `city` - город проживания пользователя;\n",
    "* `first_name` - имя пользователя;\n",
    "* `last_name` - фамилия пользователя;\n",
    "* `reg_date` - дата подключения тарифа;\n",
    "* `tariff` - название тарифного плана.\n",
    "\n",
    "Чек-лист для предобработки данной таблицы:\n",
    "- [x] колонку `churn_date` преобразовать в datetime формат\n",
    "- [x] проанализировать пропуски в колонке `churn_date`\n",
    "- [x] проанализировать `age` на наличие аномалий\n",
    "- [x] проанализировать `city` на наличие неявных дубликатов\n",
    "- [x] колонку `reg_date` преобразовать в datetime формат\n",
    "- [x] проанализировать `tariff` на наличие аномалий"
   ]
  },
  {
   "cell_type": "code",
   "execution_count": 78,
   "metadata": {},
   "outputs": [
    {
     "data": {
      "text/plain": [
       "count    500.00000\n",
       "mean      46.58800\n",
       "std       16.66763\n",
       "min       18.00000\n",
       "25%       32.00000\n",
       "50%       46.00000\n",
       "75%       62.00000\n",
       "max       75.00000\n",
       "Name: age, dtype: float64"
      ]
     },
     "execution_count": 78,
     "metadata": {},
     "output_type": "execute_result"
    }
   ],
   "source": [
    "# Проверяем столбец `age` на наличие аномалий\n",
    "\n",
    "data_users['age'].describe()"
   ]
  },
  {
   "cell_type": "markdown",
   "metadata": {},
   "source": [
    "**Аномалий в столбце `age` не обнаружено.**"
   ]
  },
  {
   "cell_type": "code",
   "execution_count": 79,
   "metadata": {},
   "outputs": [
    {
     "data": {
      "text/plain": [
       "array(['Архангельск', 'Астрахань', 'Балашиха', 'Барнаул', 'Белгород',\n",
       "       'Брянск', 'Владивосток', 'Владикавказ', 'Владимир', 'Волгоград',\n",
       "       'Волжский', 'Вологда', 'Воронеж', 'Грозный', 'Екатеринбург',\n",
       "       'Иваново', 'Ижевск', 'Иркутск', 'Казань', 'Калининград', 'Калуга',\n",
       "       'Кемерово', 'Киров', 'Кострома', 'Краснодар', 'Красноярск',\n",
       "       'Курган', 'Курск', 'Липецк', 'Магнитогорск', 'Махачкала', 'Москва',\n",
       "       'Мурманск', 'Набережные Челны', 'Нижневартовск', 'Нижний Новгород',\n",
       "       'Нижний Тагил', 'Новокузнецк', 'Новороссийск', 'Новосибирск',\n",
       "       'Омск', 'Оренбург', 'Орёл', 'Пенза', 'Пермь', 'Петрозаводск',\n",
       "       'Подольск', 'Ростов-на-Дону', 'Рязань', 'Самара',\n",
       "       'Санкт-Петербург', 'Саранск', 'Саратов', 'Севастополь', 'Смоленск',\n",
       "       'Сочи', 'Ставрополь', 'Стерлитамак', 'Сургут', 'Тамбов', 'Тверь',\n",
       "       'Тольятти', 'Томск', 'Тула', 'Тюмень', 'Улан-Удэ', 'Ульяновск',\n",
       "       'Уфа', 'Хабаровск', 'Химки', 'Чебоксары', 'Челябинск', 'Череповец',\n",
       "       'Чита', 'Якутск', 'Ярославль'], dtype=object)"
      ]
     },
     "execution_count": 79,
     "metadata": {},
     "output_type": "execute_result"
    }
   ],
   "source": [
    "# Проверяем столбец `city` на неявных дубликатов\n",
    "\n",
    "data_users['city'].sort_values().unique()"
   ]
  },
  {
   "cell_type": "markdown",
   "metadata": {},
   "source": [
    "**Неявные дубликаты в столбце `age` не обнаружены.**"
   ]
  },
  {
   "cell_type": "code",
   "execution_count": 80,
   "metadata": {},
   "outputs": [
    {
     "data": {
      "text/plain": [
       "smart    351\n",
       "ultra    149\n",
       "Name: tariff, dtype: int64"
      ]
     },
     "execution_count": 80,
     "metadata": {},
     "output_type": "execute_result"
    }
   ],
   "source": [
    "# Проверяем столбец `tariff` на неявные дубликатов\n",
    "\n",
    "data_users['tariff'].value_counts()"
   ]
  },
  {
   "cell_type": "markdown",
   "metadata": {},
   "source": [
    "**Аномалии в столбце `age` не обнаружены.**"
   ]
  },
  {
   "cell_type": "markdown",
   "metadata": {},
   "source": [
    "Пропуски в колонке `churn_date`, согласно полученной документации, говорят о том, что клиент в настоящее время пользуется данным тарифом.\n",
    "\n",
    "Для избавления от пропущенных значений, заменим `NaN` в столбце `churn_date` на значение `2038-01-19`, учитывая проблему \"2038 года\".\n",
    "\n",
    "В последующем анализе учтем, что дата `2038-01-19` сигнализирует о том, что тариф в настоящее время активен."
   ]
  },
  {
   "cell_type": "code",
   "execution_count": 81,
   "metadata": {},
   "outputs": [
    {
     "data": {
      "text/html": [
       "<div>\n",
       "<style scoped>\n",
       "    .dataframe tbody tr th:only-of-type {\n",
       "        vertical-align: middle;\n",
       "    }\n",
       "\n",
       "    .dataframe tbody tr th {\n",
       "        vertical-align: top;\n",
       "    }\n",
       "\n",
       "    .dataframe thead th {\n",
       "        text-align: right;\n",
       "    }\n",
       "</style>\n",
       "<table border=\"1\" class=\"dataframe\">\n",
       "  <thead>\n",
       "    <tr style=\"text-align: right;\">\n",
       "      <th></th>\n",
       "      <th>user_id</th>\n",
       "      <th>age</th>\n",
       "      <th>churn_date</th>\n",
       "      <th>city</th>\n",
       "      <th>first_name</th>\n",
       "      <th>last_name</th>\n",
       "      <th>reg_date</th>\n",
       "      <th>tariff</th>\n",
       "    </tr>\n",
       "  </thead>\n",
       "  <tbody>\n",
       "    <tr>\n",
       "      <th>19</th>\n",
       "      <td>1019</td>\n",
       "      <td>63</td>\n",
       "      <td>2018-10-05</td>\n",
       "      <td>Томск</td>\n",
       "      <td>Игнатий</td>\n",
       "      <td>Круглов</td>\n",
       "      <td>2018-05-16</td>\n",
       "      <td>ultra</td>\n",
       "    </tr>\n",
       "    <tr>\n",
       "      <th>20</th>\n",
       "      <td>1020</td>\n",
       "      <td>59</td>\n",
       "      <td>2018-12-18</td>\n",
       "      <td>Чита</td>\n",
       "      <td>Тала</td>\n",
       "      <td>Костина</td>\n",
       "      <td>2018-10-22</td>\n",
       "      <td>smart</td>\n",
       "    </tr>\n",
       "    <tr>\n",
       "      <th>34</th>\n",
       "      <td>1034</td>\n",
       "      <td>66</td>\n",
       "      <td>2018-11-21</td>\n",
       "      <td>Вологда</td>\n",
       "      <td>Святослав</td>\n",
       "      <td>Бондарев</td>\n",
       "      <td>2018-08-26</td>\n",
       "      <td>smart</td>\n",
       "    </tr>\n",
       "    <tr>\n",
       "      <th>50</th>\n",
       "      <td>1050</td>\n",
       "      <td>44</td>\n",
       "      <td>2018-10-03</td>\n",
       "      <td>Тюмень</td>\n",
       "      <td>Рузана</td>\n",
       "      <td>Аничкина</td>\n",
       "      <td>2018-06-16</td>\n",
       "      <td>ultra</td>\n",
       "    </tr>\n",
       "    <tr>\n",
       "      <th>51</th>\n",
       "      <td>1051</td>\n",
       "      <td>37</td>\n",
       "      <td>2018-10-14</td>\n",
       "      <td>Москва</td>\n",
       "      <td>Кристина</td>\n",
       "      <td>Сомова</td>\n",
       "      <td>2018-05-28</td>\n",
       "      <td>smart</td>\n",
       "    </tr>\n",
       "    <tr>\n",
       "      <th>56</th>\n",
       "      <td>1056</td>\n",
       "      <td>73</td>\n",
       "      <td>2018-10-14</td>\n",
       "      <td>Иркутск</td>\n",
       "      <td>Радислав</td>\n",
       "      <td>Артемьев</td>\n",
       "      <td>2018-04-13</td>\n",
       "      <td>smart</td>\n",
       "    </tr>\n",
       "    <tr>\n",
       "      <th>62</th>\n",
       "      <td>1062</td>\n",
       "      <td>24</td>\n",
       "      <td>2018-12-09</td>\n",
       "      <td>Москва</td>\n",
       "      <td>Александр</td>\n",
       "      <td>Коршунов</td>\n",
       "      <td>2018-11-16</td>\n",
       "      <td>smart</td>\n",
       "    </tr>\n",
       "    <tr>\n",
       "      <th>63</th>\n",
       "      <td>1063</td>\n",
       "      <td>45</td>\n",
       "      <td>2018-12-11</td>\n",
       "      <td>Тула</td>\n",
       "      <td>Таира</td>\n",
       "      <td>Климова</td>\n",
       "      <td>2018-04-12</td>\n",
       "      <td>ultra</td>\n",
       "    </tr>\n",
       "    <tr>\n",
       "      <th>64</th>\n",
       "      <td>1064</td>\n",
       "      <td>55</td>\n",
       "      <td>2018-12-26</td>\n",
       "      <td>Якутск</td>\n",
       "      <td>Динара</td>\n",
       "      <td>Алфеева</td>\n",
       "      <td>2018-03-17</td>\n",
       "      <td>smart</td>\n",
       "    </tr>\n",
       "    <tr>\n",
       "      <th>65</th>\n",
       "      <td>1065</td>\n",
       "      <td>53</td>\n",
       "      <td>2018-12-09</td>\n",
       "      <td>Москва</td>\n",
       "      <td>Роза</td>\n",
       "      <td>Игнатова</td>\n",
       "      <td>2018-03-08</td>\n",
       "      <td>smart</td>\n",
       "    </tr>\n",
       "  </tbody>\n",
       "</table>\n",
       "</div>"
      ],
      "text/plain": [
       "    user_id  age  churn_date     city first_name last_name    reg_date tariff\n",
       "19     1019   63  2018-10-05    Томск    Игнатий   Круглов  2018-05-16  ultra\n",
       "20     1020   59  2018-12-18     Чита       Тала   Костина  2018-10-22  smart\n",
       "34     1034   66  2018-11-21  Вологда  Святослав  Бондарев  2018-08-26  smart\n",
       "50     1050   44  2018-10-03   Тюмень     Рузана  Аничкина  2018-06-16  ultra\n",
       "51     1051   37  2018-10-14   Москва   Кристина    Сомова  2018-05-28  smart\n",
       "56     1056   73  2018-10-14  Иркутск   Радислав  Артемьев  2018-04-13  smart\n",
       "62     1062   24  2018-12-09   Москва  Александр  Коршунов  2018-11-16  smart\n",
       "63     1063   45  2018-12-11     Тула      Таира   Климова  2018-04-12  ultra\n",
       "64     1064   55  2018-12-26   Якутск     Динара   Алфеева  2018-03-17  smart\n",
       "65     1065   53  2018-12-09   Москва       Роза  Игнатова  2018-03-08  smart"
      ]
     },
     "execution_count": 81,
     "metadata": {},
     "output_type": "execute_result"
    }
   ],
   "source": [
    "# Выведим все строки, где churn_date != NaN.\n",
    "# Воспользуемся для этого особым свойством NaN: NaN не равно самому себе.\n",
    "# С помощью query выводим все строки, для которых Age == Age, т.е. Age != NaN.\n",
    "\n",
    "data_users.query('churn_date == churn_date').head(10)"
   ]
  },
  {
   "cell_type": "code",
   "execution_count": 82,
   "metadata": {},
   "outputs": [],
   "source": [
    "# Заполняем пропущенные значения в столбце `churn_date`\n",
    "\n",
    "data_users['churn_date'] = data_users['churn_date'].fillna('2038-01-19')"
   ]
  },
  {
   "cell_type": "code",
   "execution_count": 83,
   "metadata": {},
   "outputs": [],
   "source": [
    "# Преобразуем столбы `churn_date` и `reg_date` к типу данных datetime\n",
    "\n",
    "data_users['churn_date'] = pd.to_datetime(data_users['churn_date'], format='%Y-%m-%d')\n",
    "data_users['reg_date'] = pd.to_datetime(data_users['reg_date'], format='%Y-%m-%d')"
   ]
  },
  {
   "cell_type": "markdown",
   "metadata": {},
   "source": [
    "**Пропуски таблицы `data_users` заполнены. Столбцы `churn_date`, `reg_date` приведены к типу `datetime`**"
   ]
  },
  {
   "cell_type": "code",
   "execution_count": 84,
   "metadata": {},
   "outputs": [
    {
     "name": "stdout",
     "output_type": "stream",
     "text": [
      "Число дубликатов в таблице data_users: 0\n"
     ]
    }
   ],
   "source": [
    "# Проверим таблицу на наличие явных дубликатов\n",
    "\n",
    "print('Число дубликатов в таблице data_users:', data_users.duplicated().sum())"
   ]
  },
  {
   "cell_type": "markdown",
   "metadata": {},
   "source": [
    "**Дубликаты в таблице `data_users` отсутствуют.**"
   ]
  },
  {
   "cell_type": "code",
   "execution_count": 85,
   "metadata": {},
   "outputs": [
    {
     "data": {
      "text/html": [
       "<div>\n",
       "<style scoped>\n",
       "    .dataframe tbody tr th:only-of-type {\n",
       "        vertical-align: middle;\n",
       "    }\n",
       "\n",
       "    .dataframe tbody tr th {\n",
       "        vertical-align: top;\n",
       "    }\n",
       "\n",
       "    .dataframe thead th {\n",
       "        text-align: right;\n",
       "    }\n",
       "</style>\n",
       "<table border=\"1\" class=\"dataframe\">\n",
       "  <thead>\n",
       "    <tr style=\"text-align: right;\">\n",
       "      <th></th>\n",
       "      <th>user_id</th>\n",
       "      <th>age</th>\n",
       "      <th>churn_date</th>\n",
       "      <th>city</th>\n",
       "      <th>first_name</th>\n",
       "      <th>last_name</th>\n",
       "      <th>reg_date</th>\n",
       "      <th>tariff</th>\n",
       "    </tr>\n",
       "  </thead>\n",
       "  <tbody>\n",
       "    <tr>\n",
       "      <th>0</th>\n",
       "      <td>1000</td>\n",
       "      <td>52</td>\n",
       "      <td>2038-01-19</td>\n",
       "      <td>Краснодар</td>\n",
       "      <td>Рафаил</td>\n",
       "      <td>Верещагин</td>\n",
       "      <td>2018-05-25</td>\n",
       "      <td>ultra</td>\n",
       "    </tr>\n",
       "    <tr>\n",
       "      <th>1</th>\n",
       "      <td>1001</td>\n",
       "      <td>41</td>\n",
       "      <td>2038-01-19</td>\n",
       "      <td>Москва</td>\n",
       "      <td>Иван</td>\n",
       "      <td>Ежов</td>\n",
       "      <td>2018-11-01</td>\n",
       "      <td>smart</td>\n",
       "    </tr>\n",
       "    <tr>\n",
       "      <th>2</th>\n",
       "      <td>1002</td>\n",
       "      <td>59</td>\n",
       "      <td>2038-01-19</td>\n",
       "      <td>Стерлитамак</td>\n",
       "      <td>Евгений</td>\n",
       "      <td>Абрамович</td>\n",
       "      <td>2018-06-17</td>\n",
       "      <td>smart</td>\n",
       "    </tr>\n",
       "    <tr>\n",
       "      <th>3</th>\n",
       "      <td>1003</td>\n",
       "      <td>23</td>\n",
       "      <td>2038-01-19</td>\n",
       "      <td>Москва</td>\n",
       "      <td>Белла</td>\n",
       "      <td>Белякова</td>\n",
       "      <td>2018-08-17</td>\n",
       "      <td>ultra</td>\n",
       "    </tr>\n",
       "    <tr>\n",
       "      <th>4</th>\n",
       "      <td>1004</td>\n",
       "      <td>68</td>\n",
       "      <td>2038-01-19</td>\n",
       "      <td>Новокузнецк</td>\n",
       "      <td>Татьяна</td>\n",
       "      <td>Авдеенко</td>\n",
       "      <td>2018-05-14</td>\n",
       "      <td>ultra</td>\n",
       "    </tr>\n",
       "    <tr>\n",
       "      <th>5</th>\n",
       "      <td>1005</td>\n",
       "      <td>67</td>\n",
       "      <td>2038-01-19</td>\n",
       "      <td>Набережные Челны</td>\n",
       "      <td>Афанасий</td>\n",
       "      <td>Горлов</td>\n",
       "      <td>2018-01-25</td>\n",
       "      <td>smart</td>\n",
       "    </tr>\n",
       "    <tr>\n",
       "      <th>6</th>\n",
       "      <td>1006</td>\n",
       "      <td>21</td>\n",
       "      <td>2038-01-19</td>\n",
       "      <td>Ульяновск</td>\n",
       "      <td>Леонид</td>\n",
       "      <td>Ермолаев</td>\n",
       "      <td>2018-02-26</td>\n",
       "      <td>smart</td>\n",
       "    </tr>\n",
       "    <tr>\n",
       "      <th>7</th>\n",
       "      <td>1007</td>\n",
       "      <td>65</td>\n",
       "      <td>2038-01-19</td>\n",
       "      <td>Москва</td>\n",
       "      <td>Юна</td>\n",
       "      <td>Березина</td>\n",
       "      <td>2018-04-19</td>\n",
       "      <td>smart</td>\n",
       "    </tr>\n",
       "    <tr>\n",
       "      <th>8</th>\n",
       "      <td>1008</td>\n",
       "      <td>63</td>\n",
       "      <td>2038-01-19</td>\n",
       "      <td>Челябинск</td>\n",
       "      <td>Рустэм</td>\n",
       "      <td>Пономарёв</td>\n",
       "      <td>2018-12-19</td>\n",
       "      <td>smart</td>\n",
       "    </tr>\n",
       "    <tr>\n",
       "      <th>9</th>\n",
       "      <td>1009</td>\n",
       "      <td>24</td>\n",
       "      <td>2038-01-19</td>\n",
       "      <td>Пермь</td>\n",
       "      <td>Василиса</td>\n",
       "      <td>Блинова</td>\n",
       "      <td>2018-03-22</td>\n",
       "      <td>smart</td>\n",
       "    </tr>\n",
       "  </tbody>\n",
       "</table>\n",
       "</div>"
      ],
      "text/plain": [
       "   user_id  age churn_date              city first_name  last_name   reg_date  \\\n",
       "0     1000   52 2038-01-19         Краснодар     Рафаил  Верещагин 2018-05-25   \n",
       "1     1001   41 2038-01-19            Москва       Иван       Ежов 2018-11-01   \n",
       "2     1002   59 2038-01-19       Стерлитамак    Евгений  Абрамович 2018-06-17   \n",
       "3     1003   23 2038-01-19            Москва      Белла   Белякова 2018-08-17   \n",
       "4     1004   68 2038-01-19       Новокузнецк    Татьяна   Авдеенко 2018-05-14   \n",
       "5     1005   67 2038-01-19  Набережные Челны   Афанасий     Горлов 2018-01-25   \n",
       "6     1006   21 2038-01-19         Ульяновск     Леонид   Ермолаев 2018-02-26   \n",
       "7     1007   65 2038-01-19            Москва        Юна   Березина 2018-04-19   \n",
       "8     1008   63 2038-01-19         Челябинск     Рустэм  Пономарёв 2018-12-19   \n",
       "9     1009   24 2038-01-19             Пермь   Василиса    Блинова 2018-03-22   \n",
       "\n",
       "  tariff  \n",
       "0  ultra  \n",
       "1  smart  \n",
       "2  smart  \n",
       "3  ultra  \n",
       "4  ultra  \n",
       "5  smart  \n",
       "6  smart  \n",
       "7  smart  \n",
       "8  smart  \n",
       "9  smart  "
      ]
     },
     "metadata": {},
     "output_type": "display_data"
    },
    {
     "name": "stdout",
     "output_type": "stream",
     "text": [
      "<class 'pandas.core.frame.DataFrame'>\n",
      "RangeIndex: 500 entries, 0 to 499\n",
      "Data columns (total 8 columns):\n",
      " #   Column      Non-Null Count  Dtype         \n",
      "---  ------      --------------  -----         \n",
      " 0   user_id     500 non-null    int64         \n",
      " 1   age         500 non-null    int64         \n",
      " 2   churn_date  500 non-null    datetime64[ns]\n",
      " 3   city        500 non-null    object        \n",
      " 4   first_name  500 non-null    object        \n",
      " 5   last_name   500 non-null    object        \n",
      " 6   reg_date    500 non-null    datetime64[ns]\n",
      " 7   tariff      500 non-null    object        \n",
      "dtypes: datetime64[ns](2), int64(2), object(4)\n",
      "memory usage: 31.4+ KB\n"
     ]
    },
    {
     "data": {
      "text/plain": [
       "None"
      ]
     },
     "metadata": {},
     "output_type": "display_data"
    }
   ],
   "source": [
    "# Проверяем результаты предобработки таблицы `data_users`\n",
    "\n",
    "display(data_users.head(10))\n",
    "display(data_users.info())"
   ]
  },
  {
   "cell_type": "markdown",
   "metadata": {},
   "source": [
    "**Предобработка таблицы `data_users` завершена.**"
   ]
  },
  {
   "cell_type": "markdown",
   "metadata": {},
   "source": [
    "#### 2.1.2 Предобработка таблицы `data_calls`"
   ]
  },
  {
   "cell_type": "code",
   "execution_count": 86,
   "metadata": {},
   "outputs": [
    {
     "data": {
      "text/html": [
       "<div>\n",
       "<style scoped>\n",
       "    .dataframe tbody tr th:only-of-type {\n",
       "        vertical-align: middle;\n",
       "    }\n",
       "\n",
       "    .dataframe tbody tr th {\n",
       "        vertical-align: top;\n",
       "    }\n",
       "\n",
       "    .dataframe thead th {\n",
       "        text-align: right;\n",
       "    }\n",
       "</style>\n",
       "<table border=\"1\" class=\"dataframe\">\n",
       "  <thead>\n",
       "    <tr style=\"text-align: right;\">\n",
       "      <th></th>\n",
       "      <th>id</th>\n",
       "      <th>call_date</th>\n",
       "      <th>duration</th>\n",
       "      <th>user_id</th>\n",
       "    </tr>\n",
       "  </thead>\n",
       "  <tbody>\n",
       "    <tr>\n",
       "      <th>0</th>\n",
       "      <td>1000_0</td>\n",
       "      <td>2018-07-25</td>\n",
       "      <td>0.00</td>\n",
       "      <td>1000</td>\n",
       "    </tr>\n",
       "    <tr>\n",
       "      <th>1</th>\n",
       "      <td>1000_1</td>\n",
       "      <td>2018-08-17</td>\n",
       "      <td>0.00</td>\n",
       "      <td>1000</td>\n",
       "    </tr>\n",
       "    <tr>\n",
       "      <th>2</th>\n",
       "      <td>1000_2</td>\n",
       "      <td>2018-06-11</td>\n",
       "      <td>2.85</td>\n",
       "      <td>1000</td>\n",
       "    </tr>\n",
       "    <tr>\n",
       "      <th>3</th>\n",
       "      <td>1000_3</td>\n",
       "      <td>2018-09-21</td>\n",
       "      <td>13.80</td>\n",
       "      <td>1000</td>\n",
       "    </tr>\n",
       "    <tr>\n",
       "      <th>4</th>\n",
       "      <td>1000_4</td>\n",
       "      <td>2018-12-15</td>\n",
       "      <td>5.18</td>\n",
       "      <td>1000</td>\n",
       "    </tr>\n",
       "    <tr>\n",
       "      <th>5</th>\n",
       "      <td>1000_5</td>\n",
       "      <td>2018-11-02</td>\n",
       "      <td>0.00</td>\n",
       "      <td>1000</td>\n",
       "    </tr>\n",
       "    <tr>\n",
       "      <th>6</th>\n",
       "      <td>1000_6</td>\n",
       "      <td>2018-10-18</td>\n",
       "      <td>0.00</td>\n",
       "      <td>1000</td>\n",
       "    </tr>\n",
       "    <tr>\n",
       "      <th>7</th>\n",
       "      <td>1000_7</td>\n",
       "      <td>2018-08-22</td>\n",
       "      <td>18.31</td>\n",
       "      <td>1000</td>\n",
       "    </tr>\n",
       "    <tr>\n",
       "      <th>8</th>\n",
       "      <td>1000_8</td>\n",
       "      <td>2018-09-15</td>\n",
       "      <td>18.44</td>\n",
       "      <td>1000</td>\n",
       "    </tr>\n",
       "    <tr>\n",
       "      <th>9</th>\n",
       "      <td>1000_9</td>\n",
       "      <td>2018-08-15</td>\n",
       "      <td>0.00</td>\n",
       "      <td>1000</td>\n",
       "    </tr>\n",
       "  </tbody>\n",
       "</table>\n",
       "</div>"
      ],
      "text/plain": [
       "       id   call_date  duration  user_id\n",
       "0  1000_0  2018-07-25      0.00     1000\n",
       "1  1000_1  2018-08-17      0.00     1000\n",
       "2  1000_2  2018-06-11      2.85     1000\n",
       "3  1000_3  2018-09-21     13.80     1000\n",
       "4  1000_4  2018-12-15      5.18     1000\n",
       "5  1000_5  2018-11-02      0.00     1000\n",
       "6  1000_6  2018-10-18      0.00     1000\n",
       "7  1000_7  2018-08-22     18.31     1000\n",
       "8  1000_8  2018-09-15     18.44     1000\n",
       "9  1000_9  2018-08-15      0.00     1000"
      ]
     },
     "metadata": {},
     "output_type": "display_data"
    },
    {
     "name": "stdout",
     "output_type": "stream",
     "text": [
      "<class 'pandas.core.frame.DataFrame'>\n",
      "RangeIndex: 202607 entries, 0 to 202606\n",
      "Data columns (total 4 columns):\n",
      " #   Column     Non-Null Count   Dtype  \n",
      "---  ------     --------------   -----  \n",
      " 0   id         202607 non-null  object \n",
      " 1   call_date  202607 non-null  object \n",
      " 2   duration   202607 non-null  float64\n",
      " 3   user_id    202607 non-null  int64  \n",
      "dtypes: float64(1), int64(1), object(2)\n",
      "memory usage: 6.2+ MB\n"
     ]
    },
    {
     "data": {
      "text/plain": [
       "None"
      ]
     },
     "metadata": {},
     "output_type": "display_data"
    }
   ],
   "source": [
    "# Вывод таблицы data_calls и информацию о ней\n",
    "\n",
    "display(data_calls.head(10))\n",
    "display(data_calls.info())"
   ]
  },
  {
   "cell_type": "markdown",
   "metadata": {},
   "source": [
    "Для корректной обработки таблицы необходимо понять, за что отвечает каждая из колонок таблицы. Обратимся к документации.\n",
    "\n",
    "* `id` - уникальный номер звонка. Предполагается, что в форме записи x_y (x - id пользователя, y - id звонка пользователя);\n",
    "* `call_date` - дата звонка;\n",
    "* `duration` - длительность звонка в минутах;\n",
    "* `user_id` - идентификатор пользователя, сделавшего звонок.\n",
    "\n",
    "Чек-лист для предобработки данной таблицы:\n",
    "- [x] столбец `call_date` преобразован к типу `datetime`\n",
    "- [x] данные в столбце `duration` округлены по правилам документации\n",
    "- [x] столбец `duration` приведен с целочисленному типу\n",
    "- [x] проверить `duration` на наличие аномалий\n",
    "- [x] проверить таблицу на наличие дубликатов"
   ]
  },
  {
   "cell_type": "code",
   "execution_count": 87,
   "metadata": {},
   "outputs": [],
   "source": [
    "# Преобразуем столбец `call_date` к типу данных datetime\n",
    "\n",
    "data_calls['call_date'] = pd.to_datetime(data_calls['call_date'], format='%Y-%m-%d')"
   ]
  },
  {
   "cell_type": "code",
   "execution_count": 88,
   "metadata": {},
   "outputs": [],
   "source": [
    "# Округлим данные в столбце `duration` по правилам, указанным в документации\n",
    "# Согласно документации звонки с нулевой продолжительностью - это пропущенные звонки. Округлять их не требуется.\n",
    "# Каждый звонок округляется отдельно. Даже если он длился 1 секунду, будет засчитан как 1 минута. \n",
    "# Исходя из требований округлим не нулевые значения столбца `duration` в большую сторону до целого числа.\n",
    "\n",
    "data_calls['duration'] = np.ceil(data_calls['duration']).astype(int)"
   ]
  },
  {
   "cell_type": "markdown",
   "metadata": {},
   "source": [
    "<div class=\"alert alert-block alert-success\">\n",
    "<b>Успех:</b> Здорово, что используешь np.ceil\n",
    "</div>"
   ]
  },
  {
   "cell_type": "code",
   "execution_count": 89,
   "metadata": {},
   "outputs": [
    {
     "data": {
      "text/plain": [
       "count    202607.000000\n",
       "mean          7.158198\n",
       "std           5.959173\n",
       "min           0.000000\n",
       "25%           2.000000\n",
       "50%           6.000000\n",
       "75%          11.000000\n",
       "max          38.000000\n",
       "Name: duration, dtype: float64"
      ]
     },
     "execution_count": 89,
     "metadata": {},
     "output_type": "execute_result"
    }
   ],
   "source": [
    "# Проверим стобец `duration` на наличие аномалий\n",
    "\n",
    "data_calls['duration'].describe()"
   ]
  },
  {
   "cell_type": "markdown",
   "metadata": {},
   "source": [
    "**Аномалии в столбце `duration` не обнаружены.**"
   ]
  },
  {
   "cell_type": "code",
   "execution_count": 90,
   "metadata": {},
   "outputs": [
    {
     "name": "stdout",
     "output_type": "stream",
     "text": [
      "Число дубликатов в таблице data_calls: 0\n"
     ]
    }
   ],
   "source": [
    "# Проверяем таблицу на наличие дубликатов\n",
    "\n",
    "print('Число дубликатов в таблице data_calls:', data_calls.duplicated().sum())"
   ]
  },
  {
   "cell_type": "markdown",
   "metadata": {},
   "source": [
    "**Дубликаты в таблице `data_calls` отсутствуют.**"
   ]
  },
  {
   "cell_type": "code",
   "execution_count": 91,
   "metadata": {},
   "outputs": [
    {
     "data": {
      "text/html": [
       "<div>\n",
       "<style scoped>\n",
       "    .dataframe tbody tr th:only-of-type {\n",
       "        vertical-align: middle;\n",
       "    }\n",
       "\n",
       "    .dataframe tbody tr th {\n",
       "        vertical-align: top;\n",
       "    }\n",
       "\n",
       "    .dataframe thead th {\n",
       "        text-align: right;\n",
       "    }\n",
       "</style>\n",
       "<table border=\"1\" class=\"dataframe\">\n",
       "  <thead>\n",
       "    <tr style=\"text-align: right;\">\n",
       "      <th></th>\n",
       "      <th>id</th>\n",
       "      <th>call_date</th>\n",
       "      <th>duration</th>\n",
       "      <th>user_id</th>\n",
       "    </tr>\n",
       "  </thead>\n",
       "  <tbody>\n",
       "    <tr>\n",
       "      <th>0</th>\n",
       "      <td>1000_0</td>\n",
       "      <td>2018-07-25</td>\n",
       "      <td>0</td>\n",
       "      <td>1000</td>\n",
       "    </tr>\n",
       "    <tr>\n",
       "      <th>1</th>\n",
       "      <td>1000_1</td>\n",
       "      <td>2018-08-17</td>\n",
       "      <td>0</td>\n",
       "      <td>1000</td>\n",
       "    </tr>\n",
       "    <tr>\n",
       "      <th>2</th>\n",
       "      <td>1000_2</td>\n",
       "      <td>2018-06-11</td>\n",
       "      <td>3</td>\n",
       "      <td>1000</td>\n",
       "    </tr>\n",
       "    <tr>\n",
       "      <th>3</th>\n",
       "      <td>1000_3</td>\n",
       "      <td>2018-09-21</td>\n",
       "      <td>14</td>\n",
       "      <td>1000</td>\n",
       "    </tr>\n",
       "    <tr>\n",
       "      <th>4</th>\n",
       "      <td>1000_4</td>\n",
       "      <td>2018-12-15</td>\n",
       "      <td>6</td>\n",
       "      <td>1000</td>\n",
       "    </tr>\n",
       "    <tr>\n",
       "      <th>5</th>\n",
       "      <td>1000_5</td>\n",
       "      <td>2018-11-02</td>\n",
       "      <td>0</td>\n",
       "      <td>1000</td>\n",
       "    </tr>\n",
       "    <tr>\n",
       "      <th>6</th>\n",
       "      <td>1000_6</td>\n",
       "      <td>2018-10-18</td>\n",
       "      <td>0</td>\n",
       "      <td>1000</td>\n",
       "    </tr>\n",
       "    <tr>\n",
       "      <th>7</th>\n",
       "      <td>1000_7</td>\n",
       "      <td>2018-08-22</td>\n",
       "      <td>19</td>\n",
       "      <td>1000</td>\n",
       "    </tr>\n",
       "    <tr>\n",
       "      <th>8</th>\n",
       "      <td>1000_8</td>\n",
       "      <td>2018-09-15</td>\n",
       "      <td>19</td>\n",
       "      <td>1000</td>\n",
       "    </tr>\n",
       "    <tr>\n",
       "      <th>9</th>\n",
       "      <td>1000_9</td>\n",
       "      <td>2018-08-15</td>\n",
       "      <td>0</td>\n",
       "      <td>1000</td>\n",
       "    </tr>\n",
       "  </tbody>\n",
       "</table>\n",
       "</div>"
      ],
      "text/plain": [
       "       id  call_date  duration  user_id\n",
       "0  1000_0 2018-07-25         0     1000\n",
       "1  1000_1 2018-08-17         0     1000\n",
       "2  1000_2 2018-06-11         3     1000\n",
       "3  1000_3 2018-09-21        14     1000\n",
       "4  1000_4 2018-12-15         6     1000\n",
       "5  1000_5 2018-11-02         0     1000\n",
       "6  1000_6 2018-10-18         0     1000\n",
       "7  1000_7 2018-08-22        19     1000\n",
       "8  1000_8 2018-09-15        19     1000\n",
       "9  1000_9 2018-08-15         0     1000"
      ]
     },
     "metadata": {},
     "output_type": "display_data"
    },
    {
     "name": "stdout",
     "output_type": "stream",
     "text": [
      "<class 'pandas.core.frame.DataFrame'>\n",
      "RangeIndex: 202607 entries, 0 to 202606\n",
      "Data columns (total 4 columns):\n",
      " #   Column     Non-Null Count   Dtype         \n",
      "---  ------     --------------   -----         \n",
      " 0   id         202607 non-null  object        \n",
      " 1   call_date  202607 non-null  datetime64[ns]\n",
      " 2   duration   202607 non-null  int64         \n",
      " 3   user_id    202607 non-null  int64         \n",
      "dtypes: datetime64[ns](1), int64(2), object(1)\n",
      "memory usage: 6.2+ MB\n"
     ]
    },
    {
     "data": {
      "text/plain": [
       "None"
      ]
     },
     "metadata": {},
     "output_type": "display_data"
    }
   ],
   "source": [
    "# Проверяем результаты предобработки таблицы `data_calls`\n",
    "\n",
    "display(data_calls.head(10))\n",
    "display(data_calls.info())"
   ]
  },
  {
   "cell_type": "markdown",
   "metadata": {},
   "source": [
    "**Предобработка таблицы `data_calls` завершена.**"
   ]
  },
  {
   "cell_type": "markdown",
   "metadata": {},
   "source": [
    "#### 2.1.3 Предобработка таблицы `data_internet`"
   ]
  },
  {
   "cell_type": "code",
   "execution_count": 92,
   "metadata": {},
   "outputs": [
    {
     "data": {
      "text/html": [
       "<div>\n",
       "<style scoped>\n",
       "    .dataframe tbody tr th:only-of-type {\n",
       "        vertical-align: middle;\n",
       "    }\n",
       "\n",
       "    .dataframe tbody tr th {\n",
       "        vertical-align: top;\n",
       "    }\n",
       "\n",
       "    .dataframe thead th {\n",
       "        text-align: right;\n",
       "    }\n",
       "</style>\n",
       "<table border=\"1\" class=\"dataframe\">\n",
       "  <thead>\n",
       "    <tr style=\"text-align: right;\">\n",
       "      <th></th>\n",
       "      <th>Unnamed: 0</th>\n",
       "      <th>id</th>\n",
       "      <th>mb_used</th>\n",
       "      <th>session_date</th>\n",
       "      <th>user_id</th>\n",
       "    </tr>\n",
       "  </thead>\n",
       "  <tbody>\n",
       "    <tr>\n",
       "      <th>0</th>\n",
       "      <td>0</td>\n",
       "      <td>1000_0</td>\n",
       "      <td>112.95</td>\n",
       "      <td>2018-11-25</td>\n",
       "      <td>1000</td>\n",
       "    </tr>\n",
       "    <tr>\n",
       "      <th>1</th>\n",
       "      <td>1</td>\n",
       "      <td>1000_1</td>\n",
       "      <td>1052.81</td>\n",
       "      <td>2018-09-07</td>\n",
       "      <td>1000</td>\n",
       "    </tr>\n",
       "    <tr>\n",
       "      <th>2</th>\n",
       "      <td>2</td>\n",
       "      <td>1000_2</td>\n",
       "      <td>1197.26</td>\n",
       "      <td>2018-06-25</td>\n",
       "      <td>1000</td>\n",
       "    </tr>\n",
       "    <tr>\n",
       "      <th>3</th>\n",
       "      <td>3</td>\n",
       "      <td>1000_3</td>\n",
       "      <td>550.27</td>\n",
       "      <td>2018-08-22</td>\n",
       "      <td>1000</td>\n",
       "    </tr>\n",
       "    <tr>\n",
       "      <th>4</th>\n",
       "      <td>4</td>\n",
       "      <td>1000_4</td>\n",
       "      <td>302.56</td>\n",
       "      <td>2018-09-24</td>\n",
       "      <td>1000</td>\n",
       "    </tr>\n",
       "    <tr>\n",
       "      <th>5</th>\n",
       "      <td>5</td>\n",
       "      <td>1000_5</td>\n",
       "      <td>399.97</td>\n",
       "      <td>2018-10-02</td>\n",
       "      <td>1000</td>\n",
       "    </tr>\n",
       "    <tr>\n",
       "      <th>6</th>\n",
       "      <td>6</td>\n",
       "      <td>1000_6</td>\n",
       "      <td>540.08</td>\n",
       "      <td>2018-09-07</td>\n",
       "      <td>1000</td>\n",
       "    </tr>\n",
       "    <tr>\n",
       "      <th>7</th>\n",
       "      <td>7</td>\n",
       "      <td>1000_7</td>\n",
       "      <td>415.70</td>\n",
       "      <td>2018-07-11</td>\n",
       "      <td>1000</td>\n",
       "    </tr>\n",
       "    <tr>\n",
       "      <th>8</th>\n",
       "      <td>8</td>\n",
       "      <td>1000_8</td>\n",
       "      <td>505.40</td>\n",
       "      <td>2018-10-08</td>\n",
       "      <td>1000</td>\n",
       "    </tr>\n",
       "    <tr>\n",
       "      <th>9</th>\n",
       "      <td>9</td>\n",
       "      <td>1000_9</td>\n",
       "      <td>345.54</td>\n",
       "      <td>2018-09-03</td>\n",
       "      <td>1000</td>\n",
       "    </tr>\n",
       "  </tbody>\n",
       "</table>\n",
       "</div>"
      ],
      "text/plain": [
       "   Unnamed: 0      id  mb_used session_date  user_id\n",
       "0           0  1000_0   112.95   2018-11-25     1000\n",
       "1           1  1000_1  1052.81   2018-09-07     1000\n",
       "2           2  1000_2  1197.26   2018-06-25     1000\n",
       "3           3  1000_3   550.27   2018-08-22     1000\n",
       "4           4  1000_4   302.56   2018-09-24     1000\n",
       "5           5  1000_5   399.97   2018-10-02     1000\n",
       "6           6  1000_6   540.08   2018-09-07     1000\n",
       "7           7  1000_7   415.70   2018-07-11     1000\n",
       "8           8  1000_8   505.40   2018-10-08     1000\n",
       "9           9  1000_9   345.54   2018-09-03     1000"
      ]
     },
     "metadata": {},
     "output_type": "display_data"
    },
    {
     "name": "stdout",
     "output_type": "stream",
     "text": [
      "<class 'pandas.core.frame.DataFrame'>\n",
      "RangeIndex: 149396 entries, 0 to 149395\n",
      "Data columns (total 5 columns):\n",
      " #   Column        Non-Null Count   Dtype  \n",
      "---  ------        --------------   -----  \n",
      " 0   Unnamed: 0    149396 non-null  int64  \n",
      " 1   id            149396 non-null  object \n",
      " 2   mb_used       149396 non-null  float64\n",
      " 3   session_date  149396 non-null  object \n",
      " 4   user_id       149396 non-null  int64  \n",
      "dtypes: float64(1), int64(2), object(2)\n",
      "memory usage: 5.7+ MB\n"
     ]
    },
    {
     "data": {
      "text/plain": [
       "None"
      ]
     },
     "metadata": {},
     "output_type": "display_data"
    }
   ],
   "source": [
    "# Вывод таблицы data_internet и информацию о ней\n",
    "\n",
    "display(data_internet.head(10))\n",
    "display(data_internet.info())"
   ]
  },
  {
   "cell_type": "markdown",
   "metadata": {},
   "source": [
    "Для корректной обработки таблицы необходимо понять, за что отвечает каждая из колонок таблицы. Обратимся к документации.\n",
    "\n",
    "* `id` - уникальный номер сессии. Предполагается, что в форме записи x_y (x - id пользователя, y - id сессии пользователя);\n",
    "* `session_date` - дата сессии;\n",
    "* `mb_used` - объем потраченного за сессию интернет-трафика (в мегабайтах);\n",
    "* `user_id` - идентификатор пользователя, сделавшего звонок.\n",
    "\n",
    "Чек-лист для предобработки данной таблицы:\n",
    "- [x] Определено назначение столбца `Unnamed: 0`\n",
    "- [x] Выполнен анализ столбца `mb_used`\n",
    "- [x] Стобец `session_date` приведен к типу `datetime`\n",
    "- [x] Проверить таблицу на наличие дубликатов"
   ]
  },
  {
   "cell_type": "markdown",
   "metadata": {},
   "source": [
    "В таблице встречается колонка `Unnamed: 0`, информации по данной колонке в документации не присутствует. Вероятнее всего, появление этого столбца - результат работы `pandas.DataFrame.to_csv` без указания `index=False`. \n",
    "\n",
    "Избавимся от \"Индекса по умолчанию\". Для этого перепрочитаем файл с таблицей с добавлением `index_col=[0]`"
   ]
  },
  {
   "cell_type": "code",
   "execution_count": 93,
   "metadata": {},
   "outputs": [
    {
     "data": {
      "text/html": [
       "<div>\n",
       "<style scoped>\n",
       "    .dataframe tbody tr th:only-of-type {\n",
       "        vertical-align: middle;\n",
       "    }\n",
       "\n",
       "    .dataframe tbody tr th {\n",
       "        vertical-align: top;\n",
       "    }\n",
       "\n",
       "    .dataframe thead th {\n",
       "        text-align: right;\n",
       "    }\n",
       "</style>\n",
       "<table border=\"1\" class=\"dataframe\">\n",
       "  <thead>\n",
       "    <tr style=\"text-align: right;\">\n",
       "      <th></th>\n",
       "      <th>id</th>\n",
       "      <th>mb_used</th>\n",
       "      <th>session_date</th>\n",
       "      <th>user_id</th>\n",
       "    </tr>\n",
       "  </thead>\n",
       "  <tbody>\n",
       "    <tr>\n",
       "      <th>0</th>\n",
       "      <td>1000_0</td>\n",
       "      <td>112.95</td>\n",
       "      <td>2018-11-25</td>\n",
       "      <td>1000</td>\n",
       "    </tr>\n",
       "    <tr>\n",
       "      <th>1</th>\n",
       "      <td>1000_1</td>\n",
       "      <td>1052.81</td>\n",
       "      <td>2018-09-07</td>\n",
       "      <td>1000</td>\n",
       "    </tr>\n",
       "    <tr>\n",
       "      <th>2</th>\n",
       "      <td>1000_2</td>\n",
       "      <td>1197.26</td>\n",
       "      <td>2018-06-25</td>\n",
       "      <td>1000</td>\n",
       "    </tr>\n",
       "    <tr>\n",
       "      <th>3</th>\n",
       "      <td>1000_3</td>\n",
       "      <td>550.27</td>\n",
       "      <td>2018-08-22</td>\n",
       "      <td>1000</td>\n",
       "    </tr>\n",
       "    <tr>\n",
       "      <th>4</th>\n",
       "      <td>1000_4</td>\n",
       "      <td>302.56</td>\n",
       "      <td>2018-09-24</td>\n",
       "      <td>1000</td>\n",
       "    </tr>\n",
       "  </tbody>\n",
       "</table>\n",
       "</div>"
      ],
      "text/plain": [
       "       id  mb_used session_date  user_id\n",
       "0  1000_0   112.95   2018-11-25     1000\n",
       "1  1000_1  1052.81   2018-09-07     1000\n",
       "2  1000_2  1197.26   2018-06-25     1000\n",
       "3  1000_3   550.27   2018-08-22     1000\n",
       "4  1000_4   302.56   2018-09-24     1000"
      ]
     },
     "metadata": {},
     "output_type": "display_data"
    }
   ],
   "source": [
    "# Воспользуемся универсальной конструкцией для подгрузки файла как с сервера, так и локально\n",
    "\n",
    "# Локальный путь\n",
    "pth1_3 = 'internet.csv'\n",
    "\n",
    "# Серверный путь\n",
    "pth2_3 = '/datasets/internet.csv'\n",
    "\n",
    "if os.path.exists(pth1_1):\n",
    "    data_internet = pd.read_csv(pth1_3, index_col=[0])\n",
    "elif os.path.exists(pth2_1):\n",
    "    data_internet = pd.read_csv(pth2_3, index_col=[0])\n",
    "else:\n",
    "    print('Something is wrong. Check path')\n",
    "    \n",
    "# Выводим результат переподгрузки таблицы\n",
    "display(data_internet.head())"
   ]
  },
  {
   "cell_type": "markdown",
   "metadata": {},
   "source": [
    "<div class=\"alert alert-block alert-warning\">\n",
    "<b>Совет: </b> Не уловил, зачем мы повторно считываем данные. Возможно это артефакт дебага? \n",
    "</div>\n",
    "\n",
    "<div class=\"alert alert-info\">\n",
    "<b> Комментарий от студента </b>\n",
    "    \n",
    "Дело в том, что при считывании данных изначально я не указывал index_col=[0], из-за чего в таблице data_internet появлялась дополнительная колонка Unnamed: 0. Быстрое решение, которое пришло на ум - перепрочитать данные. Это можно было бы и сделать в самом начале работы, но тогда потерялась бы логика и последовательность действий. Если есть способ более элегатного решения этой проблемы - буду рад узнать.\n",
    "</div>"
   ]
  },
  {
   "cell_type": "markdown",
   "metadata": {},
   "source": [
    "Рассмотрим столбец таблицы `mb_used`. Согласно документации, для веб-трафика отдельные сессии не подлежат округлению. Вместо этого общая сумма за месяц округляется в большую сторону. Округление идет в большую сторону до Гигабайта (например, если пользователь потратил за месяц 1025 мегабайт, то с него возьмут плату за 2 гигабайта). В этом случае логичнее оставить столбец `mb_used` в вещественном типе данных без округления.\n",
    "\n",
    "Приведем столбец `session_date` к типу `datetime`."
   ]
  },
  {
   "cell_type": "code",
   "execution_count": 94,
   "metadata": {},
   "outputs": [],
   "source": [
    "# Преобразуем столбец `session_date` к типу данных datetime\n",
    "\n",
    "data_internet['session_date'] = pd.to_datetime(data_internet['session_date'], format='%Y-%m-%d')"
   ]
  },
  {
   "cell_type": "code",
   "execution_count": 95,
   "metadata": {},
   "outputs": [
    {
     "data": {
      "text/plain": [
       "count    149396.000000\n",
       "mean        370.192426\n",
       "std         278.300951\n",
       "min           0.000000\n",
       "25%         138.187500\n",
       "50%         348.015000\n",
       "75%         559.552500\n",
       "max        1724.830000\n",
       "Name: mb_used, dtype: float64"
      ]
     },
     "execution_count": 95,
     "metadata": {},
     "output_type": "execute_result"
    }
   ],
   "source": [
    "# Проверим стобец `mb_used` на наличие аномалий\n",
    "\n",
    "data_internet['mb_used'].describe()"
   ]
  },
  {
   "cell_type": "markdown",
   "metadata": {},
   "source": [
    "**Аномалии в столбце `mb_used` не обнаружены.**"
   ]
  },
  {
   "cell_type": "code",
   "execution_count": 96,
   "metadata": {},
   "outputs": [
    {
     "name": "stdout",
     "output_type": "stream",
     "text": [
      "Число дубликатов в таблице data_internet: 0\n"
     ]
    }
   ],
   "source": [
    "# Проверяем таблицу на наличие дубликатов\n",
    "\n",
    "print('Число дубликатов в таблице data_internet:', data_internet.duplicated().sum())"
   ]
  },
  {
   "cell_type": "markdown",
   "metadata": {},
   "source": [
    "**Дубликаты в таблице `data_internet` отсутствуют.**"
   ]
  },
  {
   "cell_type": "code",
   "execution_count": 97,
   "metadata": {},
   "outputs": [
    {
     "data": {
      "text/html": [
       "<div>\n",
       "<style scoped>\n",
       "    .dataframe tbody tr th:only-of-type {\n",
       "        vertical-align: middle;\n",
       "    }\n",
       "\n",
       "    .dataframe tbody tr th {\n",
       "        vertical-align: top;\n",
       "    }\n",
       "\n",
       "    .dataframe thead th {\n",
       "        text-align: right;\n",
       "    }\n",
       "</style>\n",
       "<table border=\"1\" class=\"dataframe\">\n",
       "  <thead>\n",
       "    <tr style=\"text-align: right;\">\n",
       "      <th></th>\n",
       "      <th>id</th>\n",
       "      <th>mb_used</th>\n",
       "      <th>session_date</th>\n",
       "      <th>user_id</th>\n",
       "    </tr>\n",
       "  </thead>\n",
       "  <tbody>\n",
       "    <tr>\n",
       "      <th>0</th>\n",
       "      <td>1000_0</td>\n",
       "      <td>112.95</td>\n",
       "      <td>2018-11-25</td>\n",
       "      <td>1000</td>\n",
       "    </tr>\n",
       "    <tr>\n",
       "      <th>1</th>\n",
       "      <td>1000_1</td>\n",
       "      <td>1052.81</td>\n",
       "      <td>2018-09-07</td>\n",
       "      <td>1000</td>\n",
       "    </tr>\n",
       "    <tr>\n",
       "      <th>2</th>\n",
       "      <td>1000_2</td>\n",
       "      <td>1197.26</td>\n",
       "      <td>2018-06-25</td>\n",
       "      <td>1000</td>\n",
       "    </tr>\n",
       "    <tr>\n",
       "      <th>3</th>\n",
       "      <td>1000_3</td>\n",
       "      <td>550.27</td>\n",
       "      <td>2018-08-22</td>\n",
       "      <td>1000</td>\n",
       "    </tr>\n",
       "    <tr>\n",
       "      <th>4</th>\n",
       "      <td>1000_4</td>\n",
       "      <td>302.56</td>\n",
       "      <td>2018-09-24</td>\n",
       "      <td>1000</td>\n",
       "    </tr>\n",
       "    <tr>\n",
       "      <th>5</th>\n",
       "      <td>1000_5</td>\n",
       "      <td>399.97</td>\n",
       "      <td>2018-10-02</td>\n",
       "      <td>1000</td>\n",
       "    </tr>\n",
       "    <tr>\n",
       "      <th>6</th>\n",
       "      <td>1000_6</td>\n",
       "      <td>540.08</td>\n",
       "      <td>2018-09-07</td>\n",
       "      <td>1000</td>\n",
       "    </tr>\n",
       "    <tr>\n",
       "      <th>7</th>\n",
       "      <td>1000_7</td>\n",
       "      <td>415.70</td>\n",
       "      <td>2018-07-11</td>\n",
       "      <td>1000</td>\n",
       "    </tr>\n",
       "    <tr>\n",
       "      <th>8</th>\n",
       "      <td>1000_8</td>\n",
       "      <td>505.40</td>\n",
       "      <td>2018-10-08</td>\n",
       "      <td>1000</td>\n",
       "    </tr>\n",
       "    <tr>\n",
       "      <th>9</th>\n",
       "      <td>1000_9</td>\n",
       "      <td>345.54</td>\n",
       "      <td>2018-09-03</td>\n",
       "      <td>1000</td>\n",
       "    </tr>\n",
       "  </tbody>\n",
       "</table>\n",
       "</div>"
      ],
      "text/plain": [
       "       id  mb_used session_date  user_id\n",
       "0  1000_0   112.95   2018-11-25     1000\n",
       "1  1000_1  1052.81   2018-09-07     1000\n",
       "2  1000_2  1197.26   2018-06-25     1000\n",
       "3  1000_3   550.27   2018-08-22     1000\n",
       "4  1000_4   302.56   2018-09-24     1000\n",
       "5  1000_5   399.97   2018-10-02     1000\n",
       "6  1000_6   540.08   2018-09-07     1000\n",
       "7  1000_7   415.70   2018-07-11     1000\n",
       "8  1000_8   505.40   2018-10-08     1000\n",
       "9  1000_9   345.54   2018-09-03     1000"
      ]
     },
     "metadata": {},
     "output_type": "display_data"
    },
    {
     "name": "stdout",
     "output_type": "stream",
     "text": [
      "<class 'pandas.core.frame.DataFrame'>\n",
      "Int64Index: 149396 entries, 0 to 149395\n",
      "Data columns (total 4 columns):\n",
      " #   Column        Non-Null Count   Dtype         \n",
      "---  ------        --------------   -----         \n",
      " 0   id            149396 non-null  object        \n",
      " 1   mb_used       149396 non-null  float64       \n",
      " 2   session_date  149396 non-null  datetime64[ns]\n",
      " 3   user_id       149396 non-null  int64         \n",
      "dtypes: datetime64[ns](1), float64(1), int64(1), object(1)\n",
      "memory usage: 5.7+ MB\n"
     ]
    },
    {
     "data": {
      "text/plain": [
       "None"
      ]
     },
     "metadata": {},
     "output_type": "display_data"
    }
   ],
   "source": [
    "# Проверяем результаты предобработки таблицы `data_internet`\n",
    "\n",
    "display(data_internet.head(10))\n",
    "display(data_internet.info())"
   ]
  },
  {
   "cell_type": "markdown",
   "metadata": {},
   "source": [
    "**Предобработка таблицы `data_internet` завершена.**"
   ]
  },
  {
   "cell_type": "markdown",
   "metadata": {},
   "source": [
    "#### 2.1.4 Предобработка таблицы `data_messages`"
   ]
  },
  {
   "cell_type": "code",
   "execution_count": 98,
   "metadata": {},
   "outputs": [
    {
     "data": {
      "text/html": [
       "<div>\n",
       "<style scoped>\n",
       "    .dataframe tbody tr th:only-of-type {\n",
       "        vertical-align: middle;\n",
       "    }\n",
       "\n",
       "    .dataframe tbody tr th {\n",
       "        vertical-align: top;\n",
       "    }\n",
       "\n",
       "    .dataframe thead th {\n",
       "        text-align: right;\n",
       "    }\n",
       "</style>\n",
       "<table border=\"1\" class=\"dataframe\">\n",
       "  <thead>\n",
       "    <tr style=\"text-align: right;\">\n",
       "      <th></th>\n",
       "      <th>id</th>\n",
       "      <th>message_date</th>\n",
       "      <th>user_id</th>\n",
       "    </tr>\n",
       "  </thead>\n",
       "  <tbody>\n",
       "    <tr>\n",
       "      <th>0</th>\n",
       "      <td>1000_0</td>\n",
       "      <td>2018-06-27</td>\n",
       "      <td>1000</td>\n",
       "    </tr>\n",
       "    <tr>\n",
       "      <th>1</th>\n",
       "      <td>1000_1</td>\n",
       "      <td>2018-10-08</td>\n",
       "      <td>1000</td>\n",
       "    </tr>\n",
       "    <tr>\n",
       "      <th>2</th>\n",
       "      <td>1000_2</td>\n",
       "      <td>2018-08-04</td>\n",
       "      <td>1000</td>\n",
       "    </tr>\n",
       "    <tr>\n",
       "      <th>3</th>\n",
       "      <td>1000_3</td>\n",
       "      <td>2018-06-16</td>\n",
       "      <td>1000</td>\n",
       "    </tr>\n",
       "    <tr>\n",
       "      <th>4</th>\n",
       "      <td>1000_4</td>\n",
       "      <td>2018-12-05</td>\n",
       "      <td>1000</td>\n",
       "    </tr>\n",
       "    <tr>\n",
       "      <th>5</th>\n",
       "      <td>1000_5</td>\n",
       "      <td>2018-06-20</td>\n",
       "      <td>1000</td>\n",
       "    </tr>\n",
       "    <tr>\n",
       "      <th>6</th>\n",
       "      <td>1000_6</td>\n",
       "      <td>2018-11-19</td>\n",
       "      <td>1000</td>\n",
       "    </tr>\n",
       "    <tr>\n",
       "      <th>7</th>\n",
       "      <td>1000_7</td>\n",
       "      <td>2018-10-29</td>\n",
       "      <td>1000</td>\n",
       "    </tr>\n",
       "    <tr>\n",
       "      <th>8</th>\n",
       "      <td>1000_8</td>\n",
       "      <td>2018-06-25</td>\n",
       "      <td>1000</td>\n",
       "    </tr>\n",
       "    <tr>\n",
       "      <th>9</th>\n",
       "      <td>1000_9</td>\n",
       "      <td>2018-12-18</td>\n",
       "      <td>1000</td>\n",
       "    </tr>\n",
       "  </tbody>\n",
       "</table>\n",
       "</div>"
      ],
      "text/plain": [
       "       id message_date  user_id\n",
       "0  1000_0   2018-06-27     1000\n",
       "1  1000_1   2018-10-08     1000\n",
       "2  1000_2   2018-08-04     1000\n",
       "3  1000_3   2018-06-16     1000\n",
       "4  1000_4   2018-12-05     1000\n",
       "5  1000_5   2018-06-20     1000\n",
       "6  1000_6   2018-11-19     1000\n",
       "7  1000_7   2018-10-29     1000\n",
       "8  1000_8   2018-06-25     1000\n",
       "9  1000_9   2018-12-18     1000"
      ]
     },
     "metadata": {},
     "output_type": "display_data"
    },
    {
     "name": "stdout",
     "output_type": "stream",
     "text": [
      "<class 'pandas.core.frame.DataFrame'>\n",
      "RangeIndex: 123036 entries, 0 to 123035\n",
      "Data columns (total 3 columns):\n",
      " #   Column        Non-Null Count   Dtype \n",
      "---  ------        --------------   ----- \n",
      " 0   id            123036 non-null  object\n",
      " 1   message_date  123036 non-null  object\n",
      " 2   user_id       123036 non-null  int64 \n",
      "dtypes: int64(1), object(2)\n",
      "memory usage: 2.8+ MB\n"
     ]
    },
    {
     "data": {
      "text/plain": [
       "None"
      ]
     },
     "metadata": {},
     "output_type": "display_data"
    }
   ],
   "source": [
    "# Вывод таблицы data_messages и информацию о ней\n",
    "\n",
    "display(data_messages.head(10))\n",
    "display(data_messages.info())"
   ]
  },
  {
   "cell_type": "markdown",
   "metadata": {},
   "source": [
    "Для корректной обработки таблицы необходимо понять, за что отвечает каждая из колонок таблицы. Обратимся к документации.\n",
    "\n",
    "* `id` - уникальный номер сообщения. Предполагается, что в форме записи x_y (x - id пользователя, y - id сообщения);\n",
    "* `message_date` - дата сообщения;\n",
    "* `user_id` - идентификатор пользователя, отправившего сообщение.\n",
    "\n",
    "Чек-лист для предобработки данной таблицы:\n",
    "- [x] Стобец `message_date` приведен к типу `datetime`\n",
    "- [x] Проверить таблицу на наличие дубликатов"
   ]
  },
  {
   "cell_type": "code",
   "execution_count": 99,
   "metadata": {},
   "outputs": [],
   "source": [
    "# Преобразуем столбец `message_date` к типу данных datetime\n",
    "\n",
    "data_messages['message_date'] = pd.to_datetime(data_messages['message_date'], format='%Y-%m-%d')"
   ]
  },
  {
   "cell_type": "code",
   "execution_count": 100,
   "metadata": {},
   "outputs": [
    {
     "name": "stdout",
     "output_type": "stream",
     "text": [
      "Число дубликатов в таблице data_messages: 0\n"
     ]
    }
   ],
   "source": [
    "# Проверяем таблицу на наличие дубликатов\n",
    "\n",
    "print('Число дубликатов в таблице data_messages:', data_messages.duplicated().sum())"
   ]
  },
  {
   "cell_type": "markdown",
   "metadata": {},
   "source": [
    "**Дубликаты в таблице `data_messages` отсутствуют.**"
   ]
  },
  {
   "cell_type": "code",
   "execution_count": 101,
   "metadata": {},
   "outputs": [
    {
     "data": {
      "text/html": [
       "<div>\n",
       "<style scoped>\n",
       "    .dataframe tbody tr th:only-of-type {\n",
       "        vertical-align: middle;\n",
       "    }\n",
       "\n",
       "    .dataframe tbody tr th {\n",
       "        vertical-align: top;\n",
       "    }\n",
       "\n",
       "    .dataframe thead th {\n",
       "        text-align: right;\n",
       "    }\n",
       "</style>\n",
       "<table border=\"1\" class=\"dataframe\">\n",
       "  <thead>\n",
       "    <tr style=\"text-align: right;\">\n",
       "      <th></th>\n",
       "      <th>id</th>\n",
       "      <th>message_date</th>\n",
       "      <th>user_id</th>\n",
       "    </tr>\n",
       "  </thead>\n",
       "  <tbody>\n",
       "    <tr>\n",
       "      <th>0</th>\n",
       "      <td>1000_0</td>\n",
       "      <td>2018-06-27</td>\n",
       "      <td>1000</td>\n",
       "    </tr>\n",
       "    <tr>\n",
       "      <th>1</th>\n",
       "      <td>1000_1</td>\n",
       "      <td>2018-10-08</td>\n",
       "      <td>1000</td>\n",
       "    </tr>\n",
       "    <tr>\n",
       "      <th>2</th>\n",
       "      <td>1000_2</td>\n",
       "      <td>2018-08-04</td>\n",
       "      <td>1000</td>\n",
       "    </tr>\n",
       "    <tr>\n",
       "      <th>3</th>\n",
       "      <td>1000_3</td>\n",
       "      <td>2018-06-16</td>\n",
       "      <td>1000</td>\n",
       "    </tr>\n",
       "    <tr>\n",
       "      <th>4</th>\n",
       "      <td>1000_4</td>\n",
       "      <td>2018-12-05</td>\n",
       "      <td>1000</td>\n",
       "    </tr>\n",
       "    <tr>\n",
       "      <th>5</th>\n",
       "      <td>1000_5</td>\n",
       "      <td>2018-06-20</td>\n",
       "      <td>1000</td>\n",
       "    </tr>\n",
       "    <tr>\n",
       "      <th>6</th>\n",
       "      <td>1000_6</td>\n",
       "      <td>2018-11-19</td>\n",
       "      <td>1000</td>\n",
       "    </tr>\n",
       "    <tr>\n",
       "      <th>7</th>\n",
       "      <td>1000_7</td>\n",
       "      <td>2018-10-29</td>\n",
       "      <td>1000</td>\n",
       "    </tr>\n",
       "    <tr>\n",
       "      <th>8</th>\n",
       "      <td>1000_8</td>\n",
       "      <td>2018-06-25</td>\n",
       "      <td>1000</td>\n",
       "    </tr>\n",
       "    <tr>\n",
       "      <th>9</th>\n",
       "      <td>1000_9</td>\n",
       "      <td>2018-12-18</td>\n",
       "      <td>1000</td>\n",
       "    </tr>\n",
       "  </tbody>\n",
       "</table>\n",
       "</div>"
      ],
      "text/plain": [
       "       id message_date  user_id\n",
       "0  1000_0   2018-06-27     1000\n",
       "1  1000_1   2018-10-08     1000\n",
       "2  1000_2   2018-08-04     1000\n",
       "3  1000_3   2018-06-16     1000\n",
       "4  1000_4   2018-12-05     1000\n",
       "5  1000_5   2018-06-20     1000\n",
       "6  1000_6   2018-11-19     1000\n",
       "7  1000_7   2018-10-29     1000\n",
       "8  1000_8   2018-06-25     1000\n",
       "9  1000_9   2018-12-18     1000"
      ]
     },
     "metadata": {},
     "output_type": "display_data"
    },
    {
     "name": "stdout",
     "output_type": "stream",
     "text": [
      "<class 'pandas.core.frame.DataFrame'>\n",
      "RangeIndex: 123036 entries, 0 to 123035\n",
      "Data columns (total 3 columns):\n",
      " #   Column        Non-Null Count   Dtype         \n",
      "---  ------        --------------   -----         \n",
      " 0   id            123036 non-null  object        \n",
      " 1   message_date  123036 non-null  datetime64[ns]\n",
      " 2   user_id       123036 non-null  int64         \n",
      "dtypes: datetime64[ns](1), int64(1), object(1)\n",
      "memory usage: 2.8+ MB\n"
     ]
    },
    {
     "data": {
      "text/plain": [
       "None"
      ]
     },
     "metadata": {},
     "output_type": "display_data"
    }
   ],
   "source": [
    "# Проверяем результаты предобработки таблицы `data_messages`\n",
    "\n",
    "display(data_messages.head(10))\n",
    "display(data_messages.info())"
   ]
  },
  {
   "cell_type": "markdown",
   "metadata": {},
   "source": [
    "**Предобработка таблицы `data_internet` завершена.**"
   ]
  },
  {
   "cell_type": "markdown",
   "metadata": {},
   "source": [
    "#### 2.1.5 Предобработка таблицы `data_tariffs`"
   ]
  },
  {
   "cell_type": "code",
   "execution_count": 102,
   "metadata": {},
   "outputs": [
    {
     "data": {
      "text/html": [
       "<div>\n",
       "<style scoped>\n",
       "    .dataframe tbody tr th:only-of-type {\n",
       "        vertical-align: middle;\n",
       "    }\n",
       "\n",
       "    .dataframe tbody tr th {\n",
       "        vertical-align: top;\n",
       "    }\n",
       "\n",
       "    .dataframe thead th {\n",
       "        text-align: right;\n",
       "    }\n",
       "</style>\n",
       "<table border=\"1\" class=\"dataframe\">\n",
       "  <thead>\n",
       "    <tr style=\"text-align: right;\">\n",
       "      <th></th>\n",
       "      <th>messages_included</th>\n",
       "      <th>mb_per_month_included</th>\n",
       "      <th>minutes_included</th>\n",
       "      <th>rub_monthly_fee</th>\n",
       "      <th>rub_per_gb</th>\n",
       "      <th>rub_per_message</th>\n",
       "      <th>rub_per_minute</th>\n",
       "      <th>tariff_name</th>\n",
       "    </tr>\n",
       "  </thead>\n",
       "  <tbody>\n",
       "    <tr>\n",
       "      <th>0</th>\n",
       "      <td>50</td>\n",
       "      <td>15360</td>\n",
       "      <td>500</td>\n",
       "      <td>550</td>\n",
       "      <td>200</td>\n",
       "      <td>3</td>\n",
       "      <td>3</td>\n",
       "      <td>smart</td>\n",
       "    </tr>\n",
       "    <tr>\n",
       "      <th>1</th>\n",
       "      <td>1000</td>\n",
       "      <td>30720</td>\n",
       "      <td>3000</td>\n",
       "      <td>1950</td>\n",
       "      <td>150</td>\n",
       "      <td>1</td>\n",
       "      <td>1</td>\n",
       "      <td>ultra</td>\n",
       "    </tr>\n",
       "  </tbody>\n",
       "</table>\n",
       "</div>"
      ],
      "text/plain": [
       "   messages_included  mb_per_month_included  minutes_included  \\\n",
       "0                 50                  15360               500   \n",
       "1               1000                  30720              3000   \n",
       "\n",
       "   rub_monthly_fee  rub_per_gb  rub_per_message  rub_per_minute tariff_name  \n",
       "0              550         200                3               3       smart  \n",
       "1             1950         150                1               1       ultra  "
      ]
     },
     "metadata": {},
     "output_type": "display_data"
    },
    {
     "name": "stdout",
     "output_type": "stream",
     "text": [
      "<class 'pandas.core.frame.DataFrame'>\n",
      "RangeIndex: 2 entries, 0 to 1\n",
      "Data columns (total 8 columns):\n",
      " #   Column                 Non-Null Count  Dtype \n",
      "---  ------                 --------------  ----- \n",
      " 0   messages_included      2 non-null      int64 \n",
      " 1   mb_per_month_included  2 non-null      int64 \n",
      " 2   minutes_included       2 non-null      int64 \n",
      " 3   rub_monthly_fee        2 non-null      int64 \n",
      " 4   rub_per_gb             2 non-null      int64 \n",
      " 5   rub_per_message        2 non-null      int64 \n",
      " 6   rub_per_minute         2 non-null      int64 \n",
      " 7   tariff_name            2 non-null      object\n",
      "dtypes: int64(7), object(1)\n",
      "memory usage: 256.0+ bytes\n"
     ]
    },
    {
     "data": {
      "text/plain": [
       "None"
      ]
     },
     "metadata": {},
     "output_type": "display_data"
    }
   ],
   "source": [
    "# Вывод таблицы data_tariffs и информацию о ней\n",
    "\n",
    "display(data_tariffs.head())\n",
    "display(data_tariffs.info())"
   ]
  },
  {
   "cell_type": "markdown",
   "metadata": {},
   "source": [
    "Для корректной обработки таблицы необходимо понять, за что отвечает каждая из колонок таблицы. Обратимся к документации.\n",
    "\n",
    "* `messages_included` - количество сообщений в месяц включенных в абонентскую плату;\n",
    "* `mb_per_month_included` - объём интернет-трафика, включённого в абонентскую плату (в мегабайтах);\n",
    "* `minutes_included` - количество минут разговора в месяц, включённых в абонентскую плату;\n",
    "* `rub_monthly_fee` - ежемесячная абонентская плата в рублях;\n",
    "* `rub_per_gb` - стоимость дополнительного гигабайта интернет-трафика сверх тарифного пакета (1 гигабайт = 1024 мегабайта);\n",
    "* `rub_per_message` - стоимость отправки сообщения сверх тарифного пакета;\n",
    "* `rub_per_minute` - стоимость минуты разговора сверх тарифного пакета (например, если в тарифе 100 минут разговора в месяц, то со 101 минуты будет взиматься плата);\n",
    "* `tariff_name` - название тарифа.\n",
    "\n",
    "Чек-лист для предобработки данной таблицы:\n",
    "- [x] Проверить данные в таблице на соответствие документации"
   ]
  },
  {
   "cell_type": "markdown",
   "metadata": {},
   "source": [
    "Данные в таблице полностью соответствуют документации. Таблица не нуждается в дополнительной предобработке.\n",
    "\n",
    "**Предобработка таблицы `data_tariffs` завершена.**"
   ]
  },
  {
   "cell_type": "markdown",
   "metadata": {},
   "source": [
    "#### Выводы\n",
    "\n",
    "В результате работы была выполнена предобработка исходных данных. Данные были приведены к нужным типам, был произведен анализ таблиц на наличие аномалий и дубликатов. \n",
    "\n",
    "Данные готовы для дальнейшего анализа."
   ]
  },
  {
   "cell_type": "markdown",
   "metadata": {},
   "source": [
    "<div class=\"alert alert-block alert-success\">\n",
    "<b>Успех:</b> Хорошая предобработка\n",
    "</div>"
   ]
  },
  {
   "cell_type": "markdown",
   "metadata": {},
   "source": [
    "### 2.2. Расчет и добавление дополнених данных"
   ]
  },
  {
   "cell_type": "markdown",
   "metadata": {},
   "source": [
    "Необходимо расчитать для каждого пользователя:\n",
    "- [x] Количество сделанных звонков по месяцам\n",
    "- [x] Количество израсходованных минут по месяца\n",
    "- [x] Количество отправленных сообщений по месяцам\n",
    "- [x] Количество израсходованного интернет-трафика по месяцам (в гигабайтах)\n",
    "- [x] Помесячную выручку с каждого пользователя\n",
    "\n",
    "Создадим отдельный датафрейм, который постепенно будем наполнять необходимой нам информацией для дальнейшего анализа.\n",
    "\n",
    "Для того, чтобы понять какие данные нам понадобятся необходимо понять цели исследования. Согласно полученному ТЗ необходимо:\n",
    "* Описать поведение клиентов исходя из полученной выборки для каждого вида тарифа;\n",
    "* Посчитать дисперсию, среднее количество, стандартное отклонение;\n",
    "* Построить гистрограммы, описать распределения;\n",
    "* Проверить гипотезу, что средняя выручка пользователей двух тарифов отличаются;\n",
    "* Проверить гипотезу, что средняя выручка пользователей из Москвы отличается от пользователей других регионов.\n",
    "\n",
    "Исходя из наших задач по ходу работы будет допольнять, удалять, деперсонализировать данные относительно поставленных задач."
   ]
  },
  {
   "cell_type": "markdown",
   "metadata": {},
   "source": [
    "#### 2.2.1. Подсчет данных по месяцам"
   ]
  },
  {
   "cell_type": "code",
   "execution_count": 103,
   "metadata": {},
   "outputs": [
    {
     "data": {
      "text/html": [
       "<div>\n",
       "<style scoped>\n",
       "    .dataframe tbody tr th:only-of-type {\n",
       "        vertical-align: middle;\n",
       "    }\n",
       "\n",
       "    .dataframe tbody tr th {\n",
       "        vertical-align: top;\n",
       "    }\n",
       "\n",
       "    .dataframe thead th {\n",
       "        text-align: right;\n",
       "    }\n",
       "</style>\n",
       "<table border=\"1\" class=\"dataframe\">\n",
       "  <thead>\n",
       "    <tr style=\"text-align: right;\">\n",
       "      <th></th>\n",
       "      <th>user_id</th>\n",
       "      <th>month</th>\n",
       "      <th>calls_duration</th>\n",
       "      <th>calls_count</th>\n",
       "    </tr>\n",
       "  </thead>\n",
       "  <tbody>\n",
       "    <tr>\n",
       "      <th>0</th>\n",
       "      <td>1000</td>\n",
       "      <td>5</td>\n",
       "      <td>159</td>\n",
       "      <td>22</td>\n",
       "    </tr>\n",
       "    <tr>\n",
       "      <th>1</th>\n",
       "      <td>1000</td>\n",
       "      <td>6</td>\n",
       "      <td>172</td>\n",
       "      <td>43</td>\n",
       "    </tr>\n",
       "    <tr>\n",
       "      <th>2</th>\n",
       "      <td>1000</td>\n",
       "      <td>7</td>\n",
       "      <td>340</td>\n",
       "      <td>47</td>\n",
       "    </tr>\n",
       "    <tr>\n",
       "      <th>3</th>\n",
       "      <td>1000</td>\n",
       "      <td>8</td>\n",
       "      <td>408</td>\n",
       "      <td>52</td>\n",
       "    </tr>\n",
       "    <tr>\n",
       "      <th>4</th>\n",
       "      <td>1000</td>\n",
       "      <td>9</td>\n",
       "      <td>466</td>\n",
       "      <td>58</td>\n",
       "    </tr>\n",
       "    <tr>\n",
       "      <th>...</th>\n",
       "      <td>...</td>\n",
       "      <td>...</td>\n",
       "      <td>...</td>\n",
       "      <td>...</td>\n",
       "    </tr>\n",
       "    <tr>\n",
       "      <th>3169</th>\n",
       "      <td>1498</td>\n",
       "      <td>10</td>\n",
       "      <td>247</td>\n",
       "      <td>41</td>\n",
       "    </tr>\n",
       "    <tr>\n",
       "      <th>3170</th>\n",
       "      <td>1499</td>\n",
       "      <td>9</td>\n",
       "      <td>70</td>\n",
       "      <td>9</td>\n",
       "    </tr>\n",
       "    <tr>\n",
       "      <th>3171</th>\n",
       "      <td>1499</td>\n",
       "      <td>10</td>\n",
       "      <td>449</td>\n",
       "      <td>68</td>\n",
       "    </tr>\n",
       "    <tr>\n",
       "      <th>3172</th>\n",
       "      <td>1499</td>\n",
       "      <td>11</td>\n",
       "      <td>612</td>\n",
       "      <td>74</td>\n",
       "    </tr>\n",
       "    <tr>\n",
       "      <th>3173</th>\n",
       "      <td>1499</td>\n",
       "      <td>12</td>\n",
       "      <td>492</td>\n",
       "      <td>69</td>\n",
       "    </tr>\n",
       "  </tbody>\n",
       "</table>\n",
       "<p>3174 rows × 4 columns</p>\n",
       "</div>"
      ],
      "text/plain": [
       "      user_id  month  calls_duration  calls_count\n",
       "0        1000      5             159           22\n",
       "1        1000      6             172           43\n",
       "2        1000      7             340           47\n",
       "3        1000      8             408           52\n",
       "4        1000      9             466           58\n",
       "...       ...    ...             ...          ...\n",
       "3169     1498     10             247           41\n",
       "3170     1499      9              70            9\n",
       "3171     1499     10             449           68\n",
       "3172     1499     11             612           74\n",
       "3173     1499     12             492           69\n",
       "\n",
       "[3174 rows x 4 columns]"
      ]
     },
     "metadata": {},
     "output_type": "display_data"
    }
   ],
   "source": [
    "# Добавление стобца с номером месяца для каждого пользователя\n",
    "data_calls['month'] = data_calls['call_date'].dt.month\n",
    "\n",
    "# Считаем общую длительность звонков каждого клиента по месяцам\n",
    "data_group_duration_calls = data_calls.groupby(['user_id', 'month'], as_index=False).agg({'duration': 'sum'}).reset_index(drop=True)\n",
    "data_group_duration_calls.rename(columns={'duration': 'calls_duration'}, inplace=True)\n",
    "\n",
    "# Cчитаем количество звонков каждого клиента по месяцам\n",
    "data_group_count_calls = data_calls.groupby(['user_id', 'month'], as_index=False).agg({'duration': 'count'}).reset_index(drop=True)\n",
    "data_group_count_calls.rename(columns={'duration': 'calls_count'}, inplace=True)\n",
    "\n",
    "# Склеиваем получившиеся таблицы в таблицу data_group\n",
    "data_group = pd.merge(left=data_group_duration_calls, \n",
    "                      right=data_group_count_calls, \n",
    "                      how='outer', on=['user_id', 'month'])\n",
    "display(data_group)"
   ]
  },
  {
   "cell_type": "code",
   "execution_count": 104,
   "metadata": {},
   "outputs": [
    {
     "data": {
      "text/html": [
       "<div>\n",
       "<style scoped>\n",
       "    .dataframe tbody tr th:only-of-type {\n",
       "        vertical-align: middle;\n",
       "    }\n",
       "\n",
       "    .dataframe tbody tr th {\n",
       "        vertical-align: top;\n",
       "    }\n",
       "\n",
       "    .dataframe thead th {\n",
       "        text-align: right;\n",
       "    }\n",
       "</style>\n",
       "<table border=\"1\" class=\"dataframe\">\n",
       "  <thead>\n",
       "    <tr style=\"text-align: right;\">\n",
       "      <th></th>\n",
       "      <th>user_id</th>\n",
       "      <th>month</th>\n",
       "      <th>calls_duration</th>\n",
       "      <th>calls_count</th>\n",
       "      <th>messages_count</th>\n",
       "    </tr>\n",
       "  </thead>\n",
       "  <tbody>\n",
       "    <tr>\n",
       "      <th>0</th>\n",
       "      <td>1000</td>\n",
       "      <td>5</td>\n",
       "      <td>159.0</td>\n",
       "      <td>22.0</td>\n",
       "      <td>22.0</td>\n",
       "    </tr>\n",
       "    <tr>\n",
       "      <th>1</th>\n",
       "      <td>1000</td>\n",
       "      <td>6</td>\n",
       "      <td>172.0</td>\n",
       "      <td>43.0</td>\n",
       "      <td>60.0</td>\n",
       "    </tr>\n",
       "    <tr>\n",
       "      <th>2</th>\n",
       "      <td>1000</td>\n",
       "      <td>7</td>\n",
       "      <td>340.0</td>\n",
       "      <td>47.0</td>\n",
       "      <td>75.0</td>\n",
       "    </tr>\n",
       "    <tr>\n",
       "      <th>3</th>\n",
       "      <td>1000</td>\n",
       "      <td>8</td>\n",
       "      <td>408.0</td>\n",
       "      <td>52.0</td>\n",
       "      <td>81.0</td>\n",
       "    </tr>\n",
       "    <tr>\n",
       "      <th>4</th>\n",
       "      <td>1000</td>\n",
       "      <td>9</td>\n",
       "      <td>466.0</td>\n",
       "      <td>58.0</td>\n",
       "      <td>57.0</td>\n",
       "    </tr>\n",
       "    <tr>\n",
       "      <th>...</th>\n",
       "      <td>...</td>\n",
       "      <td>...</td>\n",
       "      <td>...</td>\n",
       "      <td>...</td>\n",
       "      <td>...</td>\n",
       "    </tr>\n",
       "    <tr>\n",
       "      <th>3208</th>\n",
       "      <td>1489</td>\n",
       "      <td>8</td>\n",
       "      <td>NaN</td>\n",
       "      <td>NaN</td>\n",
       "      <td>17.0</td>\n",
       "    </tr>\n",
       "    <tr>\n",
       "      <th>3209</th>\n",
       "      <td>1489</td>\n",
       "      <td>9</td>\n",
       "      <td>NaN</td>\n",
       "      <td>NaN</td>\n",
       "      <td>32.0</td>\n",
       "    </tr>\n",
       "    <tr>\n",
       "      <th>3210</th>\n",
       "      <td>1489</td>\n",
       "      <td>10</td>\n",
       "      <td>NaN</td>\n",
       "      <td>NaN</td>\n",
       "      <td>21.0</td>\n",
       "    </tr>\n",
       "    <tr>\n",
       "      <th>3211</th>\n",
       "      <td>1489</td>\n",
       "      <td>11</td>\n",
       "      <td>NaN</td>\n",
       "      <td>NaN</td>\n",
       "      <td>20.0</td>\n",
       "    </tr>\n",
       "    <tr>\n",
       "      <th>3212</th>\n",
       "      <td>1489</td>\n",
       "      <td>12</td>\n",
       "      <td>NaN</td>\n",
       "      <td>NaN</td>\n",
       "      <td>35.0</td>\n",
       "    </tr>\n",
       "  </tbody>\n",
       "</table>\n",
       "<p>3213 rows × 5 columns</p>\n",
       "</div>"
      ],
      "text/plain": [
       "      user_id  month  calls_duration  calls_count  messages_count\n",
       "0        1000      5           159.0         22.0            22.0\n",
       "1        1000      6           172.0         43.0            60.0\n",
       "2        1000      7           340.0         47.0            75.0\n",
       "3        1000      8           408.0         52.0            81.0\n",
       "4        1000      9           466.0         58.0            57.0\n",
       "...       ...    ...             ...          ...             ...\n",
       "3208     1489      8             NaN          NaN            17.0\n",
       "3209     1489      9             NaN          NaN            32.0\n",
       "3210     1489     10             NaN          NaN            21.0\n",
       "3211     1489     11             NaN          NaN            20.0\n",
       "3212     1489     12             NaN          NaN            35.0\n",
       "\n",
       "[3213 rows x 5 columns]"
      ]
     },
     "metadata": {},
     "output_type": "display_data"
    }
   ],
   "source": [
    "# Добавление стобца с номером месяца для каждого пользователя\n",
    "data_messages['month'] = data_messages['message_date'].dt.month\n",
    "data_messages['user_id_copy'] = data_messages['user_id']\n",
    "\n",
    "# Cчитаем количество сообщений каждого клиента по месяцам\n",
    "data_group_count_messages = data_messages.groupby(['user_id', 'month'], as_index=False).agg({'user_id_copy': 'count'}).reset_index(drop=True)\n",
    "data_group_count_messages.rename(columns={'user_id_copy': 'messages_count'}, inplace=True)\n",
    "\n",
    "# Склеиваем получившуюся таблицу к таблице data_group\n",
    "data_group = pd.merge(left=data_group, \n",
    "                      right=data_group_count_messages, \n",
    "                      how='outer', on=['user_id', 'month'])\n",
    "display(data_group)"
   ]
  },
  {
   "cell_type": "code",
   "execution_count": 106,
   "metadata": {},
   "outputs": [
    {
     "data": {
      "text/html": [
       "<div>\n",
       "<style scoped>\n",
       "    .dataframe tbody tr th:only-of-type {\n",
       "        vertical-align: middle;\n",
       "    }\n",
       "\n",
       "    .dataframe tbody tr th {\n",
       "        vertical-align: top;\n",
       "    }\n",
       "\n",
       "    .dataframe thead th {\n",
       "        text-align: right;\n",
       "    }\n",
       "</style>\n",
       "<table border=\"1\" class=\"dataframe\">\n",
       "  <thead>\n",
       "    <tr style=\"text-align: right;\">\n",
       "      <th></th>\n",
       "      <th>user_id</th>\n",
       "      <th>month</th>\n",
       "      <th>mb_used</th>\n",
       "    </tr>\n",
       "  </thead>\n",
       "  <tbody>\n",
       "    <tr>\n",
       "      <th>0</th>\n",
       "      <td>1000</td>\n",
       "      <td>5</td>\n",
       "      <td>2253.49</td>\n",
       "    </tr>\n",
       "    <tr>\n",
       "      <th>1</th>\n",
       "      <td>1000</td>\n",
       "      <td>6</td>\n",
       "      <td>23233.77</td>\n",
       "    </tr>\n",
       "    <tr>\n",
       "      <th>2</th>\n",
       "      <td>1000</td>\n",
       "      <td>7</td>\n",
       "      <td>14003.64</td>\n",
       "    </tr>\n",
       "    <tr>\n",
       "      <th>3</th>\n",
       "      <td>1000</td>\n",
       "      <td>8</td>\n",
       "      <td>14055.93</td>\n",
       "    </tr>\n",
       "    <tr>\n",
       "      <th>4</th>\n",
       "      <td>1000</td>\n",
       "      <td>9</td>\n",
       "      <td>14568.91</td>\n",
       "    </tr>\n",
       "    <tr>\n",
       "      <th>...</th>\n",
       "      <td>...</td>\n",
       "      <td>...</td>\n",
       "      <td>...</td>\n",
       "    </tr>\n",
       "    <tr>\n",
       "      <th>3198</th>\n",
       "      <td>1498</td>\n",
       "      <td>10</td>\n",
       "      <td>20579.36</td>\n",
       "    </tr>\n",
       "    <tr>\n",
       "      <th>3199</th>\n",
       "      <td>1499</td>\n",
       "      <td>9</td>\n",
       "      <td>1845.75</td>\n",
       "    </tr>\n",
       "    <tr>\n",
       "      <th>3200</th>\n",
       "      <td>1499</td>\n",
       "      <td>10</td>\n",
       "      <td>17788.51</td>\n",
       "    </tr>\n",
       "    <tr>\n",
       "      <th>3201</th>\n",
       "      <td>1499</td>\n",
       "      <td>11</td>\n",
       "      <td>17963.31</td>\n",
       "    </tr>\n",
       "    <tr>\n",
       "      <th>3202</th>\n",
       "      <td>1499</td>\n",
       "      <td>12</td>\n",
       "      <td>13055.58</td>\n",
       "    </tr>\n",
       "  </tbody>\n",
       "</table>\n",
       "<p>3203 rows × 3 columns</p>\n",
       "</div>"
      ],
      "text/plain": [
       "      user_id  month   mb_used\n",
       "0        1000      5   2253.49\n",
       "1        1000      6  23233.77\n",
       "2        1000      7  14003.64\n",
       "3        1000      8  14055.93\n",
       "4        1000      9  14568.91\n",
       "...       ...    ...       ...\n",
       "3198     1498     10  20579.36\n",
       "3199     1499      9   1845.75\n",
       "3200     1499     10  17788.51\n",
       "3201     1499     11  17963.31\n",
       "3202     1499     12  13055.58\n",
       "\n",
       "[3203 rows x 3 columns]"
      ]
     },
     "metadata": {},
     "output_type": "display_data"
    }
   ],
   "source": [
    "# Добавление стобца с номером месяца для каждого пользователя\n",
    "data_internet['month'] = data_internet['session_date'].dt.month\n",
    "\n",
    "# Считаем общую сумму трафика каждого клиента по месяцам\n",
    "data_group_internet_used = data_internet.groupby(['user_id', 'month'], as_index=False).agg({'mb_used': 'sum'}).reset_index(drop=True)\n",
    "display(data_group_internet_used)"
   ]
  },
  {
   "cell_type": "code",
   "execution_count": 107,
   "metadata": {},
   "outputs": [
    {
     "data": {
      "text/html": [
       "<div>\n",
       "<style scoped>\n",
       "    .dataframe tbody tr th:only-of-type {\n",
       "        vertical-align: middle;\n",
       "    }\n",
       "\n",
       "    .dataframe tbody tr th {\n",
       "        vertical-align: top;\n",
       "    }\n",
       "\n",
       "    .dataframe thead th {\n",
       "        text-align: right;\n",
       "    }\n",
       "</style>\n",
       "<table border=\"1\" class=\"dataframe\">\n",
       "  <thead>\n",
       "    <tr style=\"text-align: right;\">\n",
       "      <th></th>\n",
       "      <th>user_id</th>\n",
       "      <th>month</th>\n",
       "      <th>gb_used</th>\n",
       "    </tr>\n",
       "  </thead>\n",
       "  <tbody>\n",
       "    <tr>\n",
       "      <th>0</th>\n",
       "      <td>1000</td>\n",
       "      <td>5</td>\n",
       "      <td>3.0</td>\n",
       "    </tr>\n",
       "    <tr>\n",
       "      <th>1</th>\n",
       "      <td>1000</td>\n",
       "      <td>6</td>\n",
       "      <td>23.0</td>\n",
       "    </tr>\n",
       "    <tr>\n",
       "      <th>2</th>\n",
       "      <td>1000</td>\n",
       "      <td>7</td>\n",
       "      <td>14.0</td>\n",
       "    </tr>\n",
       "    <tr>\n",
       "      <th>3</th>\n",
       "      <td>1000</td>\n",
       "      <td>8</td>\n",
       "      <td>14.0</td>\n",
       "    </tr>\n",
       "    <tr>\n",
       "      <th>4</th>\n",
       "      <td>1000</td>\n",
       "      <td>9</td>\n",
       "      <td>15.0</td>\n",
       "    </tr>\n",
       "    <tr>\n",
       "      <th>...</th>\n",
       "      <td>...</td>\n",
       "      <td>...</td>\n",
       "      <td>...</td>\n",
       "    </tr>\n",
       "    <tr>\n",
       "      <th>3198</th>\n",
       "      <td>1498</td>\n",
       "      <td>10</td>\n",
       "      <td>21.0</td>\n",
       "    </tr>\n",
       "    <tr>\n",
       "      <th>3199</th>\n",
       "      <td>1499</td>\n",
       "      <td>9</td>\n",
       "      <td>2.0</td>\n",
       "    </tr>\n",
       "    <tr>\n",
       "      <th>3200</th>\n",
       "      <td>1499</td>\n",
       "      <td>10</td>\n",
       "      <td>18.0</td>\n",
       "    </tr>\n",
       "    <tr>\n",
       "      <th>3201</th>\n",
       "      <td>1499</td>\n",
       "      <td>11</td>\n",
       "      <td>18.0</td>\n",
       "    </tr>\n",
       "    <tr>\n",
       "      <th>3202</th>\n",
       "      <td>1499</td>\n",
       "      <td>12</td>\n",
       "      <td>13.0</td>\n",
       "    </tr>\n",
       "  </tbody>\n",
       "</table>\n",
       "<p>3203 rows × 3 columns</p>\n",
       "</div>"
      ],
      "text/plain": [
       "      user_id  month  gb_used\n",
       "0        1000      5      3.0\n",
       "1        1000      6     23.0\n",
       "2        1000      7     14.0\n",
       "3        1000      8     14.0\n",
       "4        1000      9     15.0\n",
       "...       ...    ...      ...\n",
       "3198     1498     10     21.0\n",
       "3199     1499      9      2.0\n",
       "3200     1499     10     18.0\n",
       "3201     1499     11     18.0\n",
       "3202     1499     12     13.0\n",
       "\n",
       "[3203 rows x 3 columns]"
      ]
     },
     "metadata": {},
     "output_type": "display_data"
    }
   ],
   "source": [
    "# Напишем функцию, которая переведет количество использованных мегабайт в месяце в количество гигабайт\n",
    "# Будем руководствоваться правилами округления, представленными в ТЗ\n",
    "# В конце месяца весь трафик клиента округляется в большую сторону до целого числа гигабайтов\n",
    "\n",
    "def gb_used(row):\n",
    "    try:\n",
    "        if row['mb_used'] != 0:\n",
    "            gb = row['mb_used'] / 1024\n",
    "            gb = np.ceil(gb)\n",
    "            return gb\n",
    "        else:\n",
    "            return 0\n",
    "    except:\n",
    "        return (print('Something wrong, check func gb_used'))\n",
    "    \n",
    "data_group_internet_used['gb_used'] = data_group_internet_used.apply(gb_used, axis=1)\n",
    "data_group_internet_used = data_group_internet_used.drop(['mb_used'], axis=1)\n",
    "display(data_group_internet_used)"
   ]
  },
  {
   "cell_type": "markdown",
   "metadata": {},
   "source": [
    "<div class=\"alert alert-block alert-success\">\n",
    "<b>Успех:</b> Понравилось, что собрал функцию,молодец.\n",
    "</div>\n",
    "\n",
    "<div class=\"alert alert-block alert-success\">\n",
    "<b>Необходимо исправить: </b> Хорошим вариантом здесь будет продолжить использовать np.ceil, она на крайних значениях иногда может давать отличные от math результаты. \n",
    "</div>\n",
    "\n",
    "<div class=\"alert alert-info\">\n",
    "<b> Комментарий от студента </b>\n",
    "    \n",
    "Понял, поправил\n",
    "</div>"
   ]
  },
  {
   "cell_type": "code",
   "execution_count": 108,
   "metadata": {},
   "outputs": [
    {
     "data": {
      "text/html": [
       "<div>\n",
       "<style scoped>\n",
       "    .dataframe tbody tr th:only-of-type {\n",
       "        vertical-align: middle;\n",
       "    }\n",
       "\n",
       "    .dataframe tbody tr th {\n",
       "        vertical-align: top;\n",
       "    }\n",
       "\n",
       "    .dataframe thead th {\n",
       "        text-align: right;\n",
       "    }\n",
       "</style>\n",
       "<table border=\"1\" class=\"dataframe\">\n",
       "  <thead>\n",
       "    <tr style=\"text-align: right;\">\n",
       "      <th></th>\n",
       "      <th>user_id</th>\n",
       "      <th>month</th>\n",
       "      <th>calls_duration</th>\n",
       "      <th>calls_count</th>\n",
       "      <th>messages_count</th>\n",
       "      <th>gb_used</th>\n",
       "    </tr>\n",
       "  </thead>\n",
       "  <tbody>\n",
       "    <tr>\n",
       "      <th>0</th>\n",
       "      <td>1000</td>\n",
       "      <td>5</td>\n",
       "      <td>159.0</td>\n",
       "      <td>22.0</td>\n",
       "      <td>22.0</td>\n",
       "      <td>3.0</td>\n",
       "    </tr>\n",
       "    <tr>\n",
       "      <th>1</th>\n",
       "      <td>1000</td>\n",
       "      <td>6</td>\n",
       "      <td>172.0</td>\n",
       "      <td>43.0</td>\n",
       "      <td>60.0</td>\n",
       "      <td>23.0</td>\n",
       "    </tr>\n",
       "    <tr>\n",
       "      <th>2</th>\n",
       "      <td>1000</td>\n",
       "      <td>7</td>\n",
       "      <td>340.0</td>\n",
       "      <td>47.0</td>\n",
       "      <td>75.0</td>\n",
       "      <td>14.0</td>\n",
       "    </tr>\n",
       "    <tr>\n",
       "      <th>3</th>\n",
       "      <td>1000</td>\n",
       "      <td>8</td>\n",
       "      <td>408.0</td>\n",
       "      <td>52.0</td>\n",
       "      <td>81.0</td>\n",
       "      <td>14.0</td>\n",
       "    </tr>\n",
       "    <tr>\n",
       "      <th>4</th>\n",
       "      <td>1000</td>\n",
       "      <td>9</td>\n",
       "      <td>466.0</td>\n",
       "      <td>58.0</td>\n",
       "      <td>57.0</td>\n",
       "      <td>15.0</td>\n",
       "    </tr>\n",
       "    <tr>\n",
       "      <th>...</th>\n",
       "      <td>...</td>\n",
       "      <td>...</td>\n",
       "      <td>...</td>\n",
       "      <td>...</td>\n",
       "      <td>...</td>\n",
       "      <td>...</td>\n",
       "    </tr>\n",
       "    <tr>\n",
       "      <th>3209</th>\n",
       "      <td>1489</td>\n",
       "      <td>9</td>\n",
       "      <td>NaN</td>\n",
       "      <td>NaN</td>\n",
       "      <td>32.0</td>\n",
       "      <td>17.0</td>\n",
       "    </tr>\n",
       "    <tr>\n",
       "      <th>3210</th>\n",
       "      <td>1489</td>\n",
       "      <td>10</td>\n",
       "      <td>NaN</td>\n",
       "      <td>NaN</td>\n",
       "      <td>21.0</td>\n",
       "      <td>20.0</td>\n",
       "    </tr>\n",
       "    <tr>\n",
       "      <th>3211</th>\n",
       "      <td>1489</td>\n",
       "      <td>11</td>\n",
       "      <td>NaN</td>\n",
       "      <td>NaN</td>\n",
       "      <td>20.0</td>\n",
       "      <td>18.0</td>\n",
       "    </tr>\n",
       "    <tr>\n",
       "      <th>3212</th>\n",
       "      <td>1489</td>\n",
       "      <td>12</td>\n",
       "      <td>NaN</td>\n",
       "      <td>NaN</td>\n",
       "      <td>35.0</td>\n",
       "      <td>17.0</td>\n",
       "    </tr>\n",
       "    <tr>\n",
       "      <th>3213</th>\n",
       "      <td>1476</td>\n",
       "      <td>4</td>\n",
       "      <td>NaN</td>\n",
       "      <td>NaN</td>\n",
       "      <td>NaN</td>\n",
       "      <td>1.0</td>\n",
       "    </tr>\n",
       "  </tbody>\n",
       "</table>\n",
       "<p>3214 rows × 6 columns</p>\n",
       "</div>"
      ],
      "text/plain": [
       "      user_id  month  calls_duration  calls_count  messages_count  gb_used\n",
       "0        1000      5           159.0         22.0            22.0      3.0\n",
       "1        1000      6           172.0         43.0            60.0     23.0\n",
       "2        1000      7           340.0         47.0            75.0     14.0\n",
       "3        1000      8           408.0         52.0            81.0     14.0\n",
       "4        1000      9           466.0         58.0            57.0     15.0\n",
       "...       ...    ...             ...          ...             ...      ...\n",
       "3209     1489      9             NaN          NaN            32.0     17.0\n",
       "3210     1489     10             NaN          NaN            21.0     20.0\n",
       "3211     1489     11             NaN          NaN            20.0     18.0\n",
       "3212     1489     12             NaN          NaN            35.0     17.0\n",
       "3213     1476      4             NaN          NaN             NaN      1.0\n",
       "\n",
       "[3214 rows x 6 columns]"
      ]
     },
     "metadata": {},
     "output_type": "display_data"
    }
   ],
   "source": [
    "# Склеим таблицу с расчетом использованого интернет трафика с общей таблицей\n",
    "\n",
    "data_group = pd.merge(left=data_group, \n",
    "                      right=data_group_internet_used, \n",
    "                      how='outer', on=['user_id', 'month'])\n",
    "display(data_group)"
   ]
  },
  {
   "cell_type": "markdown",
   "metadata": {},
   "source": [
    "Далее склеим полученную таблицу `data_group` с таблицей `data_users`"
   ]
  },
  {
   "cell_type": "code",
   "execution_count": 109,
   "metadata": {},
   "outputs": [
    {
     "data": {
      "text/html": [
       "<div>\n",
       "<style scoped>\n",
       "    .dataframe tbody tr th:only-of-type {\n",
       "        vertical-align: middle;\n",
       "    }\n",
       "\n",
       "    .dataframe tbody tr th {\n",
       "        vertical-align: top;\n",
       "    }\n",
       "\n",
       "    .dataframe thead th {\n",
       "        text-align: right;\n",
       "    }\n",
       "</style>\n",
       "<table border=\"1\" class=\"dataframe\">\n",
       "  <thead>\n",
       "    <tr style=\"text-align: right;\">\n",
       "      <th></th>\n",
       "      <th>user_id</th>\n",
       "      <th>age</th>\n",
       "      <th>churn_date</th>\n",
       "      <th>city</th>\n",
       "      <th>first_name</th>\n",
       "      <th>last_name</th>\n",
       "      <th>reg_date</th>\n",
       "      <th>tariff</th>\n",
       "    </tr>\n",
       "  </thead>\n",
       "  <tbody>\n",
       "    <tr>\n",
       "      <th>0</th>\n",
       "      <td>1000</td>\n",
       "      <td>52</td>\n",
       "      <td>2038-01-19</td>\n",
       "      <td>Краснодар</td>\n",
       "      <td>Рафаил</td>\n",
       "      <td>Верещагин</td>\n",
       "      <td>2018-05-25</td>\n",
       "      <td>ultra</td>\n",
       "    </tr>\n",
       "    <tr>\n",
       "      <th>1</th>\n",
       "      <td>1001</td>\n",
       "      <td>41</td>\n",
       "      <td>2038-01-19</td>\n",
       "      <td>Москва</td>\n",
       "      <td>Иван</td>\n",
       "      <td>Ежов</td>\n",
       "      <td>2018-11-01</td>\n",
       "      <td>smart</td>\n",
       "    </tr>\n",
       "    <tr>\n",
       "      <th>2</th>\n",
       "      <td>1002</td>\n",
       "      <td>59</td>\n",
       "      <td>2038-01-19</td>\n",
       "      <td>Стерлитамак</td>\n",
       "      <td>Евгений</td>\n",
       "      <td>Абрамович</td>\n",
       "      <td>2018-06-17</td>\n",
       "      <td>smart</td>\n",
       "    </tr>\n",
       "    <tr>\n",
       "      <th>3</th>\n",
       "      <td>1003</td>\n",
       "      <td>23</td>\n",
       "      <td>2038-01-19</td>\n",
       "      <td>Москва</td>\n",
       "      <td>Белла</td>\n",
       "      <td>Белякова</td>\n",
       "      <td>2018-08-17</td>\n",
       "      <td>ultra</td>\n",
       "    </tr>\n",
       "    <tr>\n",
       "      <th>4</th>\n",
       "      <td>1004</td>\n",
       "      <td>68</td>\n",
       "      <td>2038-01-19</td>\n",
       "      <td>Новокузнецк</td>\n",
       "      <td>Татьяна</td>\n",
       "      <td>Авдеенко</td>\n",
       "      <td>2018-05-14</td>\n",
       "      <td>ultra</td>\n",
       "    </tr>\n",
       "    <tr>\n",
       "      <th>5</th>\n",
       "      <td>1005</td>\n",
       "      <td>67</td>\n",
       "      <td>2038-01-19</td>\n",
       "      <td>Набережные Челны</td>\n",
       "      <td>Афанасий</td>\n",
       "      <td>Горлов</td>\n",
       "      <td>2018-01-25</td>\n",
       "      <td>smart</td>\n",
       "    </tr>\n",
       "    <tr>\n",
       "      <th>6</th>\n",
       "      <td>1006</td>\n",
       "      <td>21</td>\n",
       "      <td>2038-01-19</td>\n",
       "      <td>Ульяновск</td>\n",
       "      <td>Леонид</td>\n",
       "      <td>Ермолаев</td>\n",
       "      <td>2018-02-26</td>\n",
       "      <td>smart</td>\n",
       "    </tr>\n",
       "    <tr>\n",
       "      <th>7</th>\n",
       "      <td>1007</td>\n",
       "      <td>65</td>\n",
       "      <td>2038-01-19</td>\n",
       "      <td>Москва</td>\n",
       "      <td>Юна</td>\n",
       "      <td>Березина</td>\n",
       "      <td>2018-04-19</td>\n",
       "      <td>smart</td>\n",
       "    </tr>\n",
       "    <tr>\n",
       "      <th>8</th>\n",
       "      <td>1008</td>\n",
       "      <td>63</td>\n",
       "      <td>2038-01-19</td>\n",
       "      <td>Челябинск</td>\n",
       "      <td>Рустэм</td>\n",
       "      <td>Пономарёв</td>\n",
       "      <td>2018-12-19</td>\n",
       "      <td>smart</td>\n",
       "    </tr>\n",
       "    <tr>\n",
       "      <th>9</th>\n",
       "      <td>1009</td>\n",
       "      <td>24</td>\n",
       "      <td>2038-01-19</td>\n",
       "      <td>Пермь</td>\n",
       "      <td>Василиса</td>\n",
       "      <td>Блинова</td>\n",
       "      <td>2018-03-22</td>\n",
       "      <td>smart</td>\n",
       "    </tr>\n",
       "  </tbody>\n",
       "</table>\n",
       "</div>"
      ],
      "text/plain": [
       "   user_id  age churn_date              city first_name  last_name   reg_date  \\\n",
       "0     1000   52 2038-01-19         Краснодар     Рафаил  Верещагин 2018-05-25   \n",
       "1     1001   41 2038-01-19            Москва       Иван       Ежов 2018-11-01   \n",
       "2     1002   59 2038-01-19       Стерлитамак    Евгений  Абрамович 2018-06-17   \n",
       "3     1003   23 2038-01-19            Москва      Белла   Белякова 2018-08-17   \n",
       "4     1004   68 2038-01-19       Новокузнецк    Татьяна   Авдеенко 2018-05-14   \n",
       "5     1005   67 2038-01-19  Набережные Челны   Афанасий     Горлов 2018-01-25   \n",
       "6     1006   21 2038-01-19         Ульяновск     Леонид   Ермолаев 2018-02-26   \n",
       "7     1007   65 2038-01-19            Москва        Юна   Березина 2018-04-19   \n",
       "8     1008   63 2038-01-19         Челябинск     Рустэм  Пономарёв 2018-12-19   \n",
       "9     1009   24 2038-01-19             Пермь   Василиса    Блинова 2018-03-22   \n",
       "\n",
       "  tariff  \n",
       "0  ultra  \n",
       "1  smart  \n",
       "2  smart  \n",
       "3  ultra  \n",
       "4  ultra  \n",
       "5  smart  \n",
       "6  smart  \n",
       "7  smart  \n",
       "8  smart  \n",
       "9  smart  "
      ]
     },
     "metadata": {},
     "output_type": "display_data"
    },
    {
     "data": {
      "text/html": [
       "<div>\n",
       "<style scoped>\n",
       "    .dataframe tbody tr th:only-of-type {\n",
       "        vertical-align: middle;\n",
       "    }\n",
       "\n",
       "    .dataframe tbody tr th {\n",
       "        vertical-align: top;\n",
       "    }\n",
       "\n",
       "    .dataframe thead th {\n",
       "        text-align: right;\n",
       "    }\n",
       "</style>\n",
       "<table border=\"1\" class=\"dataframe\">\n",
       "  <thead>\n",
       "    <tr style=\"text-align: right;\">\n",
       "      <th></th>\n",
       "      <th>user_id</th>\n",
       "      <th>month</th>\n",
       "      <th>calls_duration</th>\n",
       "      <th>calls_count</th>\n",
       "      <th>messages_count</th>\n",
       "      <th>gb_used</th>\n",
       "      <th>age</th>\n",
       "      <th>churn_date</th>\n",
       "      <th>city</th>\n",
       "      <th>first_name</th>\n",
       "      <th>last_name</th>\n",
       "      <th>reg_date</th>\n",
       "      <th>tariff</th>\n",
       "    </tr>\n",
       "  </thead>\n",
       "  <tbody>\n",
       "    <tr>\n",
       "      <th>0</th>\n",
       "      <td>1000</td>\n",
       "      <td>5.0</td>\n",
       "      <td>159.0</td>\n",
       "      <td>22.0</td>\n",
       "      <td>22.0</td>\n",
       "      <td>3.0</td>\n",
       "      <td>52</td>\n",
       "      <td>2038-01-19</td>\n",
       "      <td>Краснодар</td>\n",
       "      <td>Рафаил</td>\n",
       "      <td>Верещагин</td>\n",
       "      <td>2018-05-25</td>\n",
       "      <td>ultra</td>\n",
       "    </tr>\n",
       "    <tr>\n",
       "      <th>1</th>\n",
       "      <td>1000</td>\n",
       "      <td>6.0</td>\n",
       "      <td>172.0</td>\n",
       "      <td>43.0</td>\n",
       "      <td>60.0</td>\n",
       "      <td>23.0</td>\n",
       "      <td>52</td>\n",
       "      <td>2038-01-19</td>\n",
       "      <td>Краснодар</td>\n",
       "      <td>Рафаил</td>\n",
       "      <td>Верещагин</td>\n",
       "      <td>2018-05-25</td>\n",
       "      <td>ultra</td>\n",
       "    </tr>\n",
       "    <tr>\n",
       "      <th>2</th>\n",
       "      <td>1000</td>\n",
       "      <td>7.0</td>\n",
       "      <td>340.0</td>\n",
       "      <td>47.0</td>\n",
       "      <td>75.0</td>\n",
       "      <td>14.0</td>\n",
       "      <td>52</td>\n",
       "      <td>2038-01-19</td>\n",
       "      <td>Краснодар</td>\n",
       "      <td>Рафаил</td>\n",
       "      <td>Верещагин</td>\n",
       "      <td>2018-05-25</td>\n",
       "      <td>ultra</td>\n",
       "    </tr>\n",
       "    <tr>\n",
       "      <th>3</th>\n",
       "      <td>1000</td>\n",
       "      <td>8.0</td>\n",
       "      <td>408.0</td>\n",
       "      <td>52.0</td>\n",
       "      <td>81.0</td>\n",
       "      <td>14.0</td>\n",
       "      <td>52</td>\n",
       "      <td>2038-01-19</td>\n",
       "      <td>Краснодар</td>\n",
       "      <td>Рафаил</td>\n",
       "      <td>Верещагин</td>\n",
       "      <td>2018-05-25</td>\n",
       "      <td>ultra</td>\n",
       "    </tr>\n",
       "    <tr>\n",
       "      <th>4</th>\n",
       "      <td>1000</td>\n",
       "      <td>9.0</td>\n",
       "      <td>466.0</td>\n",
       "      <td>58.0</td>\n",
       "      <td>57.0</td>\n",
       "      <td>15.0</td>\n",
       "      <td>52</td>\n",
       "      <td>2038-01-19</td>\n",
       "      <td>Краснодар</td>\n",
       "      <td>Рафаил</td>\n",
       "      <td>Верещагин</td>\n",
       "      <td>2018-05-25</td>\n",
       "      <td>ultra</td>\n",
       "    </tr>\n",
       "    <tr>\n",
       "      <th>...</th>\n",
       "      <td>...</td>\n",
       "      <td>...</td>\n",
       "      <td>...</td>\n",
       "      <td>...</td>\n",
       "      <td>...</td>\n",
       "      <td>...</td>\n",
       "      <td>...</td>\n",
       "      <td>...</td>\n",
       "      <td>...</td>\n",
       "      <td>...</td>\n",
       "      <td>...</td>\n",
       "      <td>...</td>\n",
       "      <td>...</td>\n",
       "    </tr>\n",
       "    <tr>\n",
       "      <th>3211</th>\n",
       "      <td>1489</td>\n",
       "      <td>10.0</td>\n",
       "      <td>NaN</td>\n",
       "      <td>NaN</td>\n",
       "      <td>21.0</td>\n",
       "      <td>20.0</td>\n",
       "      <td>35</td>\n",
       "      <td>2038-01-19</td>\n",
       "      <td>Санкт-Петербург</td>\n",
       "      <td>Павел</td>\n",
       "      <td>Гончаров</td>\n",
       "      <td>2018-08-15</td>\n",
       "      <td>smart</td>\n",
       "    </tr>\n",
       "    <tr>\n",
       "      <th>3212</th>\n",
       "      <td>1489</td>\n",
       "      <td>11.0</td>\n",
       "      <td>NaN</td>\n",
       "      <td>NaN</td>\n",
       "      <td>20.0</td>\n",
       "      <td>18.0</td>\n",
       "      <td>35</td>\n",
       "      <td>2038-01-19</td>\n",
       "      <td>Санкт-Петербург</td>\n",
       "      <td>Павел</td>\n",
       "      <td>Гончаров</td>\n",
       "      <td>2018-08-15</td>\n",
       "      <td>smart</td>\n",
       "    </tr>\n",
       "    <tr>\n",
       "      <th>3213</th>\n",
       "      <td>1489</td>\n",
       "      <td>12.0</td>\n",
       "      <td>NaN</td>\n",
       "      <td>NaN</td>\n",
       "      <td>35.0</td>\n",
       "      <td>17.0</td>\n",
       "      <td>35</td>\n",
       "      <td>2038-01-19</td>\n",
       "      <td>Санкт-Петербург</td>\n",
       "      <td>Павел</td>\n",
       "      <td>Гончаров</td>\n",
       "      <td>2018-08-15</td>\n",
       "      <td>smart</td>\n",
       "    </tr>\n",
       "    <tr>\n",
       "      <th>3214</th>\n",
       "      <td>1128</td>\n",
       "      <td>NaN</td>\n",
       "      <td>NaN</td>\n",
       "      <td>NaN</td>\n",
       "      <td>NaN</td>\n",
       "      <td>NaN</td>\n",
       "      <td>51</td>\n",
       "      <td>2018-12-23</td>\n",
       "      <td>Волжский</td>\n",
       "      <td>Ксения</td>\n",
       "      <td>Агаева</td>\n",
       "      <td>2018-12-15</td>\n",
       "      <td>ultra</td>\n",
       "    </tr>\n",
       "    <tr>\n",
       "      <th>3215</th>\n",
       "      <td>1371</td>\n",
       "      <td>NaN</td>\n",
       "      <td>NaN</td>\n",
       "      <td>NaN</td>\n",
       "      <td>NaN</td>\n",
       "      <td>NaN</td>\n",
       "      <td>50</td>\n",
       "      <td>2018-12-30</td>\n",
       "      <td>Омск</td>\n",
       "      <td>Ириней</td>\n",
       "      <td>Трофимов</td>\n",
       "      <td>2018-12-25</td>\n",
       "      <td>smart</td>\n",
       "    </tr>\n",
       "  </tbody>\n",
       "</table>\n",
       "<p>3216 rows × 13 columns</p>\n",
       "</div>"
      ],
      "text/plain": [
       "      user_id  month  calls_duration  calls_count  messages_count  gb_used  \\\n",
       "0        1000    5.0           159.0         22.0            22.0      3.0   \n",
       "1        1000    6.0           172.0         43.0            60.0     23.0   \n",
       "2        1000    7.0           340.0         47.0            75.0     14.0   \n",
       "3        1000    8.0           408.0         52.0            81.0     14.0   \n",
       "4        1000    9.0           466.0         58.0            57.0     15.0   \n",
       "...       ...    ...             ...          ...             ...      ...   \n",
       "3211     1489   10.0             NaN          NaN            21.0     20.0   \n",
       "3212     1489   11.0             NaN          NaN            20.0     18.0   \n",
       "3213     1489   12.0             NaN          NaN            35.0     17.0   \n",
       "3214     1128    NaN             NaN          NaN             NaN      NaN   \n",
       "3215     1371    NaN             NaN          NaN             NaN      NaN   \n",
       "\n",
       "      age churn_date             city first_name  last_name   reg_date tariff  \n",
       "0      52 2038-01-19        Краснодар     Рафаил  Верещагин 2018-05-25  ultra  \n",
       "1      52 2038-01-19        Краснодар     Рафаил  Верещагин 2018-05-25  ultra  \n",
       "2      52 2038-01-19        Краснодар     Рафаил  Верещагин 2018-05-25  ultra  \n",
       "3      52 2038-01-19        Краснодар     Рафаил  Верещагин 2018-05-25  ultra  \n",
       "4      52 2038-01-19        Краснодар     Рафаил  Верещагин 2018-05-25  ultra  \n",
       "...   ...        ...              ...        ...        ...        ...    ...  \n",
       "3211   35 2038-01-19  Санкт-Петербург      Павел   Гончаров 2018-08-15  smart  \n",
       "3212   35 2038-01-19  Санкт-Петербург      Павел   Гончаров 2018-08-15  smart  \n",
       "3213   35 2038-01-19  Санкт-Петербург      Павел   Гончаров 2018-08-15  smart  \n",
       "3214   51 2018-12-23         Волжский     Ксения     Агаева 2018-12-15  ultra  \n",
       "3215   50 2018-12-30             Омск     Ириней   Трофимов 2018-12-25  smart  \n",
       "\n",
       "[3216 rows x 13 columns]"
      ]
     },
     "metadata": {},
     "output_type": "display_data"
    }
   ],
   "source": [
    "# Склеиваем таблицы `data_group` с таблицей `data_users`\n",
    "\n",
    "display(data_users.head(10))\n",
    "\n",
    "data_group_total = pd.merge(left=data_group, \n",
    "                            right=data_users, \n",
    "                            how='outer', \n",
    "                            on=['user_id'])\n",
    "display(data_group_total)"
   ]
  },
  {
   "cell_type": "markdown",
   "metadata": {},
   "source": [
    "Обращаем внимание, что две последние строчки в полученной таблице являются не информативными. Вероятнее всего мы столкнулись с ошибкой в данных, либо клиент закрыл договор сразу же после оформления.\n",
    "\n",
    "Удалим строки с индексами 3214, 3215."
   ]
  },
  {
   "cell_type": "code",
   "execution_count": 110,
   "metadata": {},
   "outputs": [
    {
     "data": {
      "text/html": [
       "<div>\n",
       "<style scoped>\n",
       "    .dataframe tbody tr th:only-of-type {\n",
       "        vertical-align: middle;\n",
       "    }\n",
       "\n",
       "    .dataframe tbody tr th {\n",
       "        vertical-align: top;\n",
       "    }\n",
       "\n",
       "    .dataframe thead th {\n",
       "        text-align: right;\n",
       "    }\n",
       "</style>\n",
       "<table border=\"1\" class=\"dataframe\">\n",
       "  <thead>\n",
       "    <tr style=\"text-align: right;\">\n",
       "      <th></th>\n",
       "      <th>user_id</th>\n",
       "      <th>month</th>\n",
       "      <th>calls_duration</th>\n",
       "      <th>calls_count</th>\n",
       "      <th>messages_count</th>\n",
       "      <th>gb_used</th>\n",
       "      <th>age</th>\n",
       "      <th>churn_date</th>\n",
       "      <th>city</th>\n",
       "      <th>first_name</th>\n",
       "      <th>last_name</th>\n",
       "      <th>reg_date</th>\n",
       "      <th>tariff</th>\n",
       "    </tr>\n",
       "  </thead>\n",
       "  <tbody>\n",
       "    <tr>\n",
       "      <th>0</th>\n",
       "      <td>1000</td>\n",
       "      <td>5.0</td>\n",
       "      <td>159.0</td>\n",
       "      <td>22.0</td>\n",
       "      <td>22.0</td>\n",
       "      <td>3.0</td>\n",
       "      <td>52</td>\n",
       "      <td>2038-01-19</td>\n",
       "      <td>Краснодар</td>\n",
       "      <td>Рафаил</td>\n",
       "      <td>Верещагин</td>\n",
       "      <td>2018-05-25</td>\n",
       "      <td>ultra</td>\n",
       "    </tr>\n",
       "    <tr>\n",
       "      <th>1</th>\n",
       "      <td>1000</td>\n",
       "      <td>6.0</td>\n",
       "      <td>172.0</td>\n",
       "      <td>43.0</td>\n",
       "      <td>60.0</td>\n",
       "      <td>23.0</td>\n",
       "      <td>52</td>\n",
       "      <td>2038-01-19</td>\n",
       "      <td>Краснодар</td>\n",
       "      <td>Рафаил</td>\n",
       "      <td>Верещагин</td>\n",
       "      <td>2018-05-25</td>\n",
       "      <td>ultra</td>\n",
       "    </tr>\n",
       "    <tr>\n",
       "      <th>2</th>\n",
       "      <td>1000</td>\n",
       "      <td>7.0</td>\n",
       "      <td>340.0</td>\n",
       "      <td>47.0</td>\n",
       "      <td>75.0</td>\n",
       "      <td>14.0</td>\n",
       "      <td>52</td>\n",
       "      <td>2038-01-19</td>\n",
       "      <td>Краснодар</td>\n",
       "      <td>Рафаил</td>\n",
       "      <td>Верещагин</td>\n",
       "      <td>2018-05-25</td>\n",
       "      <td>ultra</td>\n",
       "    </tr>\n",
       "    <tr>\n",
       "      <th>3</th>\n",
       "      <td>1000</td>\n",
       "      <td>8.0</td>\n",
       "      <td>408.0</td>\n",
       "      <td>52.0</td>\n",
       "      <td>81.0</td>\n",
       "      <td>14.0</td>\n",
       "      <td>52</td>\n",
       "      <td>2038-01-19</td>\n",
       "      <td>Краснодар</td>\n",
       "      <td>Рафаил</td>\n",
       "      <td>Верещагин</td>\n",
       "      <td>2018-05-25</td>\n",
       "      <td>ultra</td>\n",
       "    </tr>\n",
       "    <tr>\n",
       "      <th>4</th>\n",
       "      <td>1000</td>\n",
       "      <td>9.0</td>\n",
       "      <td>466.0</td>\n",
       "      <td>58.0</td>\n",
       "      <td>57.0</td>\n",
       "      <td>15.0</td>\n",
       "      <td>52</td>\n",
       "      <td>2038-01-19</td>\n",
       "      <td>Краснодар</td>\n",
       "      <td>Рафаил</td>\n",
       "      <td>Верещагин</td>\n",
       "      <td>2018-05-25</td>\n",
       "      <td>ultra</td>\n",
       "    </tr>\n",
       "    <tr>\n",
       "      <th>...</th>\n",
       "      <td>...</td>\n",
       "      <td>...</td>\n",
       "      <td>...</td>\n",
       "      <td>...</td>\n",
       "      <td>...</td>\n",
       "      <td>...</td>\n",
       "      <td>...</td>\n",
       "      <td>...</td>\n",
       "      <td>...</td>\n",
       "      <td>...</td>\n",
       "      <td>...</td>\n",
       "      <td>...</td>\n",
       "      <td>...</td>\n",
       "    </tr>\n",
       "    <tr>\n",
       "      <th>3209</th>\n",
       "      <td>1489</td>\n",
       "      <td>8.0</td>\n",
       "      <td>NaN</td>\n",
       "      <td>NaN</td>\n",
       "      <td>17.0</td>\n",
       "      <td>11.0</td>\n",
       "      <td>35</td>\n",
       "      <td>2038-01-19</td>\n",
       "      <td>Санкт-Петербург</td>\n",
       "      <td>Павел</td>\n",
       "      <td>Гончаров</td>\n",
       "      <td>2018-08-15</td>\n",
       "      <td>smart</td>\n",
       "    </tr>\n",
       "    <tr>\n",
       "      <th>3210</th>\n",
       "      <td>1489</td>\n",
       "      <td>9.0</td>\n",
       "      <td>NaN</td>\n",
       "      <td>NaN</td>\n",
       "      <td>32.0</td>\n",
       "      <td>17.0</td>\n",
       "      <td>35</td>\n",
       "      <td>2038-01-19</td>\n",
       "      <td>Санкт-Петербург</td>\n",
       "      <td>Павел</td>\n",
       "      <td>Гончаров</td>\n",
       "      <td>2018-08-15</td>\n",
       "      <td>smart</td>\n",
       "    </tr>\n",
       "    <tr>\n",
       "      <th>3211</th>\n",
       "      <td>1489</td>\n",
       "      <td>10.0</td>\n",
       "      <td>NaN</td>\n",
       "      <td>NaN</td>\n",
       "      <td>21.0</td>\n",
       "      <td>20.0</td>\n",
       "      <td>35</td>\n",
       "      <td>2038-01-19</td>\n",
       "      <td>Санкт-Петербург</td>\n",
       "      <td>Павел</td>\n",
       "      <td>Гончаров</td>\n",
       "      <td>2018-08-15</td>\n",
       "      <td>smart</td>\n",
       "    </tr>\n",
       "    <tr>\n",
       "      <th>3212</th>\n",
       "      <td>1489</td>\n",
       "      <td>11.0</td>\n",
       "      <td>NaN</td>\n",
       "      <td>NaN</td>\n",
       "      <td>20.0</td>\n",
       "      <td>18.0</td>\n",
       "      <td>35</td>\n",
       "      <td>2038-01-19</td>\n",
       "      <td>Санкт-Петербург</td>\n",
       "      <td>Павел</td>\n",
       "      <td>Гончаров</td>\n",
       "      <td>2018-08-15</td>\n",
       "      <td>smart</td>\n",
       "    </tr>\n",
       "    <tr>\n",
       "      <th>3213</th>\n",
       "      <td>1489</td>\n",
       "      <td>12.0</td>\n",
       "      <td>NaN</td>\n",
       "      <td>NaN</td>\n",
       "      <td>35.0</td>\n",
       "      <td>17.0</td>\n",
       "      <td>35</td>\n",
       "      <td>2038-01-19</td>\n",
       "      <td>Санкт-Петербург</td>\n",
       "      <td>Павел</td>\n",
       "      <td>Гончаров</td>\n",
       "      <td>2018-08-15</td>\n",
       "      <td>smart</td>\n",
       "    </tr>\n",
       "  </tbody>\n",
       "</table>\n",
       "<p>3214 rows × 13 columns</p>\n",
       "</div>"
      ],
      "text/plain": [
       "      user_id  month  calls_duration  calls_count  messages_count  gb_used  \\\n",
       "0        1000    5.0           159.0         22.0            22.0      3.0   \n",
       "1        1000    6.0           172.0         43.0            60.0     23.0   \n",
       "2        1000    7.0           340.0         47.0            75.0     14.0   \n",
       "3        1000    8.0           408.0         52.0            81.0     14.0   \n",
       "4        1000    9.0           466.0         58.0            57.0     15.0   \n",
       "...       ...    ...             ...          ...             ...      ...   \n",
       "3209     1489    8.0             NaN          NaN            17.0     11.0   \n",
       "3210     1489    9.0             NaN          NaN            32.0     17.0   \n",
       "3211     1489   10.0             NaN          NaN            21.0     20.0   \n",
       "3212     1489   11.0             NaN          NaN            20.0     18.0   \n",
       "3213     1489   12.0             NaN          NaN            35.0     17.0   \n",
       "\n",
       "      age churn_date             city first_name  last_name   reg_date tariff  \n",
       "0      52 2038-01-19        Краснодар     Рафаил  Верещагин 2018-05-25  ultra  \n",
       "1      52 2038-01-19        Краснодар     Рафаил  Верещагин 2018-05-25  ultra  \n",
       "2      52 2038-01-19        Краснодар     Рафаил  Верещагин 2018-05-25  ultra  \n",
       "3      52 2038-01-19        Краснодар     Рафаил  Верещагин 2018-05-25  ultra  \n",
       "4      52 2038-01-19        Краснодар     Рафаил  Верещагин 2018-05-25  ultra  \n",
       "...   ...        ...              ...        ...        ...        ...    ...  \n",
       "3209   35 2038-01-19  Санкт-Петербург      Павел   Гончаров 2018-08-15  smart  \n",
       "3210   35 2038-01-19  Санкт-Петербург      Павел   Гончаров 2018-08-15  smart  \n",
       "3211   35 2038-01-19  Санкт-Петербург      Павел   Гончаров 2018-08-15  smart  \n",
       "3212   35 2038-01-19  Санкт-Петербург      Павел   Гончаров 2018-08-15  smart  \n",
       "3213   35 2038-01-19  Санкт-Петербург      Павел   Гончаров 2018-08-15  smart  \n",
       "\n",
       "[3214 rows x 13 columns]"
      ]
     },
     "metadata": {},
     "output_type": "display_data"
    },
    {
     "name": "stdout",
     "output_type": "stream",
     "text": [
      "<class 'pandas.core.frame.DataFrame'>\n",
      "Int64Index: 3214 entries, 0 to 3213\n",
      "Data columns (total 13 columns):\n",
      " #   Column          Non-Null Count  Dtype         \n",
      "---  ------          --------------  -----         \n",
      " 0   user_id         3214 non-null   int64         \n",
      " 1   month           3214 non-null   float64       \n",
      " 2   calls_duration  3174 non-null   float64       \n",
      " 3   calls_count     3174 non-null   float64       \n",
      " 4   messages_count  2717 non-null   float64       \n",
      " 5   gb_used         3203 non-null   float64       \n",
      " 6   age             3214 non-null   int64         \n",
      " 7   churn_date      3214 non-null   datetime64[ns]\n",
      " 8   city            3214 non-null   object        \n",
      " 9   first_name      3214 non-null   object        \n",
      " 10  last_name       3214 non-null   object        \n",
      " 11  reg_date        3214 non-null   datetime64[ns]\n",
      " 12  tariff          3214 non-null   object        \n",
      "dtypes: datetime64[ns](2), float64(5), int64(2), object(4)\n",
      "memory usage: 351.5+ KB\n"
     ]
    },
    {
     "data": {
      "text/plain": [
       "None"
      ]
     },
     "metadata": {},
     "output_type": "display_data"
    }
   ],
   "source": [
    "# Удаляем строки с индексами 3214 и 3215\n",
    "\n",
    "data_group_total = data_group_total.drop(labels=[3214, 3215], axis=0)\n",
    "display(data_group_total)\n",
    "display(data_group_total.info())"
   ]
  },
  {
   "cell_type": "markdown",
   "metadata": {},
   "source": [
    "Видим, что в добавленных столбцах появились значения `NaN`, а также изменился тип данных на `float`. Произошло это по причине объединения таблиц методом `merge` с методом `outer`, который автоматически установил значения `NaN` в пропущенные ячейки.\n",
    "\n",
    "Значение `NaN` в некоторых местах колонок разумно заменить на нулевое значение."
   ]
  },
  {
   "cell_type": "code",
   "execution_count": 111,
   "metadata": {},
   "outputs": [
    {
     "data": {
      "text/html": [
       "<div>\n",
       "<style scoped>\n",
       "    .dataframe tbody tr th:only-of-type {\n",
       "        vertical-align: middle;\n",
       "    }\n",
       "\n",
       "    .dataframe tbody tr th {\n",
       "        vertical-align: top;\n",
       "    }\n",
       "\n",
       "    .dataframe thead th {\n",
       "        text-align: right;\n",
       "    }\n",
       "</style>\n",
       "<table border=\"1\" class=\"dataframe\">\n",
       "  <thead>\n",
       "    <tr style=\"text-align: right;\">\n",
       "      <th></th>\n",
       "      <th>user_id</th>\n",
       "      <th>month</th>\n",
       "      <th>calls_duration</th>\n",
       "      <th>calls_count</th>\n",
       "      <th>messages_count</th>\n",
       "      <th>gb_used</th>\n",
       "      <th>age</th>\n",
       "      <th>churn_date</th>\n",
       "      <th>city</th>\n",
       "      <th>first_name</th>\n",
       "      <th>last_name</th>\n",
       "      <th>reg_date</th>\n",
       "      <th>tariff</th>\n",
       "    </tr>\n",
       "  </thead>\n",
       "  <tbody>\n",
       "    <tr>\n",
       "      <th>0</th>\n",
       "      <td>1000</td>\n",
       "      <td>5</td>\n",
       "      <td>159</td>\n",
       "      <td>22</td>\n",
       "      <td>22</td>\n",
       "      <td>3</td>\n",
       "      <td>52</td>\n",
       "      <td>2038-01-19</td>\n",
       "      <td>Краснодар</td>\n",
       "      <td>Рафаил</td>\n",
       "      <td>Верещагин</td>\n",
       "      <td>2018-05-25</td>\n",
       "      <td>ultra</td>\n",
       "    </tr>\n",
       "    <tr>\n",
       "      <th>1</th>\n",
       "      <td>1000</td>\n",
       "      <td>6</td>\n",
       "      <td>172</td>\n",
       "      <td>43</td>\n",
       "      <td>60</td>\n",
       "      <td>23</td>\n",
       "      <td>52</td>\n",
       "      <td>2038-01-19</td>\n",
       "      <td>Краснодар</td>\n",
       "      <td>Рафаил</td>\n",
       "      <td>Верещагин</td>\n",
       "      <td>2018-05-25</td>\n",
       "      <td>ultra</td>\n",
       "    </tr>\n",
       "    <tr>\n",
       "      <th>2</th>\n",
       "      <td>1000</td>\n",
       "      <td>7</td>\n",
       "      <td>340</td>\n",
       "      <td>47</td>\n",
       "      <td>75</td>\n",
       "      <td>14</td>\n",
       "      <td>52</td>\n",
       "      <td>2038-01-19</td>\n",
       "      <td>Краснодар</td>\n",
       "      <td>Рафаил</td>\n",
       "      <td>Верещагин</td>\n",
       "      <td>2018-05-25</td>\n",
       "      <td>ultra</td>\n",
       "    </tr>\n",
       "    <tr>\n",
       "      <th>3</th>\n",
       "      <td>1000</td>\n",
       "      <td>8</td>\n",
       "      <td>408</td>\n",
       "      <td>52</td>\n",
       "      <td>81</td>\n",
       "      <td>14</td>\n",
       "      <td>52</td>\n",
       "      <td>2038-01-19</td>\n",
       "      <td>Краснодар</td>\n",
       "      <td>Рафаил</td>\n",
       "      <td>Верещагин</td>\n",
       "      <td>2018-05-25</td>\n",
       "      <td>ultra</td>\n",
       "    </tr>\n",
       "    <tr>\n",
       "      <th>4</th>\n",
       "      <td>1000</td>\n",
       "      <td>9</td>\n",
       "      <td>466</td>\n",
       "      <td>58</td>\n",
       "      <td>57</td>\n",
       "      <td>15</td>\n",
       "      <td>52</td>\n",
       "      <td>2038-01-19</td>\n",
       "      <td>Краснодар</td>\n",
       "      <td>Рафаил</td>\n",
       "      <td>Верещагин</td>\n",
       "      <td>2018-05-25</td>\n",
       "      <td>ultra</td>\n",
       "    </tr>\n",
       "    <tr>\n",
       "      <th>...</th>\n",
       "      <td>...</td>\n",
       "      <td>...</td>\n",
       "      <td>...</td>\n",
       "      <td>...</td>\n",
       "      <td>...</td>\n",
       "      <td>...</td>\n",
       "      <td>...</td>\n",
       "      <td>...</td>\n",
       "      <td>...</td>\n",
       "      <td>...</td>\n",
       "      <td>...</td>\n",
       "      <td>...</td>\n",
       "      <td>...</td>\n",
       "    </tr>\n",
       "    <tr>\n",
       "      <th>3209</th>\n",
       "      <td>1489</td>\n",
       "      <td>8</td>\n",
       "      <td>0</td>\n",
       "      <td>0</td>\n",
       "      <td>17</td>\n",
       "      <td>11</td>\n",
       "      <td>35</td>\n",
       "      <td>2038-01-19</td>\n",
       "      <td>Санкт-Петербург</td>\n",
       "      <td>Павел</td>\n",
       "      <td>Гончаров</td>\n",
       "      <td>2018-08-15</td>\n",
       "      <td>smart</td>\n",
       "    </tr>\n",
       "    <tr>\n",
       "      <th>3210</th>\n",
       "      <td>1489</td>\n",
       "      <td>9</td>\n",
       "      <td>0</td>\n",
       "      <td>0</td>\n",
       "      <td>32</td>\n",
       "      <td>17</td>\n",
       "      <td>35</td>\n",
       "      <td>2038-01-19</td>\n",
       "      <td>Санкт-Петербург</td>\n",
       "      <td>Павел</td>\n",
       "      <td>Гончаров</td>\n",
       "      <td>2018-08-15</td>\n",
       "      <td>smart</td>\n",
       "    </tr>\n",
       "    <tr>\n",
       "      <th>3211</th>\n",
       "      <td>1489</td>\n",
       "      <td>10</td>\n",
       "      <td>0</td>\n",
       "      <td>0</td>\n",
       "      <td>21</td>\n",
       "      <td>20</td>\n",
       "      <td>35</td>\n",
       "      <td>2038-01-19</td>\n",
       "      <td>Санкт-Петербург</td>\n",
       "      <td>Павел</td>\n",
       "      <td>Гончаров</td>\n",
       "      <td>2018-08-15</td>\n",
       "      <td>smart</td>\n",
       "    </tr>\n",
       "    <tr>\n",
       "      <th>3212</th>\n",
       "      <td>1489</td>\n",
       "      <td>11</td>\n",
       "      <td>0</td>\n",
       "      <td>0</td>\n",
       "      <td>20</td>\n",
       "      <td>18</td>\n",
       "      <td>35</td>\n",
       "      <td>2038-01-19</td>\n",
       "      <td>Санкт-Петербург</td>\n",
       "      <td>Павел</td>\n",
       "      <td>Гончаров</td>\n",
       "      <td>2018-08-15</td>\n",
       "      <td>smart</td>\n",
       "    </tr>\n",
       "    <tr>\n",
       "      <th>3213</th>\n",
       "      <td>1489</td>\n",
       "      <td>12</td>\n",
       "      <td>0</td>\n",
       "      <td>0</td>\n",
       "      <td>35</td>\n",
       "      <td>17</td>\n",
       "      <td>35</td>\n",
       "      <td>2038-01-19</td>\n",
       "      <td>Санкт-Петербург</td>\n",
       "      <td>Павел</td>\n",
       "      <td>Гончаров</td>\n",
       "      <td>2018-08-15</td>\n",
       "      <td>smart</td>\n",
       "    </tr>\n",
       "  </tbody>\n",
       "</table>\n",
       "<p>3214 rows × 13 columns</p>\n",
       "</div>"
      ],
      "text/plain": [
       "      user_id  month  calls_duration  calls_count  messages_count  gb_used  \\\n",
       "0        1000      5             159           22              22        3   \n",
       "1        1000      6             172           43              60       23   \n",
       "2        1000      7             340           47              75       14   \n",
       "3        1000      8             408           52              81       14   \n",
       "4        1000      9             466           58              57       15   \n",
       "...       ...    ...             ...          ...             ...      ...   \n",
       "3209     1489      8               0            0              17       11   \n",
       "3210     1489      9               0            0              32       17   \n",
       "3211     1489     10               0            0              21       20   \n",
       "3212     1489     11               0            0              20       18   \n",
       "3213     1489     12               0            0              35       17   \n",
       "\n",
       "      age churn_date             city first_name  last_name   reg_date tariff  \n",
       "0      52 2038-01-19        Краснодар     Рафаил  Верещагин 2018-05-25  ultra  \n",
       "1      52 2038-01-19        Краснодар     Рафаил  Верещагин 2018-05-25  ultra  \n",
       "2      52 2038-01-19        Краснодар     Рафаил  Верещагин 2018-05-25  ultra  \n",
       "3      52 2038-01-19        Краснодар     Рафаил  Верещагин 2018-05-25  ultra  \n",
       "4      52 2038-01-19        Краснодар     Рафаил  Верещагин 2018-05-25  ultra  \n",
       "...   ...        ...              ...        ...        ...        ...    ...  \n",
       "3209   35 2038-01-19  Санкт-Петербург      Павел   Гончаров 2018-08-15  smart  \n",
       "3210   35 2038-01-19  Санкт-Петербург      Павел   Гончаров 2018-08-15  smart  \n",
       "3211   35 2038-01-19  Санкт-Петербург      Павел   Гончаров 2018-08-15  smart  \n",
       "3212   35 2038-01-19  Санкт-Петербург      Павел   Гончаров 2018-08-15  smart  \n",
       "3213   35 2038-01-19  Санкт-Петербург      Павел   Гончаров 2018-08-15  smart  \n",
       "\n",
       "[3214 rows x 13 columns]"
      ]
     },
     "metadata": {},
     "output_type": "display_data"
    }
   ],
   "source": [
    "# Заполним NaN на нулевые значения в таблице\n",
    "list_columns_new = ['month', 'calls_duration', 'calls_count', 'messages_count', 'gb_used']\n",
    "\n",
    "for i in list_columns_new:\n",
    "    data_group_total[i] = data_group_total[i].fillna(0).astype(int)\n",
    "    \n",
    "display(data_group_total)"
   ]
  },
  {
   "cell_type": "markdown",
   "metadata": {},
   "source": [
    "Для последующего анализа и расчета выручки с каждого пользователя не трубуются персональные данные клиентов. \n",
    "\n",
    "Деперсонализируем полученную таблицу, чтобы сохранить личные данные клиентов.\n",
    "\n",
    "Какие колонки в полученной таблице не требуется для последующего анализа:\n",
    "* `first_name` \n",
    "* `last_name` "
   ]
  },
  {
   "cell_type": "markdown",
   "metadata": {},
   "source": [
    "<div class=\"alert alert-block alert-success\">\n",
    "<b>Успех:</b> Интересное решение\n",
    "</div>"
   ]
  },
  {
   "cell_type": "code",
   "execution_count": 112,
   "metadata": {},
   "outputs": [
    {
     "data": {
      "text/html": [
       "<div>\n",
       "<style scoped>\n",
       "    .dataframe tbody tr th:only-of-type {\n",
       "        vertical-align: middle;\n",
       "    }\n",
       "\n",
       "    .dataframe tbody tr th {\n",
       "        vertical-align: top;\n",
       "    }\n",
       "\n",
       "    .dataframe thead th {\n",
       "        text-align: right;\n",
       "    }\n",
       "</style>\n",
       "<table border=\"1\" class=\"dataframe\">\n",
       "  <thead>\n",
       "    <tr style=\"text-align: right;\">\n",
       "      <th></th>\n",
       "      <th>user_id</th>\n",
       "      <th>month</th>\n",
       "      <th>calls_duration</th>\n",
       "      <th>calls_count</th>\n",
       "      <th>messages_count</th>\n",
       "      <th>gb_used</th>\n",
       "      <th>age</th>\n",
       "      <th>churn_date</th>\n",
       "      <th>city</th>\n",
       "      <th>reg_date</th>\n",
       "      <th>tariff</th>\n",
       "    </tr>\n",
       "  </thead>\n",
       "  <tbody>\n",
       "    <tr>\n",
       "      <th>0</th>\n",
       "      <td>1000</td>\n",
       "      <td>5</td>\n",
       "      <td>159</td>\n",
       "      <td>22</td>\n",
       "      <td>22</td>\n",
       "      <td>3</td>\n",
       "      <td>52</td>\n",
       "      <td>2038-01-19</td>\n",
       "      <td>Краснодар</td>\n",
       "      <td>2018-05-25</td>\n",
       "      <td>ultra</td>\n",
       "    </tr>\n",
       "    <tr>\n",
       "      <th>1</th>\n",
       "      <td>1000</td>\n",
       "      <td>6</td>\n",
       "      <td>172</td>\n",
       "      <td>43</td>\n",
       "      <td>60</td>\n",
       "      <td>23</td>\n",
       "      <td>52</td>\n",
       "      <td>2038-01-19</td>\n",
       "      <td>Краснодар</td>\n",
       "      <td>2018-05-25</td>\n",
       "      <td>ultra</td>\n",
       "    </tr>\n",
       "    <tr>\n",
       "      <th>2</th>\n",
       "      <td>1000</td>\n",
       "      <td>7</td>\n",
       "      <td>340</td>\n",
       "      <td>47</td>\n",
       "      <td>75</td>\n",
       "      <td>14</td>\n",
       "      <td>52</td>\n",
       "      <td>2038-01-19</td>\n",
       "      <td>Краснодар</td>\n",
       "      <td>2018-05-25</td>\n",
       "      <td>ultra</td>\n",
       "    </tr>\n",
       "    <tr>\n",
       "      <th>3</th>\n",
       "      <td>1000</td>\n",
       "      <td>8</td>\n",
       "      <td>408</td>\n",
       "      <td>52</td>\n",
       "      <td>81</td>\n",
       "      <td>14</td>\n",
       "      <td>52</td>\n",
       "      <td>2038-01-19</td>\n",
       "      <td>Краснодар</td>\n",
       "      <td>2018-05-25</td>\n",
       "      <td>ultra</td>\n",
       "    </tr>\n",
       "    <tr>\n",
       "      <th>4</th>\n",
       "      <td>1000</td>\n",
       "      <td>9</td>\n",
       "      <td>466</td>\n",
       "      <td>58</td>\n",
       "      <td>57</td>\n",
       "      <td>15</td>\n",
       "      <td>52</td>\n",
       "      <td>2038-01-19</td>\n",
       "      <td>Краснодар</td>\n",
       "      <td>2018-05-25</td>\n",
       "      <td>ultra</td>\n",
       "    </tr>\n",
       "    <tr>\n",
       "      <th>...</th>\n",
       "      <td>...</td>\n",
       "      <td>...</td>\n",
       "      <td>...</td>\n",
       "      <td>...</td>\n",
       "      <td>...</td>\n",
       "      <td>...</td>\n",
       "      <td>...</td>\n",
       "      <td>...</td>\n",
       "      <td>...</td>\n",
       "      <td>...</td>\n",
       "      <td>...</td>\n",
       "    </tr>\n",
       "    <tr>\n",
       "      <th>3168</th>\n",
       "      <td>1498</td>\n",
       "      <td>7</td>\n",
       "      <td>175</td>\n",
       "      <td>23</td>\n",
       "      <td>20</td>\n",
       "      <td>8</td>\n",
       "      <td>68</td>\n",
       "      <td>2018-10-25</td>\n",
       "      <td>Владикавказ</td>\n",
       "      <td>2018-07-19</td>\n",
       "      <td>smart</td>\n",
       "    </tr>\n",
       "    <tr>\n",
       "      <th>3172</th>\n",
       "      <td>1499</td>\n",
       "      <td>9</td>\n",
       "      <td>70</td>\n",
       "      <td>9</td>\n",
       "      <td>11</td>\n",
       "      <td>2</td>\n",
       "      <td>35</td>\n",
       "      <td>2038-01-19</td>\n",
       "      <td>Пермь</td>\n",
       "      <td>2018-09-27</td>\n",
       "      <td>smart</td>\n",
       "    </tr>\n",
       "    <tr>\n",
       "      <th>3173</th>\n",
       "      <td>1499</td>\n",
       "      <td>10</td>\n",
       "      <td>449</td>\n",
       "      <td>68</td>\n",
       "      <td>48</td>\n",
       "      <td>18</td>\n",
       "      <td>35</td>\n",
       "      <td>2038-01-19</td>\n",
       "      <td>Пермь</td>\n",
       "      <td>2018-09-27</td>\n",
       "      <td>smart</td>\n",
       "    </tr>\n",
       "    <tr>\n",
       "      <th>3174</th>\n",
       "      <td>1499</td>\n",
       "      <td>11</td>\n",
       "      <td>612</td>\n",
       "      <td>74</td>\n",
       "      <td>59</td>\n",
       "      <td>18</td>\n",
       "      <td>35</td>\n",
       "      <td>2038-01-19</td>\n",
       "      <td>Пермь</td>\n",
       "      <td>2018-09-27</td>\n",
       "      <td>smart</td>\n",
       "    </tr>\n",
       "    <tr>\n",
       "      <th>3175</th>\n",
       "      <td>1499</td>\n",
       "      <td>12</td>\n",
       "      <td>492</td>\n",
       "      <td>69</td>\n",
       "      <td>66</td>\n",
       "      <td>13</td>\n",
       "      <td>35</td>\n",
       "      <td>2038-01-19</td>\n",
       "      <td>Пермь</td>\n",
       "      <td>2018-09-27</td>\n",
       "      <td>smart</td>\n",
       "    </tr>\n",
       "  </tbody>\n",
       "</table>\n",
       "<p>3214 rows × 11 columns</p>\n",
       "</div>"
      ],
      "text/plain": [
       "      user_id  month  calls_duration  calls_count  messages_count  gb_used  \\\n",
       "0        1000      5             159           22              22        3   \n",
       "1        1000      6             172           43              60       23   \n",
       "2        1000      7             340           47              75       14   \n",
       "3        1000      8             408           52              81       14   \n",
       "4        1000      9             466           58              57       15   \n",
       "...       ...    ...             ...          ...             ...      ...   \n",
       "3168     1498      7             175           23              20        8   \n",
       "3172     1499      9              70            9              11        2   \n",
       "3173     1499     10             449           68              48       18   \n",
       "3174     1499     11             612           74              59       18   \n",
       "3175     1499     12             492           69              66       13   \n",
       "\n",
       "      age churn_date         city   reg_date tariff  \n",
       "0      52 2038-01-19    Краснодар 2018-05-25  ultra  \n",
       "1      52 2038-01-19    Краснодар 2018-05-25  ultra  \n",
       "2      52 2038-01-19    Краснодар 2018-05-25  ultra  \n",
       "3      52 2038-01-19    Краснодар 2018-05-25  ultra  \n",
       "4      52 2038-01-19    Краснодар 2018-05-25  ultra  \n",
       "...   ...        ...          ...        ...    ...  \n",
       "3168   68 2018-10-25  Владикавказ 2018-07-19  smart  \n",
       "3172   35 2038-01-19        Пермь 2018-09-27  smart  \n",
       "3173   35 2038-01-19        Пермь 2018-09-27  smart  \n",
       "3174   35 2038-01-19        Пермь 2018-09-27  smart  \n",
       "3175   35 2038-01-19        Пермь 2018-09-27  smart  \n",
       "\n",
       "[3214 rows x 11 columns]"
      ]
     },
     "metadata": {},
     "output_type": "display_data"
    }
   ],
   "source": [
    "# Удалим выбранные столбцы из итоговой таблицы\n",
    "data_group_total = data_group_total.drop(['first_name', 'last_name'], axis=1)\n",
    "\n",
    "# Отсортируем итоговую таблицу по столбцу `user_id`\n",
    "data_group_total.sort_values(by=['user_id'], inplace=True)\n",
    "display(data_group_total)"
   ]
  },
  {
   "cell_type": "code",
   "execution_count": 113,
   "metadata": {},
   "outputs": [],
   "source": [
    "# Перейдем к более удобному названию итоговой таблицы\n",
    "\n",
    "df = data_group_total.copy()"
   ]
  },
  {
   "cell_type": "markdown",
   "metadata": {},
   "source": [
    "#### 2.2.2. Подсчет выручки по месяцам"
   ]
  },
  {
   "cell_type": "markdown",
   "metadata": {},
   "source": [
    "Необходимо посчитать итоговую выручку с каждого пользователя по каждому месяцу с учетом его тарифа. Напишем для этого функцию `calc_profit_by_month`"
   ]
  },
  {
   "cell_type": "code",
   "execution_count": 114,
   "metadata": {
    "scrolled": false
   },
   "outputs": [
    {
     "data": {
      "text/html": [
       "<div>\n",
       "<style scoped>\n",
       "    .dataframe tbody tr th:only-of-type {\n",
       "        vertical-align: middle;\n",
       "    }\n",
       "\n",
       "    .dataframe tbody tr th {\n",
       "        vertical-align: top;\n",
       "    }\n",
       "\n",
       "    .dataframe thead th {\n",
       "        text-align: right;\n",
       "    }\n",
       "</style>\n",
       "<table border=\"1\" class=\"dataframe\">\n",
       "  <thead>\n",
       "    <tr style=\"text-align: right;\">\n",
       "      <th></th>\n",
       "      <th>user_id</th>\n",
       "      <th>month</th>\n",
       "      <th>calls_duration</th>\n",
       "      <th>calls_count</th>\n",
       "      <th>messages_count</th>\n",
       "      <th>gb_used</th>\n",
       "      <th>age</th>\n",
       "      <th>churn_date</th>\n",
       "      <th>city</th>\n",
       "      <th>reg_date</th>\n",
       "      <th>tariff</th>\n",
       "      <th>profit</th>\n",
       "    </tr>\n",
       "  </thead>\n",
       "  <tbody>\n",
       "    <tr>\n",
       "      <th>0</th>\n",
       "      <td>1000</td>\n",
       "      <td>5</td>\n",
       "      <td>159</td>\n",
       "      <td>22</td>\n",
       "      <td>22</td>\n",
       "      <td>3</td>\n",
       "      <td>52</td>\n",
       "      <td>2038-01-19</td>\n",
       "      <td>Краснодар</td>\n",
       "      <td>2018-05-25</td>\n",
       "      <td>ultra</td>\n",
       "      <td>1950</td>\n",
       "    </tr>\n",
       "    <tr>\n",
       "      <th>1</th>\n",
       "      <td>1000</td>\n",
       "      <td>6</td>\n",
       "      <td>172</td>\n",
       "      <td>43</td>\n",
       "      <td>60</td>\n",
       "      <td>23</td>\n",
       "      <td>52</td>\n",
       "      <td>2038-01-19</td>\n",
       "      <td>Краснодар</td>\n",
       "      <td>2018-05-25</td>\n",
       "      <td>ultra</td>\n",
       "      <td>1950</td>\n",
       "    </tr>\n",
       "    <tr>\n",
       "      <th>2</th>\n",
       "      <td>1000</td>\n",
       "      <td>7</td>\n",
       "      <td>340</td>\n",
       "      <td>47</td>\n",
       "      <td>75</td>\n",
       "      <td>14</td>\n",
       "      <td>52</td>\n",
       "      <td>2038-01-19</td>\n",
       "      <td>Краснодар</td>\n",
       "      <td>2018-05-25</td>\n",
       "      <td>ultra</td>\n",
       "      <td>1950</td>\n",
       "    </tr>\n",
       "    <tr>\n",
       "      <th>3</th>\n",
       "      <td>1000</td>\n",
       "      <td>8</td>\n",
       "      <td>408</td>\n",
       "      <td>52</td>\n",
       "      <td>81</td>\n",
       "      <td>14</td>\n",
       "      <td>52</td>\n",
       "      <td>2038-01-19</td>\n",
       "      <td>Краснодар</td>\n",
       "      <td>2018-05-25</td>\n",
       "      <td>ultra</td>\n",
       "      <td>1950</td>\n",
       "    </tr>\n",
       "    <tr>\n",
       "      <th>4</th>\n",
       "      <td>1000</td>\n",
       "      <td>9</td>\n",
       "      <td>466</td>\n",
       "      <td>58</td>\n",
       "      <td>57</td>\n",
       "      <td>15</td>\n",
       "      <td>52</td>\n",
       "      <td>2038-01-19</td>\n",
       "      <td>Краснодар</td>\n",
       "      <td>2018-05-25</td>\n",
       "      <td>ultra</td>\n",
       "      <td>1950</td>\n",
       "    </tr>\n",
       "    <tr>\n",
       "      <th>...</th>\n",
       "      <td>...</td>\n",
       "      <td>...</td>\n",
       "      <td>...</td>\n",
       "      <td>...</td>\n",
       "      <td>...</td>\n",
       "      <td>...</td>\n",
       "      <td>...</td>\n",
       "      <td>...</td>\n",
       "      <td>...</td>\n",
       "      <td>...</td>\n",
       "      <td>...</td>\n",
       "      <td>...</td>\n",
       "    </tr>\n",
       "    <tr>\n",
       "      <th>3168</th>\n",
       "      <td>1498</td>\n",
       "      <td>7</td>\n",
       "      <td>175</td>\n",
       "      <td>23</td>\n",
       "      <td>20</td>\n",
       "      <td>8</td>\n",
       "      <td>68</td>\n",
       "      <td>2018-10-25</td>\n",
       "      <td>Владикавказ</td>\n",
       "      <td>2018-07-19</td>\n",
       "      <td>smart</td>\n",
       "      <td>550</td>\n",
       "    </tr>\n",
       "    <tr>\n",
       "      <th>3172</th>\n",
       "      <td>1499</td>\n",
       "      <td>9</td>\n",
       "      <td>70</td>\n",
       "      <td>9</td>\n",
       "      <td>11</td>\n",
       "      <td>2</td>\n",
       "      <td>35</td>\n",
       "      <td>2038-01-19</td>\n",
       "      <td>Пермь</td>\n",
       "      <td>2018-09-27</td>\n",
       "      <td>smart</td>\n",
       "      <td>550</td>\n",
       "    </tr>\n",
       "    <tr>\n",
       "      <th>3173</th>\n",
       "      <td>1499</td>\n",
       "      <td>10</td>\n",
       "      <td>449</td>\n",
       "      <td>68</td>\n",
       "      <td>48</td>\n",
       "      <td>18</td>\n",
       "      <td>35</td>\n",
       "      <td>2038-01-19</td>\n",
       "      <td>Пермь</td>\n",
       "      <td>2018-09-27</td>\n",
       "      <td>smart</td>\n",
       "      <td>1150</td>\n",
       "    </tr>\n",
       "    <tr>\n",
       "      <th>3174</th>\n",
       "      <td>1499</td>\n",
       "      <td>11</td>\n",
       "      <td>612</td>\n",
       "      <td>74</td>\n",
       "      <td>59</td>\n",
       "      <td>18</td>\n",
       "      <td>35</td>\n",
       "      <td>2038-01-19</td>\n",
       "      <td>Пермь</td>\n",
       "      <td>2018-09-27</td>\n",
       "      <td>smart</td>\n",
       "      <td>1513</td>\n",
       "    </tr>\n",
       "    <tr>\n",
       "      <th>3175</th>\n",
       "      <td>1499</td>\n",
       "      <td>12</td>\n",
       "      <td>492</td>\n",
       "      <td>69</td>\n",
       "      <td>66</td>\n",
       "      <td>13</td>\n",
       "      <td>35</td>\n",
       "      <td>2038-01-19</td>\n",
       "      <td>Пермь</td>\n",
       "      <td>2018-09-27</td>\n",
       "      <td>smart</td>\n",
       "      <td>598</td>\n",
       "    </tr>\n",
       "  </tbody>\n",
       "</table>\n",
       "<p>3214 rows × 12 columns</p>\n",
       "</div>"
      ],
      "text/plain": [
       "      user_id  month  calls_duration  calls_count  messages_count  gb_used  \\\n",
       "0        1000      5             159           22              22        3   \n",
       "1        1000      6             172           43              60       23   \n",
       "2        1000      7             340           47              75       14   \n",
       "3        1000      8             408           52              81       14   \n",
       "4        1000      9             466           58              57       15   \n",
       "...       ...    ...             ...          ...             ...      ...   \n",
       "3168     1498      7             175           23              20        8   \n",
       "3172     1499      9              70            9              11        2   \n",
       "3173     1499     10             449           68              48       18   \n",
       "3174     1499     11             612           74              59       18   \n",
       "3175     1499     12             492           69              66       13   \n",
       "\n",
       "      age churn_date         city   reg_date tariff  profit  \n",
       "0      52 2038-01-19    Краснодар 2018-05-25  ultra    1950  \n",
       "1      52 2038-01-19    Краснодар 2018-05-25  ultra    1950  \n",
       "2      52 2038-01-19    Краснодар 2018-05-25  ultra    1950  \n",
       "3      52 2038-01-19    Краснодар 2018-05-25  ultra    1950  \n",
       "4      52 2038-01-19    Краснодар 2018-05-25  ultra    1950  \n",
       "...   ...        ...          ...        ...    ...     ...  \n",
       "3168   68 2018-10-25  Владикавказ 2018-07-19  smart     550  \n",
       "3172   35 2038-01-19        Пермь 2018-09-27  smart     550  \n",
       "3173   35 2038-01-19        Пермь 2018-09-27  smart    1150  \n",
       "3174   35 2038-01-19        Пермь 2018-09-27  smart    1513  \n",
       "3175   35 2038-01-19        Пермь 2018-09-27  smart     598  \n",
       "\n",
       "[3214 rows x 12 columns]"
      ]
     },
     "metadata": {},
     "output_type": "display_data"
    }
   ],
   "source": [
    "# Напишем функцию, которая будет получать на вход строку итогового датафрейма\n",
    "# В зависимости от того, какой у пользователя выбран тариф будем считать прибыль в рамках тарифа,\n",
    "# А также прибыль, полученную за продажу дополнительных услуг\n",
    "\n",
    "SMART_PRICE = 550  # Цена тарифа smart\n",
    "SMART_MIN = 500    # Включенные минуты в тарифе smart\n",
    "SMART_SMS = 50     # Включенные смс в тарифе smart\n",
    "SMART_GB = 15      # Включенные гигибайты в тарифе smart\n",
    "SMART_MIN_UP = 3   # Цена минут сверх тарифа smart\n",
    "SMART_SMS_UP = 3   # Цена смс сверх тарифа smart\n",
    "SMART_GB_UP = 200  # Цена гигабайта сверх тарифа smart\n",
    "\n",
    "ULTRA_PRICE = 1950 # Цена тарифа ultra\n",
    "ULTRA_MIN = 3000   # Включенные минуты в тарифе ultra\n",
    "ULTRA_SMS = 1000   # Включенные смс в тарифе ultra\n",
    "ULTRA_GB = 30      # Включенные гигибайты в тарифе ultra\n",
    "ULTRA_MIN_UP = 1   # Цена минут сверх тарифа ultra\n",
    "ULTRA_SMS_UP = 1   # Цена смс сверх тарифа ultra\n",
    "ULTRA_GB_UP = 150  # Цена гигабайта сверх тарифа ultra\n",
    "\n",
    "def calc_profit_by_month(row):\n",
    "    try:\n",
    "        if row['tariff'] == 'smart':\n",
    "            profit = 0\n",
    "            profit += SMART_PRICE\n",
    "            if row['calls_duration'] > SMART_MIN:\n",
    "                profit += (row['calls_duration'] - SMART_MIN) * SMART_MIN_UP\n",
    "            if row['messages_count'] > SMART_SMS:\n",
    "                profit += (row['messages_count'] - SMART_SMS) * SMART_SMS_UP\n",
    "            if row['gb_used'] > SMART_GB:\n",
    "                profit +=(row['gb_used'] - SMART_GB) * SMART_GB_UP\n",
    "            return profit\n",
    "        elif row['tariff'] == 'ultra':\n",
    "            profit = 0\n",
    "            profit += ULTRA_PRICE\n",
    "            if row['calls_duration'] > ULTRA_MIN:\n",
    "                profit += (row['calls_duration'] - ULTRA_MIN) * ULTRA_MIN_UP\n",
    "            if row['messages_count'] > ULTRA_SMS:\n",
    "                profit += (row['messages_count'] - ULTRA_SMS) * ULTRA_SMS_UP\n",
    "            if row['gb_used'] > ULTRA_GB:\n",
    "                profit +=(row['gb_used'] - ULTRA_GB) * ULTRA_GB_UP\n",
    "            return profit\n",
    "        else:\n",
    "            return (print('The type of tariff is not defined. User ID:', row['user_id']))\n",
    "    except:\n",
    "        return (print('Something wrong, check calc_profit_per_month'))\n",
    "\n",
    "df['profit'] = df.apply(calc_profit_by_month, axis=1)\n",
    "display(df)"
   ]
  },
  {
   "cell_type": "markdown",
   "metadata": {},
   "source": [
    "<div class=\"alert alert-block alert-success\">\n",
    "<b>Успех:</b> Функция здесь наиболее уместна, молодец!\n",
    "</div>"
   ]
  },
  {
   "cell_type": "markdown",
   "metadata": {},
   "source": [
    "#### Выводы\n",
    "\n",
    "В данной главе были посчитаны все необходимые для анализа данные по месяцам:\n",
    "* `calls_count` - число звонков;\n",
    "* `calls_duration` - длительность звонков;\n",
    "* `messages_count` - количество сообщений;\n",
    "* `gb_used` - размер использованного интернет-трафика;\n",
    "* `profit` - прибыль, полученная с клиента за месяц.\n",
    "\n",
    "Можно приступать к дальнейшему анализу и проверке гипотез."
   ]
  },
  {
   "cell_type": "markdown",
   "metadata": {},
   "source": [
    "## 3. Подготовка данных\n",
    "\n",
    "Опишем цели, которые необходимо выполнить в рамках текущей главы:\n",
    "- [x] описать поведение клиентов исходя из выборки. Сколько минут, сообщений и какой объем трафика требуется пользователям каждого тарифа в месяц;\n",
    "- [x] посчитать среднее количество, дисперсию и стандартное отклонение для выручки;\n",
    "- [x] построить гистограммы. \n",
    "\n",
    "### 3.1. Поведение клиентов различных тарифов"
   ]
  },
  {
   "cell_type": "code",
   "execution_count": 115,
   "metadata": {},
   "outputs": [],
   "source": [
    "# Разделяем итоговый датафрейм на 2, содержащих в себе информацию по пользователям двух разных тарифов\n",
    "df_smart = df.query('tariff == \"smart\"')\n",
    "df_ultra = df.query('tariff == \"ultra\"')"
   ]
  },
  {
   "cell_type": "code",
   "execution_count": 122,
   "metadata": {},
   "outputs": [
    {
     "data": {
      "image/png": "[encoded data removed]",
      "text/plain": [
       "<Figure size 432x288 with 1 Axes>"
      ]
     },
     "metadata": {
      "needs_background": "light"
     },
     "output_type": "display_data"
    }
   ],
   "source": [
    "# Строим гистрограмму распределения по месяцам по длительности звонков тарифа smart\n",
    "df_smart['calls_duration'].hist(bins=30, alpha=0.7, facecolor='r')\n",
    "#plt.title('Гистограмма распределения длительности звонков тарифа SMART')\n",
    "#plt.xlabel('Длительность звонка')\n",
    "#plt.ylabel('Число объектов исследования')\n",
    "#plt.show()\n",
    "\n",
    "# Строим гистрограмму распределения по месяцам по длительности звонков тарифа ultra\n",
    "df_ultra['calls_duration'].hist(bins=30, alpha=0.7, facecolor='g')\n",
    "plt.title('Гистограмма распределения длительности звонков тарифов SMART и ULTRA')\n",
    "plt.xlabel('Длительность звонка')\n",
    "plt.ylabel('Число объектов исследования')\n",
    "plt.show()"
   ]
  },
  {
   "cell_type": "markdown",
   "metadata": {},
   "source": [
    "<div class=\"alert alert-block alert-warning\">\n",
    "<b>Совет: </b> Попробуй наложить два графика друг на друга, так различия будут наиболее явны\n",
    "</div>\n",
    "\n",
    "<div class=\"alert alert-info\">\n",
    "<b> Комментарий от студента </b>\n",
    "    \n",
    "Наложил. Получилось, действительно, более информативно! Спасибо!\n",
    "</div>"
   ]
  },
  {
   "cell_type": "markdown",
   "metadata": {},
   "source": [
    "Выводы по полученным гистограммам:\n",
    "1. Распределения длительности звонков тарифа SMART является нормальным;\n",
    "2. Распределение длительности звонков тарифа ULTRA косвенно является нормальным. Присутствуют выбросы;\n",
    "3. Средняя длительность звонков у тарифа SMART находится в районе 500 минут в месяц;\n",
    "4. У пользователей тарифа ULTRA встречается выброс на нулевом значении длительности звонков;\n",
    "5. Наиболее часто встречающаяся продолжительность звонков находится в диапазоне от 250 до 800 минут;"
   ]
  },
  {
   "cell_type": "code",
   "execution_count": 123,
   "metadata": {},
   "outputs": [
    {
     "data": {
      "image/png": "[encoded data removed]",
      "text/plain": [
       "<Figure size 432x288 with 1 Axes>"
      ]
     },
     "metadata": {
      "needs_background": "light"
     },
     "output_type": "display_data"
    },
    {
     "data": {
      "image/png": "[encoded data removed]",
      "text/plain": [
       "<Figure size 432x288 with 1 Axes>"
      ]
     },
     "metadata": {
      "needs_background": "light"
     },
     "output_type": "display_data"
    },
    {
     "data": {
      "text/html": [
       "<div>\n",
       "<style scoped>\n",
       "    .dataframe tbody tr th:only-of-type {\n",
       "        vertical-align: middle;\n",
       "    }\n",
       "\n",
       "    .dataframe tbody tr th {\n",
       "        vertical-align: top;\n",
       "    }\n",
       "\n",
       "    .dataframe thead th {\n",
       "        text-align: right;\n",
       "    }\n",
       "</style>\n",
       "<table border=\"1\" class=\"dataframe\">\n",
       "  <thead>\n",
       "    <tr style=\"text-align: right;\">\n",
       "      <th></th>\n",
       "      <th>user_id</th>\n",
       "      <th>month</th>\n",
       "      <th>calls_duration</th>\n",
       "      <th>calls_count</th>\n",
       "      <th>messages_count</th>\n",
       "      <th>gb_used</th>\n",
       "      <th>age</th>\n",
       "      <th>churn_date</th>\n",
       "      <th>city</th>\n",
       "      <th>reg_date</th>\n",
       "      <th>tariff</th>\n",
       "      <th>profit</th>\n",
       "    </tr>\n",
       "  </thead>\n",
       "  <tbody>\n",
       "    <tr>\n",
       "      <th>0</th>\n",
       "      <td>1000</td>\n",
       "      <td>5</td>\n",
       "      <td>159</td>\n",
       "      <td>22</td>\n",
       "      <td>22</td>\n",
       "      <td>3</td>\n",
       "      <td>52</td>\n",
       "      <td>2038-01-19</td>\n",
       "      <td>Краснодар</td>\n",
       "      <td>2018-05-25</td>\n",
       "      <td>ultra</td>\n",
       "      <td>1950</td>\n",
       "    </tr>\n",
       "    <tr>\n",
       "      <th>1</th>\n",
       "      <td>1000</td>\n",
       "      <td>6</td>\n",
       "      <td>172</td>\n",
       "      <td>43</td>\n",
       "      <td>60</td>\n",
       "      <td>23</td>\n",
       "      <td>52</td>\n",
       "      <td>2038-01-19</td>\n",
       "      <td>Краснодар</td>\n",
       "      <td>2018-05-25</td>\n",
       "      <td>ultra</td>\n",
       "      <td>1950</td>\n",
       "    </tr>\n",
       "    <tr>\n",
       "      <th>2</th>\n",
       "      <td>1000</td>\n",
       "      <td>7</td>\n",
       "      <td>340</td>\n",
       "      <td>47</td>\n",
       "      <td>75</td>\n",
       "      <td>14</td>\n",
       "      <td>52</td>\n",
       "      <td>2038-01-19</td>\n",
       "      <td>Краснодар</td>\n",
       "      <td>2018-05-25</td>\n",
       "      <td>ultra</td>\n",
       "      <td>1950</td>\n",
       "    </tr>\n",
       "    <tr>\n",
       "      <th>3</th>\n",
       "      <td>1000</td>\n",
       "      <td>8</td>\n",
       "      <td>408</td>\n",
       "      <td>52</td>\n",
       "      <td>81</td>\n",
       "      <td>14</td>\n",
       "      <td>52</td>\n",
       "      <td>2038-01-19</td>\n",
       "      <td>Краснодар</td>\n",
       "      <td>2018-05-25</td>\n",
       "      <td>ultra</td>\n",
       "      <td>1950</td>\n",
       "    </tr>\n",
       "    <tr>\n",
       "      <th>4</th>\n",
       "      <td>1000</td>\n",
       "      <td>9</td>\n",
       "      <td>466</td>\n",
       "      <td>58</td>\n",
       "      <td>57</td>\n",
       "      <td>15</td>\n",
       "      <td>52</td>\n",
       "      <td>2038-01-19</td>\n",
       "      <td>Краснодар</td>\n",
       "      <td>2018-05-25</td>\n",
       "      <td>ultra</td>\n",
       "      <td>1950</td>\n",
       "    </tr>\n",
       "    <tr>\n",
       "      <th>...</th>\n",
       "      <td>...</td>\n",
       "      <td>...</td>\n",
       "      <td>...</td>\n",
       "      <td>...</td>\n",
       "      <td>...</td>\n",
       "      <td>...</td>\n",
       "      <td>...</td>\n",
       "      <td>...</td>\n",
       "      <td>...</td>\n",
       "      <td>...</td>\n",
       "      <td>...</td>\n",
       "      <td>...</td>\n",
       "    </tr>\n",
       "    <tr>\n",
       "      <th>364</th>\n",
       "      <td>1057</td>\n",
       "      <td>7</td>\n",
       "      <td>781</td>\n",
       "      <td>110</td>\n",
       "      <td>29</td>\n",
       "      <td>17</td>\n",
       "      <td>43</td>\n",
       "      <td>2038-01-19</td>\n",
       "      <td>Москва</td>\n",
       "      <td>2018-03-12</td>\n",
       "      <td>ultra</td>\n",
       "      <td>1950</td>\n",
       "    </tr>\n",
       "    <tr>\n",
       "      <th>382</th>\n",
       "      <td>1060</td>\n",
       "      <td>11</td>\n",
       "      <td>371</td>\n",
       "      <td>46</td>\n",
       "      <td>12</td>\n",
       "      <td>13</td>\n",
       "      <td>46</td>\n",
       "      <td>2038-01-19</td>\n",
       "      <td>Калуга</td>\n",
       "      <td>2018-11-24</td>\n",
       "      <td>ultra</td>\n",
       "      <td>1950</td>\n",
       "    </tr>\n",
       "    <tr>\n",
       "      <th>383</th>\n",
       "      <td>1060</td>\n",
       "      <td>12</td>\n",
       "      <td>1233</td>\n",
       "      <td>184</td>\n",
       "      <td>52</td>\n",
       "      <td>43</td>\n",
       "      <td>46</td>\n",
       "      <td>2038-01-19</td>\n",
       "      <td>Калуга</td>\n",
       "      <td>2018-11-24</td>\n",
       "      <td>ultra</td>\n",
       "      <td>3900</td>\n",
       "    </tr>\n",
       "    <tr>\n",
       "      <th>397</th>\n",
       "      <td>1063</td>\n",
       "      <td>9</td>\n",
       "      <td>820</td>\n",
       "      <td>121</td>\n",
       "      <td>0</td>\n",
       "      <td>26</td>\n",
       "      <td>45</td>\n",
       "      <td>2018-12-11</td>\n",
       "      <td>Тула</td>\n",
       "      <td>2018-04-12</td>\n",
       "      <td>ultra</td>\n",
       "      <td>1950</td>\n",
       "    </tr>\n",
       "    <tr>\n",
       "      <th>399</th>\n",
       "      <td>1063</td>\n",
       "      <td>11</td>\n",
       "      <td>896</td>\n",
       "      <td>110</td>\n",
       "      <td>0</td>\n",
       "      <td>15</td>\n",
       "      <td>45</td>\n",
       "      <td>2018-12-11</td>\n",
       "      <td>Тула</td>\n",
       "      <td>2018-04-12</td>\n",
       "      <td>ultra</td>\n",
       "      <td>1950</td>\n",
       "    </tr>\n",
       "  </tbody>\n",
       "</table>\n",
       "<p>100 rows × 12 columns</p>\n",
       "</div>"
      ],
      "text/plain": [
       "     user_id  month  calls_duration  calls_count  messages_count  gb_used  \\\n",
       "0       1000      5             159           22              22        3   \n",
       "1       1000      6             172           43              60       23   \n",
       "2       1000      7             340           47              75       14   \n",
       "3       1000      8             408           52              81       14   \n",
       "4       1000      9             466           58              57       15   \n",
       "..       ...    ...             ...          ...             ...      ...   \n",
       "364     1057      7             781          110              29       17   \n",
       "382     1060     11             371           46              12       13   \n",
       "383     1060     12            1233          184              52       43   \n",
       "397     1063      9             820          121               0       26   \n",
       "399     1063     11             896          110               0       15   \n",
       "\n",
       "     age churn_date       city   reg_date tariff  profit  \n",
       "0     52 2038-01-19  Краснодар 2018-05-25  ultra    1950  \n",
       "1     52 2038-01-19  Краснодар 2018-05-25  ultra    1950  \n",
       "2     52 2038-01-19  Краснодар 2018-05-25  ultra    1950  \n",
       "3     52 2038-01-19  Краснодар 2018-05-25  ultra    1950  \n",
       "4     52 2038-01-19  Краснодар 2018-05-25  ultra    1950  \n",
       "..   ...        ...        ...        ...    ...     ...  \n",
       "364   43 2038-01-19     Москва 2018-03-12  ultra    1950  \n",
       "382   46 2038-01-19     Калуга 2018-11-24  ultra    1950  \n",
       "383   46 2038-01-19     Калуга 2018-11-24  ultra    3900  \n",
       "397   45 2018-12-11       Тула 2018-04-12  ultra    1950  \n",
       "399   45 2018-12-11       Тула 2018-04-12  ultra    1950  \n",
       "\n",
       "[100 rows x 12 columns]"
      ]
     },
     "execution_count": 123,
     "metadata": {},
     "output_type": "execute_result"
    }
   ],
   "source": [
    "# Строим гистрограмму распределения по месяцам по количеству смс тарифа smart\n",
    "df_smart['messages_count'].hist(bins=30, alpha=0.7, facecolor='r')\n",
    "plt.title('Гистограмма распределения количества смс тарифа SMART')\n",
    "plt.xlabel('Количество смс в месяц')\n",
    "plt.ylabel('Число объектов исследования')\n",
    "plt.show()\n",
    "\n",
    "# Строим гистрограмму распределения по месяцам по количеству смс тарифа ultra\n",
    "df_ultra['messages_count'].hist(bins=35, alpha=0.7, facecolor='g')\n",
    "plt.title('Гистограмма распределения количества смс тарифа ULTRA')\n",
    "plt.xlabel('Количество смс в месяц')\n",
    "plt.ylabel('Число объектов исследования')\n",
    "plt.show()\n",
    "\n",
    "df_ultra.head(100)"
   ]
  },
  {
   "cell_type": "markdown",
   "metadata": {},
   "source": [
    "Выводы по полученным гистограммам:\n",
    "1. На гистограммах видны выбросы на нулевой отметке числа смс в месяц. Это говорит о том, что большАя часть клиентов не пользуются смс сообщениями вовсе. \n",
    "2. У клиентов тарифа SMART присутствует большАя доля клиентов, которые выходят за ежемесячную планку в 50 сообщений и, следовательно, доплачивают за сообщения.\n",
    "3. Клиенты тарифа ULTRA отправляют в месяц не более 200 сообщений, при доступной 1000. Следовательно, можно сделать вывод, что клиенты тарифа ULTRA не вносят дополнительный доход за покупку смс сообщений сверх тарифа. Общая планка доступных в рамках тарифа сообщений в месяц сильно завышена.\n",
    "4. Полученные графики демонстрируют распределение Пуассона."
   ]
  },
  {
   "cell_type": "code",
   "execution_count": 124,
   "metadata": {},
   "outputs": [
    {
     "data": {
      "image/png": "[encoded data removed]",
      "text/plain": [
       "<Figure size 432x288 with 1 Axes>"
      ]
     },
     "metadata": {
      "needs_background": "light"
     },
     "output_type": "display_data"
    },
    {
     "data": {
      "image/png": "[encoded data removed]",
      "text/plain": [
       "<Figure size 432x288 with 1 Axes>"
      ]
     },
     "metadata": {
      "needs_background": "light"
     },
     "output_type": "display_data"
    }
   ],
   "source": [
    "# Строим гистрограмму распределения по месяцам по количеству использованного интернет-трафика тарифа smart\n",
    "df_smart['gb_used'].hist(bins=16, alpha=0.7, facecolor='r')\n",
    "plt.title('Гистограмма распределения использованного интернет-трафика тарифа SMART')\n",
    "plt.xlabel('Использовано Гигабайт в месяц')\n",
    "plt.ylabel('Число объектов исследования')\n",
    "plt.show()\n",
    "\n",
    "# Строим гистрограмму распределения по месяцам по количеству использованного интернет-трафика тарифа ultra\n",
    "df_ultra['gb_used'].hist(bins=16, alpha=0.7, facecolor='g')\n",
    "plt.title('Гистограмима распределения использованного интернет-трафика тарифа ULTRA')\n",
    "plt.xlabel('Использовано Гигабайт в месяц')\n",
    "plt.ylabel('Число объектов исследования')\n",
    "plt.show()"
   ]
  },
  {
   "cell_type": "markdown",
   "metadata": {},
   "source": [
    "Выводы по полученным гистограммам:\n",
    "1. Оба распределения являются нормальными.\n",
    "2. Пользователи тарифа SMART чаще всего тратят от 13 до 22 Гигабайт в месяц. В рамках тарифного плана предусмотрено 15 Гигабайт трафика. Более половины клиентов тарифа SMART покупают дополнительный интернет-трафик по цене 200 рублей за Гигабайт.\n",
    "3. Пользователи тарифа ULTRA чаще всего тратят 20 Гигабайт в месяц. В рамках тарифвного плана предусмотрено 30 Гигабайт трафика. БОльшая часть клиентов тарифа укладывается в пакет тарифа, однако присутствует и доля клиентов, докупающих Гигабайты сверх тарифа по цене 150 рублей в месяц."
   ]
  },
  {
   "cell_type": "code",
   "execution_count": 125,
   "metadata": {},
   "outputs": [
    {
     "data": {
      "image/png": "[encoded data removed]",
      "text/plain": [
       "<Figure size 432x288 with 1 Axes>"
      ]
     },
     "metadata": {
      "needs_background": "light"
     },
     "output_type": "display_data"
    },
    {
     "data": {
      "image/png": "[encoded data removed]",
      "text/plain": [
       "<Figure size 432x288 with 1 Axes>"
      ]
     },
     "metadata": {
      "needs_background": "light"
     },
     "output_type": "display_data"
    }
   ],
   "source": [
    "# Строим гистрограмму распределения по месяцам по выручке тарифа smart\n",
    "df_smart['profit'].hist(bins=30, alpha=0.7, facecolor='r')\n",
    "plt.title('Гистограмма распределения ежемесячной платы тарифа SMART')\n",
    "plt.xlabel('Рублей в месяц')\n",
    "plt.ylabel('Число объектов исследования')\n",
    "plt.show()\n",
    "\n",
    "# Строим гистрограмму распределения по месяцам по выручке тарифа ultra\n",
    "df_ultra['profit'].hist(bins=10, alpha=0.7, facecolor='g')\n",
    "plt.title('Гистограмима распределения ежемесячной платы тарифа ULTRA')\n",
    "plt.xlabel('Рублей в месяц')\n",
    "plt.ylabel('Число объектов исследования')\n",
    "plt.show()"
   ]
  },
  {
   "cell_type": "markdown",
   "metadata": {},
   "source": [
    "Выводы по полученным гистограммам:\n",
    "1. Распределение Пуассона на обеих гистограммах;\n",
    "2. Пользователи тарифи SMART чаще доплачивают за покупку дополнительных услуг;\n",
    "3. Преобладающее большинство клиентов тарифа ULTRA не доплачивают за дополнительные услуги."
   ]
  },
  {
   "cell_type": "code",
   "execution_count": 126,
   "metadata": {},
   "outputs": [
    {
     "data": {
      "text/html": [
       "<div>\n",
       "<style scoped>\n",
       "    .dataframe tbody tr th:only-of-type {\n",
       "        vertical-align: middle;\n",
       "    }\n",
       "\n",
       "    .dataframe tbody tr th {\n",
       "        vertical-align: top;\n",
       "    }\n",
       "\n",
       "    .dataframe thead th {\n",
       "        text-align: right;\n",
       "    }\n",
       "</style>\n",
       "<table border=\"1\" class=\"dataframe\">\n",
       "  <thead>\n",
       "    <tr style=\"text-align: right;\">\n",
       "      <th></th>\n",
       "      <th>Тариф</th>\n",
       "      <th>Доля переплаты за звонки, %</th>\n",
       "      <th>Доля переплаты за смс, %</th>\n",
       "      <th>Доля переплаты за интернет, %</th>\n",
       "      <th>Доля переплаты за пакет, %</th>\n",
       "    </tr>\n",
       "  </thead>\n",
       "  <tbody>\n",
       "    <tr>\n",
       "      <th>0</th>\n",
       "      <td>Smart</td>\n",
       "      <td>33</td>\n",
       "      <td>25</td>\n",
       "      <td>58</td>\n",
       "      <td>74</td>\n",
       "    </tr>\n",
       "    <tr>\n",
       "      <th>1</th>\n",
       "      <td>Ultra</td>\n",
       "      <td>0</td>\n",
       "      <td>0</td>\n",
       "      <td>64</td>\n",
       "      <td>13</td>\n",
       "    </tr>\n",
       "  </tbody>\n",
       "</table>\n",
       "</div>"
      ],
      "text/plain": [
       "   Тариф  Доля переплаты за звонки, %  Доля переплаты за смс, %  \\\n",
       "0  Smart                           33                        25   \n",
       "1  Ultra                            0                         0   \n",
       "\n",
       "   Доля переплаты за интернет, %  Доля переплаты за пакет, %  \n",
       "0                             58                          74  \n",
       "1                             64                          13  "
      ]
     },
     "metadata": {},
     "output_type": "display_data"
    }
   ],
   "source": [
    "# Посчитаем доли пользователей по тарифам, выходящих за рамки пакета\n",
    "\n",
    "smart_share_calls = int(df_smart.query('calls_duration > 500').shape[0] / df_smart.shape[0] * 100)\n",
    "smart_share_sms = int(df_smart.query('messages_count > 50').shape[0] / df_smart.shape[0] * 100)\n",
    "smart_share_gb = int(df_smart.query('gb_used > 15').shape[0] / df_smart.shape[0] * 100)\n",
    "smart_share_profit = int(df_smart.query('profit > 550').shape[0] / df_smart.shape[0] * 100)\n",
    "\n",
    "ultra_share_calls = int(df_ultra.query('calls_duration > 3000').shape[0] / df_ultra.shape[0] * 100)\n",
    "ultra_share_sms = int(df_ultra.query('messages_count > 1000').shape[0] / df_ultra.shape[0] * 100)\n",
    "ultra_share_gb = int(df_ultra.query('gb_used > 15').shape[0] / df_ultra.shape[0] * 100)\n",
    "ultra_share_profit = int(df_ultra.query('profit > 1950').shape[0] / df_ultra.shape[0] * 100)\n",
    "\n",
    "df_table = pd.DataFrame({'Тариф': ['Smart', 'Ultra'], \n",
    "                         'Доля переплаты за звонки, %': [smart_share_calls, ultra_share_calls], \n",
    "                         'Доля переплаты за смс, %': [smart_share_sms, ultra_share_sms], \n",
    "                         'Доля переплаты за интернет, %': [smart_share_gb, ultra_share_gb], \n",
    "                         'Доля переплаты за пакет, %': [smart_share_profit, ultra_share_profit]})\n",
    "\n",
    "display(df_table)"
   ]
  },
  {
   "cell_type": "markdown",
   "metadata": {},
   "source": [
    "Выводы по полученной таблице:\n",
    "1. 33% клиентов тарифа SMART докупают минуты сверх пакета;\n",
    "2. 25% клиетов тарифа SMART докупают смс сверх пакета;\n",
    "3. Более половины клиентов тарифа SMART (58%) докупают гигабайты сверх пакета;\n",
    "4. Клиенты тарифа ULTRA не докупают минуты и смс вовсе;\n",
    "5. Небольшая доля клиентов тарифа ULTRA (13%) докупают гигабайты сверх пакета.\n",
    "6. 74% пользователей тарифа SMART доплачивают за доп. услуги;\n",
    "7. 13% клиентов тарифа ULTRA доплачивают за доп. услуги."
   ]
  },
  {
   "cell_type": "markdown",
   "metadata": {},
   "source": [
    "<div class=\"alert alert-block alert-success\">\n",
    "<b>Успех:</b> Отличная визуализация!\n",
    "</div>"
   ]
  },
  {
   "cell_type": "markdown",
   "metadata": {},
   "source": [
    "### 3.2. Расчет метрик"
   ]
  },
  {
   "cell_type": "markdown",
   "metadata": {},
   "source": [
    "Перейдем к более точным расчетам средних значений, дисперсии и стандартного отклонения для клиентов двух тарифов."
   ]
  },
  {
   "cell_type": "code",
   "execution_count": 127,
   "metadata": {},
   "outputs": [
    {
     "data": {
      "text/html": [
       "<div>\n",
       "<style scoped>\n",
       "    .dataframe tbody tr th:only-of-type {\n",
       "        vertical-align: middle;\n",
       "    }\n",
       "\n",
       "    .dataframe tbody tr th {\n",
       "        vertical-align: top;\n",
       "    }\n",
       "\n",
       "    .dataframe thead tr th {\n",
       "        text-align: left;\n",
       "    }\n",
       "</style>\n",
       "<table border=\"1\" class=\"dataframe\">\n",
       "  <thead>\n",
       "    <tr>\n",
       "      <th></th>\n",
       "      <th>tariff</th>\n",
       "      <th>mean</th>\n",
       "      <th>var</th>\n",
       "      <th>std</th>\n",
       "    </tr>\n",
       "    <tr>\n",
       "      <th></th>\n",
       "      <th></th>\n",
       "      <th>profit</th>\n",
       "      <th>profit</th>\n",
       "      <th>profit</th>\n",
       "    </tr>\n",
       "  </thead>\n",
       "  <tbody>\n",
       "    <tr>\n",
       "      <th>0</th>\n",
       "      <td>smart</td>\n",
       "      <td>1289</td>\n",
       "      <td>669785</td>\n",
       "      <td>818</td>\n",
       "    </tr>\n",
       "    <tr>\n",
       "      <th>1</th>\n",
       "      <td>ultra</td>\n",
       "      <td>2070</td>\n",
       "      <td>141516</td>\n",
       "      <td>376</td>\n",
       "    </tr>\n",
       "  </tbody>\n",
       "</table>\n",
       "</div>"
      ],
      "text/plain": [
       "  tariff   mean     var    std\n",
       "         profit  profit profit\n",
       "0  smart   1289  669785    818\n",
       "1  ultra   2070  141516    376"
      ]
     },
     "metadata": {},
     "output_type": "display_data"
    }
   ],
   "source": [
    "# Расчитаем основные метрики\n",
    "df_pivot = df.pivot_table(index='tariff', values='profit', aggfunc=['mean', 'var', 'std']).astype(int).reset_index()\n",
    "display(df_pivot)"
   ]
  },
  {
   "cell_type": "markdown",
   "metadata": {},
   "source": [
    "### Выводы"
   ]
  },
  {
   "cell_type": "markdown",
   "metadata": {},
   "source": [
    "В рамках работы над данной главой было получено основное представление о полученной выборке данных. \n",
    "\n",
    "Что сделано в рамках 3 главы:\n",
    "* Построили гистограммы по основным параметрам двух тарифов;\n",
    "* Расчитали доли клиентов, выходящих за рамки пакета;\n",
    "* Посчитали для выручки: среднее, дисперсию, стандартное отклонени;е\n",
    "* Сформулировали выводы по каждому из пунктов.\n",
    "\n",
    "Что удалось заметить:\n",
    "* Пользователи тарифа SMART значительно чаще докупают дополнительные услуги сверх пакета;\n",
    "* Пользователи тарифа ULTRA тратят немного больше интернет-трафика в течении месяца;\n",
    "* Пользователи тарифа ULTRA совсем не докупают минуты и смс;\n",
    "* Пользователи тарифа SMART тратят, в среднем, 1289 рублей в месяц;\n",
    "* Пользователи тарифа ULTRA тратят, в среднем, 2070 рублей в месяц."
   ]
  },
  {
   "cell_type": "markdown",
   "metadata": {},
   "source": [
    "<div class=\"alert alert-block alert-success\">\n",
    "<b>Успех:</b> Да, похоже наши юзеры достаточно сильно различаются.\n",
    "</div>"
   ]
  },
  {
   "cell_type": "markdown",
   "metadata": {},
   "source": [
    "## 4. Проверка гипотез\n",
    "### 4.1. Проверка гипотезы №1"
   ]
  },
  {
   "cell_type": "markdown",
   "metadata": {},
   "source": [
    "Гипотеза №1: \"Средняя выручка пользователей тарифов ULTRA и SMART **различаются**\".\n",
    "\n",
    "Сформулируем нулевую и альтернативную гипотезы:\n",
    "* H0 - Средняя выручка пользователей тарифов ULTRA и SMART **равны**.\n",
    "* H1 - Средняя выручка пользователей тарифов ULTRA и SMART **не равны**."
   ]
  },
  {
   "cell_type": "markdown",
   "metadata": {},
   "source": [
    "<div class=\"alert alert-block alert-success\">\n",
    "<b>Успех:</b> Гипотезы сформулированы верно. Порадовало постановка гипотез в терминах Н0 и Н1\n",
    "</div>"
   ]
  },
  {
   "cell_type": "code",
   "execution_count": 128,
   "metadata": {},
   "outputs": [
    {
     "name": "stdout",
     "output_type": "stream",
     "text": [
      "p-значение:  1.4229814360764067e-160\n",
      "Отвергаем нулевую гипотезу.\n"
     ]
    }
   ],
   "source": [
    "# Проверим гипотезу №1\n",
    "\n",
    "alpha = .05\n",
    "\n",
    "results_1 = st.ttest_ind(\n",
    "    df_smart['profit'], \n",
    "    df_ultra['profit'])\n",
    "\n",
    "print('p-значение: ', results_1.pvalue)\n",
    "\n",
    "if results_1.pvalue < alpha:\n",
    "    print('Отвергаем нулевую гипотезу.')\n",
    "else:\n",
    "    print('Не получилось отвергнуть нулевую гипотезу.')"
   ]
  },
  {
   "cell_type": "markdown",
   "metadata": {},
   "source": [
    "#### Вывод:\n",
    "* Сформулированная нами нулевая гипотеза H0 (средняя выручка пользователей тарифов ULTRA и SMART **равны**) была отвергнута;\n",
    "* Полученные данные не отвергают и не противоречат сформулированной в ТЗ гипотезе: средняя выручка пользователей тарифов ULTRA и SMART **различаются**."
   ]
  },
  {
   "cell_type": "markdown",
   "metadata": {},
   "source": [
    "### 4.2. Проверка гипотезы №2"
   ]
  },
  {
   "cell_type": "markdown",
   "metadata": {},
   "source": [
    "Гипотеза №2: \"Средняя выручка пользователей из Москвы **отличается** от других регионов\".\n",
    "\n",
    "Сформулируем нулевую и альтернативную гипотезы:\n",
    "* H0 - Средняя выручка пользователей из Москвы **равна** средней выручке пользователей из других регионов.\n",
    "* H1 - Средняя выручка пользователей из Москвы **не равна** средней выручке пользователей из других регионов."
   ]
  },
  {
   "cell_type": "markdown",
   "metadata": {},
   "source": [
    "<div class=\"alert alert-block alert-success\">\n",
    "<b>Успех:</b> Снова верная гипотеза, две из двух!\n",
    "</div>"
   ]
  },
  {
   "cell_type": "code",
   "execution_count": 129,
   "metadata": {},
   "outputs": [],
   "source": [
    "# Выделим два дополнительных датафрема\n",
    "\n",
    "df_moscow = df.query('city == \"Москва\"')\n",
    "df_other = df.query('city != \"Москва\"')"
   ]
  },
  {
   "cell_type": "code",
   "execution_count": 130,
   "metadata": {},
   "outputs": [
    {
     "name": "stdout",
     "output_type": "stream",
     "text": [
      "p-значение:  0.5440152911670224\n",
      "Не получилось отвергнуть нулевую гипотезу.\n"
     ]
    }
   ],
   "source": [
    "# Проверим гипотезу №2\n",
    "\n",
    "alpha = .05\n",
    "\n",
    "results_2 = st.ttest_ind(\n",
    "    df_moscow['profit'], \n",
    "    df_other['profit'])\n",
    "\n",
    "print('p-значение: ', results_2.pvalue)\n",
    "\n",
    "if results_2.pvalue < alpha:\n",
    "    print('Отвергаем нулевую гипотезу.')\n",
    "else:\n",
    "    print('Не получилось отвергнуть нулевую гипотезу.')"
   ]
  },
  {
   "cell_type": "markdown",
   "metadata": {},
   "source": [
    "#### Вывод:\n",
    "* Сформулированная нами нулевая гипотеза H0 (средняя выручка пользователей из Москвы **равна** средней выручке пользователей из других регионов) не была отвергнута;\n",
    "* Полученные данные показывают крайне маловероятные результаты сформулированной в ТЗ гипотезы: cредняя выручка пользователей из Москвы **отличается** от других регионов (при условии, что гипотеза верна). "
   ]
  },
  {
   "cell_type": "markdown",
   "metadata": {},
   "source": [
    "## 5. Общий выводы"
   ]
  },
  {
   "cell_type": "markdown",
   "metadata": {},
   "source": [
    "Была проделана большая работа по анализу двух тарифных планов: \"Ультра\" и \"Смарт\" компании \"Мегалайн\". Подведем итоги работы.\n",
    "\n",
    "**Предобработка данных:**\n",
    "* Была выполнена предобработка выборки данных;\n",
    "* Были посчитаны дополнительные показатели по месяцам (потраченные минуты, смс, гигабайты).\n",
    "\n",
    "**Получение метрик:**\n",
    "* Были построены гистограммы по основным данным по месяцам;\n",
    "* Были посчитаны доли пользователей по тарифам, докупающие дополнительные услуги за пределами тарифного пакета;\n",
    "* Были расчитаны средние, дисперсия, стандартное отклонение по двум тарифам.\n",
    "\n",
    "\n",
    "**Проверка гипотез:**\n",
    "* Были проверены две сформулированные в ТЗ гипотезы.\n",
    "\n",
    "**Итоговые выводы по работе от аналитика:**\n",
    "* Пользователи тарифа SMART значительно чаще (в сравнении с клиентами тарифа ULTRA) докупают дополнительные услуги сверх пакета;\n",
    "* Пользователи тарифа ULTRA совсем не докупают минуты и смс;\n",
    "* Пользователи тарифа SMART тратят, в среднем, 1289 рублей в месяц;\n",
    "* Пользователи тарифа ULTRA тратят, в среднем, 2070 рублей в месяц;\n",
    "* Тариф ULTRA приносит компании больше денег;\n",
    "* С большой вероятностью средняя выручка пользователей тарифов \"Ультра\" и \"Смарт\" - отличаются.\n",
    "* Крайне маловероятно, что выручка клиентов из Москвы отличается от выручки клиентов из других регионов."
   ]
  },
  {
   "cell_type": "markdown",
   "metadata": {},
   "source": [
    "<div class=\"alert alert-block alert-success\">\n",
    "<b>Успех:</b> Здорово, что построил подробные графики, так сразу можно оценить разницу в тарифах по разным срезам. Еще мне понравилось, что ты использовал собственные фукнции, подробно написал выводы по некоторым пунктам. Порадовало, что присутствует вывод про самый выгодный тариф, это то, что хотел узнать бизнес-заказчик. Ты выполнил все пункты работы, молодец! Критических замечаний немного, однако их важно исправить. Также есть немного желтых комментариев, которые стоит исправить. Думаю, ты справишься с этим быстро. Жду твою работу :) \n",
    "</div>"
   ]
  }
 ],
 "metadata": {
  "ExecuteTimeLog": [
   {
    "duration": 77,
    "start_time": "2022-03-12T09:30:18.899Z"
   },
   {
    "duration": 632,
    "start_time": "2022-03-12T09:31:36.653Z"
   },
   {
    "duration": 487,
    "start_time": "2022-03-12T09:31:42.086Z"
   },
   {
    "duration": 37,
    "start_time": "2022-03-12T09:31:50.052Z"
   },
   {
    "duration": 64,
    "start_time": "2022-03-12T09:31:57.405Z"
   },
   {
    "duration": 3,
    "start_time": "2022-03-12T09:32:17.531Z"
   },
   {
    "duration": 16,
    "start_time": "2022-03-12T09:32:37.279Z"
   },
   {
    "duration": 8,
    "start_time": "2022-03-12T09:32:52.020Z"
   },
   {
    "duration": 285,
    "start_time": "2022-03-12T09:33:08.574Z"
   },
   {
    "duration": 7,
    "start_time": "2022-03-12T09:33:28.854Z"
   },
   {
    "duration": 7,
    "start_time": "2022-03-12T09:33:38.890Z"
   },
   {
    "duration": 22,
    "start_time": "2022-03-12T09:34:17.180Z"
   },
   {
    "duration": 15,
    "start_time": "2022-03-12T09:34:31.157Z"
   },
   {
    "duration": 4,
    "start_time": "2022-03-12T09:34:47.882Z"
   },
   {
    "duration": 7,
    "start_time": "2022-03-12T09:34:53.120Z"
   },
   {
    "duration": 98,
    "start_time": "2022-03-12T09:35:02.052Z"
   },
   {
    "duration": 8,
    "start_time": "2022-03-12T09:35:11.400Z"
   },
   {
    "duration": 19,
    "start_time": "2022-03-12T09:37:47.784Z"
   },
   {
    "duration": 31,
    "start_time": "2022-03-12T09:38:14.963Z"
   },
   {
    "duration": 71,
    "start_time": "2022-03-12T09:38:23.328Z"
   },
   {
    "duration": 37,
    "start_time": "2022-03-12T09:38:33.051Z"
   },
   {
    "duration": 6,
    "start_time": "2022-03-12T09:38:40.187Z"
   },
   {
    "duration": 14,
    "start_time": "2022-03-12T09:38:45.536Z"
   },
   {
    "duration": 70,
    "start_time": "2022-03-12T09:38:52.833Z"
   },
   {
    "duration": 103,
    "start_time": "2022-03-12T09:39:01.162Z"
   },
   {
    "duration": 30,
    "start_time": "2022-03-12T09:39:18.211Z"
   },
   {
    "duration": 28,
    "start_time": "2022-03-12T09:54:09.300Z"
   },
   {
    "duration": 10,
    "start_time": "2022-03-12T10:18:50.054Z"
   },
   {
    "duration": 213,
    "start_time": "2022-03-12T10:18:58.575Z"
   },
   {
    "duration": 265,
    "start_time": "2022-03-12T10:19:14.435Z"
   },
   {
    "duration": 219,
    "start_time": "2022-03-12T10:19:26.870Z"
   },
   {
    "duration": 234,
    "start_time": "2022-03-12T10:19:30.865Z"
   },
   {
    "duration": 3,
    "start_time": "2022-03-12T10:19:33.955Z"
   },
   {
    "duration": 466,
    "start_time": "2022-03-12T10:19:33.960Z"
   },
   {
    "duration": 42,
    "start_time": "2022-03-12T10:19:34.428Z"
   },
   {
    "duration": 83,
    "start_time": "2022-03-12T10:19:34.472Z"
   },
   {
    "duration": 16,
    "start_time": "2022-03-12T10:19:34.557Z"
   },
   {
    "duration": 34,
    "start_time": "2022-03-12T10:19:34.575Z"
   },
   {
    "duration": 8,
    "start_time": "2022-03-12T10:19:34.610Z"
   },
   {
    "duration": 9,
    "start_time": "2022-03-12T10:19:34.620Z"
   },
   {
    "duration": 14,
    "start_time": "2022-03-12T10:19:34.632Z"
   },
   {
    "duration": 10,
    "start_time": "2022-03-12T10:19:34.648Z"
   },
   {
    "duration": 11,
    "start_time": "2022-03-12T10:19:34.660Z"
   },
   {
    "duration": 33,
    "start_time": "2022-03-12T10:19:34.673Z"
   },
   {
    "duration": 22,
    "start_time": "2022-03-12T10:19:34.708Z"
   },
   {
    "duration": 30,
    "start_time": "2022-03-12T10:19:34.732Z"
   },
   {
    "duration": 59,
    "start_time": "2022-03-12T10:19:34.763Z"
   },
   {
    "duration": 5,
    "start_time": "2022-03-12T10:19:34.824Z"
   },
   {
    "duration": 30,
    "start_time": "2022-03-12T10:19:34.831Z"
   },
   {
    "duration": 91,
    "start_time": "2022-03-12T10:19:34.863Z"
   },
   {
    "duration": 25,
    "start_time": "2022-03-12T10:19:34.956Z"
   },
   {
    "duration": 26,
    "start_time": "2022-03-12T10:19:36.967Z"
   },
   {
    "duration": 8,
    "start_time": "2022-03-12T10:19:41.910Z"
   },
   {
    "duration": 238,
    "start_time": "2022-03-12T10:19:42.944Z"
   },
   {
    "duration": 469,
    "start_time": "2022-03-12T10:21:38.349Z"
   },
   {
    "duration": 3,
    "start_time": "2022-03-12T10:21:46.377Z"
   },
   {
    "duration": 478,
    "start_time": "2022-03-12T10:21:46.390Z"
   },
   {
    "duration": 44,
    "start_time": "2022-03-12T10:21:46.871Z"
   },
   {
    "duration": 94,
    "start_time": "2022-03-12T10:21:46.918Z"
   },
   {
    "duration": 16,
    "start_time": "2022-03-12T10:21:47.014Z"
   },
   {
    "duration": 10,
    "start_time": "2022-03-12T10:21:47.032Z"
   },
   {
    "duration": 11,
    "start_time": "2022-03-12T10:21:47.044Z"
   },
   {
    "duration": 11,
    "start_time": "2022-03-12T10:21:47.057Z"
   },
   {
    "duration": 15,
    "start_time": "2022-03-12T10:21:47.101Z"
   },
   {
    "duration": 11,
    "start_time": "2022-03-12T10:21:47.119Z"
   },
   {
    "duration": 12,
    "start_time": "2022-03-12T10:21:47.132Z"
   },
   {
    "duration": 10,
    "start_time": "2022-03-12T10:21:47.146Z"
   },
   {
    "duration": 43,
    "start_time": "2022-03-12T10:21:47.158Z"
   },
   {
    "duration": 32,
    "start_time": "2022-03-12T10:21:47.203Z"
   },
   {
    "duration": 32,
    "start_time": "2022-03-12T10:21:47.237Z"
   },
   {
    "duration": 33,
    "start_time": "2022-03-12T10:21:47.271Z"
   },
   {
    "duration": 24,
    "start_time": "2022-03-12T10:21:47.306Z"
   },
   {
    "duration": 87,
    "start_time": "2022-03-12T10:21:47.332Z"
   },
   {
    "duration": 27,
    "start_time": "2022-03-12T10:21:47.422Z"
   },
   {
    "duration": 51,
    "start_time": "2022-03-12T10:21:47.451Z"
   },
   {
    "duration": 10,
    "start_time": "2022-03-12T10:21:53.281Z"
   },
   {
    "duration": 233,
    "start_time": "2022-03-12T10:24:33.070Z"
   },
   {
    "duration": 3,
    "start_time": "2022-03-12T10:24:42.920Z"
   },
   {
    "duration": 459,
    "start_time": "2022-03-12T10:24:42.925Z"
   },
   {
    "duration": 36,
    "start_time": "2022-03-12T10:24:43.386Z"
   },
   {
    "duration": 94,
    "start_time": "2022-03-12T10:24:43.424Z"
   },
   {
    "duration": 15,
    "start_time": "2022-03-12T10:24:43.520Z"
   },
   {
    "duration": 8,
    "start_time": "2022-03-12T10:24:43.537Z"
   },
   {
    "duration": 10,
    "start_time": "2022-03-12T10:24:43.547Z"
   },
   {
    "duration": 41,
    "start_time": "2022-03-12T10:24:43.560Z"
   },
   {
    "duration": 13,
    "start_time": "2022-03-12T10:24:43.604Z"
   },
   {
    "duration": 10,
    "start_time": "2022-03-12T10:24:43.619Z"
   },
   {
    "duration": 10,
    "start_time": "2022-03-12T10:24:43.630Z"
   },
   {
    "duration": 13,
    "start_time": "2022-03-12T10:24:43.642Z"
   },
   {
    "duration": 20,
    "start_time": "2022-03-12T10:24:43.657Z"
   },
   {
    "duration": 30,
    "start_time": "2022-03-12T10:24:43.701Z"
   },
   {
    "duration": 29,
    "start_time": "2022-03-12T10:24:43.733Z"
   },
   {
    "duration": 5,
    "start_time": "2022-03-12T10:24:43.764Z"
   },
   {
    "duration": 44,
    "start_time": "2022-03-12T10:24:43.770Z"
   },
   {
    "duration": 95,
    "start_time": "2022-03-12T10:24:43.815Z"
   },
   {
    "duration": 26,
    "start_time": "2022-03-12T10:24:43.913Z"
   },
   {
    "duration": 25,
    "start_time": "2022-03-12T10:24:43.941Z"
   },
   {
    "duration": 226,
    "start_time": "2022-03-12T10:24:49.756Z"
   },
   {
    "duration": 5995,
    "start_time": "2022-03-12T10:48:47.095Z"
   },
   {
    "duration": 23,
    "start_time": "2022-03-12T10:49:03.315Z"
   },
   {
    "duration": 15,
    "start_time": "2022-03-12T10:50:17.975Z"
   },
   {
    "duration": 23,
    "start_time": "2022-03-12T10:51:12.791Z"
   },
   {
    "duration": 42,
    "start_time": "2022-03-12T10:51:42.263Z"
   },
   {
    "duration": 23,
    "start_time": "2022-03-12T11:18:43.663Z"
   },
   {
    "duration": 19,
    "start_time": "2022-03-12T11:23:57.386Z"
   },
   {
    "duration": 40,
    "start_time": "2022-03-12T11:24:19.282Z"
   },
   {
    "duration": 4,
    "start_time": "2022-03-12T11:28:44.190Z"
   },
   {
    "duration": 450,
    "start_time": "2022-03-12T11:28:44.198Z"
   },
   {
    "duration": 37,
    "start_time": "2022-03-12T11:28:44.649Z"
   },
   {
    "duration": 65,
    "start_time": "2022-03-12T11:28:44.701Z"
   },
   {
    "duration": 40,
    "start_time": "2022-03-12T11:28:44.768Z"
   },
   {
    "duration": 12,
    "start_time": "2022-03-12T11:28:44.810Z"
   },
   {
    "duration": 6,
    "start_time": "2022-03-12T11:28:44.824Z"
   },
   {
    "duration": 6,
    "start_time": "2022-03-12T11:28:44.832Z"
   },
   {
    "duration": 17,
    "start_time": "2022-03-12T11:28:44.841Z"
   },
   {
    "duration": 11,
    "start_time": "2022-03-12T11:28:44.860Z"
   },
   {
    "duration": 7,
    "start_time": "2022-03-12T11:28:44.901Z"
   },
   {
    "duration": 9,
    "start_time": "2022-03-12T11:28:44.910Z"
   },
   {
    "duration": 23,
    "start_time": "2022-03-12T11:28:44.921Z"
   },
   {
    "duration": 64,
    "start_time": "2022-03-12T11:28:44.946Z"
   },
   {
    "duration": 31,
    "start_time": "2022-03-12T11:28:45.013Z"
   },
   {
    "duration": 6,
    "start_time": "2022-03-12T11:28:45.046Z"
   },
   {
    "duration": 26,
    "start_time": "2022-03-12T11:28:45.054Z"
   },
   {
    "duration": 85,
    "start_time": "2022-03-12T11:28:45.102Z"
   },
   {
    "duration": 36,
    "start_time": "2022-03-12T11:28:45.189Z"
   },
   {
    "duration": 27,
    "start_time": "2022-03-12T11:28:45.227Z"
   },
   {
    "duration": 218,
    "start_time": "2022-03-12T11:28:45.256Z"
   },
   {
    "duration": 32,
    "start_time": "2022-03-12T11:28:45.476Z"
   },
   {
    "duration": 16,
    "start_time": "2022-03-12T11:28:45.510Z"
   },
   {
    "duration": 39,
    "start_time": "2022-03-12T11:28:45.530Z"
   },
   {
    "duration": 49,
    "start_time": "2022-03-12T11:28:45.571Z"
   },
   {
    "duration": 24,
    "start_time": "2022-03-12T11:28:45.622Z"
   },
   {
    "duration": 56,
    "start_time": "2022-03-12T11:28:45.648Z"
   },
   {
    "duration": 42,
    "start_time": "2022-03-12T11:28:45.706Z"
   },
   {
    "duration": 19,
    "start_time": "2022-03-12T11:28:48.796Z"
   },
   {
    "duration": 14,
    "start_time": "2022-03-12T11:32:01.669Z"
   },
   {
    "duration": 13,
    "start_time": "2022-03-12T11:32:05.567Z"
   },
   {
    "duration": 341,
    "start_time": "2022-03-12T16:47:38.229Z"
   },
   {
    "duration": 1041,
    "start_time": "2022-03-12T17:02:05.056Z"
   },
   {
    "duration": 639,
    "start_time": "2022-03-12T17:02:06.100Z"
   },
   {
    "duration": 53,
    "start_time": "2022-03-12T17:02:06.742Z"
   },
   {
    "duration": 113,
    "start_time": "2022-03-12T17:02:06.797Z"
   },
   {
    "duration": 22,
    "start_time": "2022-03-12T17:02:06.912Z"
   },
   {
    "duration": 45,
    "start_time": "2022-03-12T17:02:06.936Z"
   },
   {
    "duration": 11,
    "start_time": "2022-03-12T17:02:06.983Z"
   },
   {
    "duration": 8,
    "start_time": "2022-03-12T17:02:07.000Z"
   },
   {
    "duration": 60,
    "start_time": "2022-03-12T17:02:07.013Z"
   },
   {
    "duration": 6,
    "start_time": "2022-03-12T17:02:07.076Z"
   },
   {
    "duration": 12,
    "start_time": "2022-03-12T17:02:07.085Z"
   },
   {
    "duration": 12,
    "start_time": "2022-03-12T17:02:07.099Z"
   },
   {
    "duration": 70,
    "start_time": "2022-03-12T17:02:07.114Z"
   },
   {
    "duration": 44,
    "start_time": "2022-03-12T17:02:07.187Z"
   },
   {
    "duration": 50,
    "start_time": "2022-03-12T17:02:07.272Z"
   },
   {
    "duration": 7,
    "start_time": "2022-03-12T17:02:07.324Z"
   },
   {
    "duration": 40,
    "start_time": "2022-03-12T17:02:07.334Z"
   },
   {
    "duration": 140,
    "start_time": "2022-03-12T17:02:07.376Z"
   },
   {
    "duration": 39,
    "start_time": "2022-03-12T17:02:07.518Z"
   },
   {
    "duration": 35,
    "start_time": "2022-03-12T17:02:07.574Z"
   },
   {
    "duration": 342,
    "start_time": "2022-03-12T17:02:07.612Z"
   },
   {
    "duration": 36,
    "start_time": "2022-03-12T17:02:07.956Z"
   },
   {
    "duration": 18,
    "start_time": "2022-03-12T17:02:07.996Z"
   },
   {
    "duration": 115,
    "start_time": "2022-03-12T17:02:08.017Z"
   },
   {
    "duration": 50,
    "start_time": "2022-03-12T17:02:08.135Z"
   },
   {
    "duration": 30,
    "start_time": "2022-03-12T17:02:08.187Z"
   },
   {
    "duration": 64,
    "start_time": "2022-03-12T17:02:08.219Z"
   },
   {
    "duration": 61,
    "start_time": "2022-03-12T17:02:08.285Z"
   },
   {
    "duration": 42,
    "start_time": "2022-03-12T17:02:08.349Z"
   },
   {
    "duration": 19,
    "start_time": "2022-03-12T17:02:08.393Z"
   },
   {
    "duration": 17,
    "start_time": "2022-03-12T17:02:11.266Z"
   },
   {
    "duration": 12,
    "start_time": "2022-03-12T17:03:49.850Z"
   },
   {
    "duration": 51,
    "start_time": "2022-03-12T17:13:09.767Z"
   },
   {
    "duration": 667,
    "start_time": "2022-03-13T06:50:29.549Z"
   },
   {
    "duration": 456,
    "start_time": "2022-03-13T06:50:30.218Z"
   },
   {
    "duration": 31,
    "start_time": "2022-03-13T06:50:30.676Z"
   },
   {
    "duration": 73,
    "start_time": "2022-03-13T06:50:30.709Z"
   },
   {
    "duration": 15,
    "start_time": "2022-03-13T06:50:30.783Z"
   },
   {
    "duration": 11,
    "start_time": "2022-03-13T06:50:30.799Z"
   },
   {
    "duration": 21,
    "start_time": "2022-03-13T06:50:30.812Z"
   },
   {
    "duration": 17,
    "start_time": "2022-03-13T06:50:30.836Z"
   },
   {
    "duration": 22,
    "start_time": "2022-03-13T06:50:30.862Z"
   },
   {
    "duration": 3,
    "start_time": "2022-03-13T06:50:30.885Z"
   },
   {
    "duration": 16,
    "start_time": "2022-03-13T06:50:30.890Z"
   },
   {
    "duration": 17,
    "start_time": "2022-03-13T06:50:30.907Z"
   },
   {
    "duration": 24,
    "start_time": "2022-03-13T06:50:30.925Z"
   },
   {
    "duration": 26,
    "start_time": "2022-03-13T06:50:30.951Z"
   },
   {
    "duration": 34,
    "start_time": "2022-03-13T06:50:30.980Z"
   },
   {
    "duration": 7,
    "start_time": "2022-03-13T06:50:31.016Z"
   },
   {
    "duration": 39,
    "start_time": "2022-03-13T06:50:31.025Z"
   },
   {
    "duration": 106,
    "start_time": "2022-03-13T06:50:31.066Z"
   },
   {
    "duration": 25,
    "start_time": "2022-03-13T06:50:31.174Z"
   },
   {
    "duration": 23,
    "start_time": "2022-03-13T06:50:31.201Z"
   },
   {
    "duration": 207,
    "start_time": "2022-03-13T06:50:31.226Z"
   },
   {
    "duration": 29,
    "start_time": "2022-03-13T06:50:31.434Z"
   },
   {
    "duration": 13,
    "start_time": "2022-03-13T06:50:31.466Z"
   },
   {
    "duration": 39,
    "start_time": "2022-03-13T06:50:31.480Z"
   },
   {
    "duration": 18,
    "start_time": "2022-03-13T06:50:31.521Z"
   },
   {
    "duration": 19,
    "start_time": "2022-03-13T06:50:31.563Z"
   },
   {
    "duration": 17,
    "start_time": "2022-03-13T06:50:31.584Z"
   },
   {
    "duration": 60,
    "start_time": "2022-03-13T06:50:31.603Z"
   },
   {
    "duration": 16,
    "start_time": "2022-03-13T06:50:31.665Z"
   },
   {
    "duration": 17,
    "start_time": "2022-03-13T06:50:31.683Z"
   },
   {
    "duration": 17,
    "start_time": "2022-03-13T06:50:31.702Z"
   },
   {
    "duration": 52,
    "start_time": "2022-03-13T06:50:31.721Z"
   },
   {
    "duration": 351,
    "start_time": "2022-03-13T06:52:20.782Z"
   },
   {
    "duration": 54,
    "start_time": "2022-03-13T06:52:29.923Z"
   },
   {
    "duration": 256,
    "start_time": "2022-03-13T06:53:58.747Z"
   },
   {
    "duration": 3,
    "start_time": "2022-03-13T06:54:18.997Z"
   },
   {
    "duration": 466,
    "start_time": "2022-03-13T06:54:19.002Z"
   },
   {
    "duration": 32,
    "start_time": "2022-03-13T06:54:19.470Z"
   },
   {
    "duration": 75,
    "start_time": "2022-03-13T06:54:19.504Z"
   },
   {
    "duration": 13,
    "start_time": "2022-03-13T06:54:19.581Z"
   },
   {
    "duration": 11,
    "start_time": "2022-03-13T06:54:19.596Z"
   },
   {
    "duration": 7,
    "start_time": "2022-03-13T06:54:19.608Z"
   },
   {
    "duration": 8,
    "start_time": "2022-03-13T06:54:19.617Z"
   },
   {
    "duration": 41,
    "start_time": "2022-03-13T06:54:19.628Z"
   },
   {
    "duration": 10,
    "start_time": "2022-03-13T06:54:19.671Z"
   },
   {
    "duration": 11,
    "start_time": "2022-03-13T06:54:19.682Z"
   },
   {
    "duration": 21,
    "start_time": "2022-03-13T06:54:19.694Z"
   },
   {
    "duration": 17,
    "start_time": "2022-03-13T06:54:19.716Z"
   },
   {
    "duration": 36,
    "start_time": "2022-03-13T06:54:19.735Z"
   },
   {
    "duration": 28,
    "start_time": "2022-03-13T06:54:19.772Z"
   },
   {
    "duration": 4,
    "start_time": "2022-03-13T06:54:19.802Z"
   },
   {
    "duration": 22,
    "start_time": "2022-03-13T06:54:19.808Z"
   },
   {
    "duration": 106,
    "start_time": "2022-03-13T06:54:19.832Z"
   },
   {
    "duration": 32,
    "start_time": "2022-03-13T06:54:19.940Z"
   },
   {
    "duration": 26,
    "start_time": "2022-03-13T06:54:19.974Z"
   },
   {
    "duration": 244,
    "start_time": "2022-03-13T06:54:20.001Z"
   },
   {
    "duration": 25,
    "start_time": "2022-03-13T06:54:20.247Z"
   },
   {
    "duration": 13,
    "start_time": "2022-03-13T06:54:20.273Z"
   },
   {
    "duration": 37,
    "start_time": "2022-03-13T06:54:20.288Z"
   },
   {
    "duration": 43,
    "start_time": "2022-03-13T06:54:20.327Z"
   },
   {
    "duration": 21,
    "start_time": "2022-03-13T06:54:20.372Z"
   },
   {
    "duration": 18,
    "start_time": "2022-03-13T06:54:20.397Z"
   },
   {
    "duration": 72,
    "start_time": "2022-03-13T06:54:20.417Z"
   },
   {
    "duration": 18,
    "start_time": "2022-03-13T06:54:20.491Z"
   },
   {
    "duration": 13,
    "start_time": "2022-03-13T06:54:20.511Z"
   },
   {
    "duration": 41,
    "start_time": "2022-03-13T06:54:20.526Z"
   },
   {
    "duration": 61,
    "start_time": "2022-03-13T06:54:25.226Z"
   },
   {
    "duration": 236,
    "start_time": "2022-03-13T06:56:11.942Z"
   },
   {
    "duration": 3,
    "start_time": "2022-03-13T06:56:16.293Z"
   },
   {
    "duration": 431,
    "start_time": "2022-03-13T06:56:16.298Z"
   },
   {
    "duration": 37,
    "start_time": "2022-03-13T06:56:16.731Z"
   },
   {
    "duration": 56,
    "start_time": "2022-03-13T06:56:16.770Z"
   },
   {
    "duration": 39,
    "start_time": "2022-03-13T06:56:16.828Z"
   },
   {
    "duration": 7,
    "start_time": "2022-03-13T06:56:16.868Z"
   },
   {
    "duration": 9,
    "start_time": "2022-03-13T06:56:16.876Z"
   },
   {
    "duration": 8,
    "start_time": "2022-03-13T06:56:16.888Z"
   },
   {
    "duration": 18,
    "start_time": "2022-03-13T06:56:16.898Z"
   },
   {
    "duration": 5,
    "start_time": "2022-03-13T06:56:16.918Z"
   },
   {
    "duration": 14,
    "start_time": "2022-03-13T06:56:16.924Z"
   },
   {
    "duration": 7,
    "start_time": "2022-03-13T06:56:16.963Z"
   },
   {
    "duration": 18,
    "start_time": "2022-03-13T06:56:16.972Z"
   },
   {
    "duration": 28,
    "start_time": "2022-03-13T06:56:16.992Z"
   },
   {
    "duration": 67,
    "start_time": "2022-03-13T06:56:17.022Z"
   },
   {
    "duration": 4,
    "start_time": "2022-03-13T06:56:17.091Z"
   },
   {
    "duration": 19,
    "start_time": "2022-03-13T06:56:17.097Z"
   },
   {
    "duration": 96,
    "start_time": "2022-03-13T06:56:17.117Z"
   },
   {
    "duration": 22,
    "start_time": "2022-03-13T06:56:17.215Z"
   },
   {
    "duration": 41,
    "start_time": "2022-03-13T06:56:17.238Z"
   },
   {
    "duration": 222,
    "start_time": "2022-03-13T06:56:17.280Z"
   },
   {
    "duration": 20,
    "start_time": "2022-03-13T06:56:17.504Z"
   },
   {
    "duration": 13,
    "start_time": "2022-03-13T06:56:17.527Z"
   },
   {
    "duration": 48,
    "start_time": "2022-03-13T06:56:17.542Z"
   },
   {
    "duration": 19,
    "start_time": "2022-03-13T06:56:17.592Z"
   },
   {
    "duration": 20,
    "start_time": "2022-03-13T06:56:17.613Z"
   },
   {
    "duration": 18,
    "start_time": "2022-03-13T06:56:17.663Z"
   },
   {
    "duration": 34,
    "start_time": "2022-03-13T06:56:17.683Z"
   },
   {
    "duration": 16,
    "start_time": "2022-03-13T06:56:17.718Z"
   },
   {
    "duration": 36,
    "start_time": "2022-03-13T06:56:17.736Z"
   },
   {
    "duration": 10,
    "start_time": "2022-03-13T06:56:17.774Z"
   },
   {
    "duration": 12,
    "start_time": "2022-03-13T06:56:20.646Z"
   },
   {
    "duration": 35,
    "start_time": "2022-03-13T06:56:21.288Z"
   },
   {
    "duration": 38,
    "start_time": "2022-03-13T07:34:53.377Z"
   },
   {
    "duration": 38,
    "start_time": "2022-03-13T07:34:59.996Z"
   },
   {
    "duration": 47,
    "start_time": "2022-03-13T07:43:24.327Z"
   },
   {
    "duration": 6759,
    "start_time": "2022-03-13T07:44:11.843Z"
   },
   {
    "duration": -4,
    "start_time": "2022-03-13T07:44:18.609Z"
   },
   {
    "duration": -5,
    "start_time": "2022-03-13T07:44:18.611Z"
   },
   {
    "duration": -7,
    "start_time": "2022-03-13T07:44:18.614Z"
   },
   {
    "duration": -8,
    "start_time": "2022-03-13T07:44:18.615Z"
   },
   {
    "duration": -13,
    "start_time": "2022-03-13T07:44:18.621Z"
   },
   {
    "duration": -13,
    "start_time": "2022-03-13T07:44:18.622Z"
   },
   {
    "duration": -14,
    "start_time": "2022-03-13T07:44:18.624Z"
   },
   {
    "duration": -14,
    "start_time": "2022-03-13T07:44:18.625Z"
   },
   {
    "duration": -15,
    "start_time": "2022-03-13T07:44:18.627Z"
   },
   {
    "duration": -15,
    "start_time": "2022-03-13T07:44:18.628Z"
   },
   {
    "duration": -15,
    "start_time": "2022-03-13T07:44:18.629Z"
   },
   {
    "duration": -15,
    "start_time": "2022-03-13T07:44:18.630Z"
   },
   {
    "duration": -34,
    "start_time": "2022-03-13T07:44:18.650Z"
   },
   {
    "duration": -35,
    "start_time": "2022-03-13T07:44:18.652Z"
   },
   {
    "duration": -37,
    "start_time": "2022-03-13T07:44:18.654Z"
   },
   {
    "duration": -36,
    "start_time": "2022-03-13T07:44:18.655Z"
   },
   {
    "duration": -38,
    "start_time": "2022-03-13T07:44:18.658Z"
   },
   {
    "duration": -44,
    "start_time": "2022-03-13T07:44:18.664Z"
   },
   {
    "duration": -44,
    "start_time": "2022-03-13T07:44:18.665Z"
   },
   {
    "duration": -44,
    "start_time": "2022-03-13T07:44:18.666Z"
   },
   {
    "duration": -44,
    "start_time": "2022-03-13T07:44:18.667Z"
   },
   {
    "duration": -45,
    "start_time": "2022-03-13T07:44:18.669Z"
   },
   {
    "duration": -45,
    "start_time": "2022-03-13T07:44:18.670Z"
   },
   {
    "duration": -45,
    "start_time": "2022-03-13T07:44:18.671Z"
   },
   {
    "duration": -45,
    "start_time": "2022-03-13T07:44:18.672Z"
   },
   {
    "duration": -45,
    "start_time": "2022-03-13T07:44:18.673Z"
   },
   {
    "duration": -46,
    "start_time": "2022-03-13T07:44:18.674Z"
   },
   {
    "duration": -46,
    "start_time": "2022-03-13T07:44:18.675Z"
   },
   {
    "duration": -46,
    "start_time": "2022-03-13T07:44:18.676Z"
   },
   {
    "duration": -46,
    "start_time": "2022-03-13T07:44:18.677Z"
   },
   {
    "duration": -46,
    "start_time": "2022-03-13T07:44:18.678Z"
   },
   {
    "duration": 11,
    "start_time": "2022-03-13T07:44:20.086Z"
   },
   {
    "duration": 5492,
    "start_time": "2022-03-13T07:44:20.588Z"
   },
   {
    "duration": 3,
    "start_time": "2022-03-13T07:44:55.286Z"
   },
   {
    "duration": 419,
    "start_time": "2022-03-13T07:44:55.291Z"
   },
   {
    "duration": 51,
    "start_time": "2022-03-13T07:44:55.712Z"
   },
   {
    "duration": 60,
    "start_time": "2022-03-13T07:44:55.765Z"
   },
   {
    "duration": 44,
    "start_time": "2022-03-13T07:44:55.827Z"
   },
   {
    "duration": 7,
    "start_time": "2022-03-13T07:44:55.873Z"
   },
   {
    "duration": 6,
    "start_time": "2022-03-13T07:44:55.883Z"
   },
   {
    "duration": 6,
    "start_time": "2022-03-13T07:44:55.891Z"
   },
   {
    "duration": 12,
    "start_time": "2022-03-13T07:44:55.899Z"
   },
   {
    "duration": 5,
    "start_time": "2022-03-13T07:44:55.913Z"
   },
   {
    "duration": 49,
    "start_time": "2022-03-13T07:44:55.920Z"
   },
   {
    "duration": 7,
    "start_time": "2022-03-13T07:44:55.971Z"
   },
   {
    "duration": 16,
    "start_time": "2022-03-13T07:44:55.980Z"
   },
   {
    "duration": 30,
    "start_time": "2022-03-13T07:44:55.997Z"
   },
   {
    "duration": 62,
    "start_time": "2022-03-13T07:44:56.029Z"
   },
   {
    "duration": 4,
    "start_time": "2022-03-13T07:44:56.093Z"
   },
   {
    "duration": 15,
    "start_time": "2022-03-13T07:44:56.099Z"
   },
   {
    "duration": 93,
    "start_time": "2022-03-13T07:44:56.115Z"
   },
   {
    "duration": 22,
    "start_time": "2022-03-13T07:44:56.211Z"
   },
   {
    "duration": 37,
    "start_time": "2022-03-13T07:44:56.235Z"
   },
   {
    "duration": 204,
    "start_time": "2022-03-13T07:44:56.274Z"
   },
   {
    "duration": 21,
    "start_time": "2022-03-13T07:44:56.480Z"
   },
   {
    "duration": 13,
    "start_time": "2022-03-13T07:44:56.503Z"
   },
   {
    "duration": 57,
    "start_time": "2022-03-13T07:44:56.518Z"
   },
   {
    "duration": 20,
    "start_time": "2022-03-13T07:44:56.577Z"
   },
   {
    "duration": 19,
    "start_time": "2022-03-13T07:44:56.599Z"
   },
   {
    "duration": 43,
    "start_time": "2022-03-13T07:44:56.620Z"
   },
   {
    "duration": 33,
    "start_time": "2022-03-13T07:44:56.665Z"
   },
   {
    "duration": 16,
    "start_time": "2022-03-13T07:44:56.700Z"
   },
   {
    "duration": 11,
    "start_time": "2022-03-13T07:44:56.717Z"
   },
   {
    "duration": 34,
    "start_time": "2022-03-13T07:44:56.730Z"
   },
   {
    "duration": 10,
    "start_time": "2022-03-13T07:44:57.870Z"
   },
   {
    "duration": 60,
    "start_time": "2022-03-13T07:44:58.344Z"
   },
   {
    "duration": 51,
    "start_time": "2022-03-13T07:45:08.330Z"
   },
   {
    "duration": 48,
    "start_time": "2022-03-13T07:45:22.540Z"
   },
   {
    "duration": 48,
    "start_time": "2022-03-13T07:46:32.759Z"
   },
   {
    "duration": 42,
    "start_time": "2022-03-13T07:48:48.269Z"
   },
   {
    "duration": 41,
    "start_time": "2022-03-13T07:49:09.418Z"
   },
   {
    "duration": 3,
    "start_time": "2022-03-13T07:49:13.654Z"
   },
   {
    "duration": 439,
    "start_time": "2022-03-13T07:49:13.661Z"
   },
   {
    "duration": 36,
    "start_time": "2022-03-13T07:49:14.102Z"
   },
   {
    "duration": 75,
    "start_time": "2022-03-13T07:49:14.140Z"
   },
   {
    "duration": 14,
    "start_time": "2022-03-13T07:49:14.217Z"
   },
   {
    "duration": 31,
    "start_time": "2022-03-13T07:49:14.233Z"
   },
   {
    "duration": 5,
    "start_time": "2022-03-13T07:49:14.265Z"
   },
   {
    "duration": 8,
    "start_time": "2022-03-13T07:49:14.272Z"
   },
   {
    "duration": 15,
    "start_time": "2022-03-13T07:49:14.283Z"
   },
   {
    "duration": 5,
    "start_time": "2022-03-13T07:49:14.300Z"
   },
   {
    "duration": 7,
    "start_time": "2022-03-13T07:49:14.307Z"
   },
   {
    "duration": 8,
    "start_time": "2022-03-13T07:49:14.316Z"
   },
   {
    "duration": 39,
    "start_time": "2022-03-13T07:49:14.325Z"
   },
   {
    "duration": 27,
    "start_time": "2022-03-13T07:49:14.365Z"
   },
   {
    "duration": 27,
    "start_time": "2022-03-13T07:49:14.394Z"
   },
   {
    "duration": 4,
    "start_time": "2022-03-13T07:49:14.423Z"
   },
   {
    "duration": 41,
    "start_time": "2022-03-13T07:49:14.429Z"
   },
   {
    "duration": 69,
    "start_time": "2022-03-13T07:49:14.471Z"
   },
   {
    "duration": 37,
    "start_time": "2022-03-13T07:49:14.541Z"
   },
   {
    "duration": 22,
    "start_time": "2022-03-13T07:49:14.580Z"
   },
   {
    "duration": 211,
    "start_time": "2022-03-13T07:49:14.604Z"
   },
   {
    "duration": 21,
    "start_time": "2022-03-13T07:49:14.817Z"
   },
   {
    "duration": 25,
    "start_time": "2022-03-13T07:49:14.840Z"
   },
   {
    "duration": 37,
    "start_time": "2022-03-13T07:49:14.868Z"
   },
   {
    "duration": 19,
    "start_time": "2022-03-13T07:49:14.907Z"
   },
   {
    "duration": 44,
    "start_time": "2022-03-13T07:49:14.928Z"
   },
   {
    "duration": 18,
    "start_time": "2022-03-13T07:49:14.974Z"
   },
   {
    "duration": 48,
    "start_time": "2022-03-13T07:49:14.993Z"
   },
   {
    "duration": 17,
    "start_time": "2022-03-13T07:49:15.063Z"
   },
   {
    "duration": 11,
    "start_time": "2022-03-13T07:49:15.082Z"
   },
   {
    "duration": 16,
    "start_time": "2022-03-13T07:49:15.095Z"
   },
   {
    "duration": 10,
    "start_time": "2022-03-13T07:49:16.604Z"
   },
   {
    "duration": 44,
    "start_time": "2022-03-13T07:49:17.176Z"
   },
   {
    "duration": 48,
    "start_time": "2022-03-13T07:54:08.484Z"
   },
   {
    "duration": 3,
    "start_time": "2022-03-13T07:54:29.576Z"
   },
   {
    "duration": 419,
    "start_time": "2022-03-13T07:54:29.581Z"
   },
   {
    "duration": 40,
    "start_time": "2022-03-13T07:54:30.002Z"
   },
   {
    "duration": 74,
    "start_time": "2022-03-13T07:54:30.044Z"
   },
   {
    "duration": 13,
    "start_time": "2022-03-13T07:54:30.120Z"
   },
   {
    "duration": 34,
    "start_time": "2022-03-13T07:54:30.134Z"
   },
   {
    "duration": 10,
    "start_time": "2022-03-13T07:54:30.170Z"
   },
   {
    "duration": 15,
    "start_time": "2022-03-13T07:54:30.182Z"
   },
   {
    "duration": 20,
    "start_time": "2022-03-13T07:54:30.200Z"
   },
   {
    "duration": 15,
    "start_time": "2022-03-13T07:54:30.222Z"
   },
   {
    "duration": 11,
    "start_time": "2022-03-13T07:54:30.239Z"
   },
   {
    "duration": 9,
    "start_time": "2022-03-13T07:54:30.252Z"
   },
   {
    "duration": 19,
    "start_time": "2022-03-13T07:54:30.263Z"
   },
   {
    "duration": 28,
    "start_time": "2022-03-13T07:54:30.284Z"
   },
   {
    "duration": 28,
    "start_time": "2022-03-13T07:54:30.313Z"
   },
   {
    "duration": 5,
    "start_time": "2022-03-13T07:54:30.362Z"
   },
   {
    "duration": 17,
    "start_time": "2022-03-13T07:54:30.369Z"
   },
   {
    "duration": 83,
    "start_time": "2022-03-13T07:54:30.387Z"
   },
   {
    "duration": 24,
    "start_time": "2022-03-13T07:54:30.472Z"
   },
   {
    "duration": 24,
    "start_time": "2022-03-13T07:54:30.498Z"
   },
   {
    "duration": 198,
    "start_time": "2022-03-13T07:54:30.524Z"
   },
   {
    "duration": 20,
    "start_time": "2022-03-13T07:54:30.724Z"
   },
   {
    "duration": 25,
    "start_time": "2022-03-13T07:54:30.745Z"
   },
   {
    "duration": 35,
    "start_time": "2022-03-13T07:54:30.772Z"
   },
   {
    "duration": 20,
    "start_time": "2022-03-13T07:54:30.809Z"
   },
   {
    "duration": 47,
    "start_time": "2022-03-13T07:54:30.830Z"
   },
   {
    "duration": 20,
    "start_time": "2022-03-13T07:54:30.880Z"
   },
   {
    "duration": 35,
    "start_time": "2022-03-13T07:54:30.901Z"
   },
   {
    "duration": 39,
    "start_time": "2022-03-13T07:54:30.938Z"
   },
   {
    "duration": 21,
    "start_time": "2022-03-13T07:54:30.979Z"
   },
   {
    "duration": 22,
    "start_time": "2022-03-13T07:54:31.001Z"
   },
   {
    "duration": 12,
    "start_time": "2022-03-13T07:54:32.675Z"
   },
   {
    "duration": 84,
    "start_time": "2022-03-13T07:54:33.357Z"
   },
   {
    "duration": 3,
    "start_time": "2022-03-13T07:55:07.869Z"
   },
   {
    "duration": 436,
    "start_time": "2022-03-13T07:55:07.874Z"
   },
   {
    "duration": 50,
    "start_time": "2022-03-13T07:55:08.312Z"
   },
   {
    "duration": 63,
    "start_time": "2022-03-13T07:55:08.365Z"
   },
   {
    "duration": 44,
    "start_time": "2022-03-13T07:55:08.430Z"
   },
   {
    "duration": 7,
    "start_time": "2022-03-13T07:55:08.476Z"
   },
   {
    "duration": 7,
    "start_time": "2022-03-13T07:55:08.485Z"
   },
   {
    "duration": 8,
    "start_time": "2022-03-13T07:55:08.494Z"
   },
   {
    "duration": 13,
    "start_time": "2022-03-13T07:55:08.505Z"
   },
   {
    "duration": 45,
    "start_time": "2022-03-13T07:55:08.521Z"
   },
   {
    "duration": 9,
    "start_time": "2022-03-13T07:55:08.568Z"
   },
   {
    "duration": 7,
    "start_time": "2022-03-13T07:55:08.579Z"
   },
   {
    "duration": 17,
    "start_time": "2022-03-13T07:55:08.588Z"
   },
   {
    "duration": 62,
    "start_time": "2022-03-13T07:55:08.607Z"
   },
   {
    "duration": 29,
    "start_time": "2022-03-13T07:55:08.671Z"
   },
   {
    "duration": 5,
    "start_time": "2022-03-13T07:55:08.702Z"
   },
   {
    "duration": 15,
    "start_time": "2022-03-13T07:55:08.709Z"
   },
   {
    "duration": 100,
    "start_time": "2022-03-13T07:55:08.726Z"
   },
   {
    "duration": 41,
    "start_time": "2022-03-13T07:55:08.829Z"
   },
   {
    "duration": 27,
    "start_time": "2022-03-13T07:55:08.872Z"
   },
   {
    "duration": 222,
    "start_time": "2022-03-13T07:55:08.901Z"
   },
   {
    "duration": 21,
    "start_time": "2022-03-13T07:55:09.124Z"
   },
   {
    "duration": 27,
    "start_time": "2022-03-13T07:55:09.147Z"
   },
   {
    "duration": 39,
    "start_time": "2022-03-13T07:55:09.176Z"
   },
   {
    "duration": 20,
    "start_time": "2022-03-13T07:55:09.217Z"
   },
   {
    "duration": 41,
    "start_time": "2022-03-13T07:55:09.239Z"
   },
   {
    "duration": 18,
    "start_time": "2022-03-13T07:55:09.283Z"
   },
   {
    "duration": 35,
    "start_time": "2022-03-13T07:55:09.303Z"
   },
   {
    "duration": 17,
    "start_time": "2022-03-13T07:55:09.363Z"
   },
   {
    "duration": 11,
    "start_time": "2022-03-13T07:55:09.382Z"
   },
   {
    "duration": 10,
    "start_time": "2022-03-13T07:55:09.394Z"
   },
   {
    "duration": 12,
    "start_time": "2022-03-13T07:55:10.301Z"
   },
   {
    "duration": 82,
    "start_time": "2022-03-13T07:55:10.930Z"
   },
   {
    "duration": 44,
    "start_time": "2022-03-13T07:55:22.103Z"
   },
   {
    "duration": 6480,
    "start_time": "2022-03-13T07:56:14.561Z"
   },
   {
    "duration": 45,
    "start_time": "2022-03-13T07:56:36.557Z"
   },
   {
    "duration": 5732,
    "start_time": "2022-03-13T07:58:32.739Z"
   },
   {
    "duration": 46,
    "start_time": "2022-03-13T08:00:05.207Z"
   },
   {
    "duration": 42,
    "start_time": "2022-03-13T08:00:18.796Z"
   },
   {
    "duration": 45,
    "start_time": "2022-03-13T08:00:34.496Z"
   },
   {
    "duration": 46,
    "start_time": "2022-03-13T08:02:14.908Z"
   },
   {
    "duration": 45,
    "start_time": "2022-03-13T08:04:24.550Z"
   },
   {
    "duration": 78,
    "start_time": "2022-03-13T08:05:00.955Z"
   },
   {
    "duration": 43,
    "start_time": "2022-03-13T08:05:27.890Z"
   },
   {
    "duration": 6001,
    "start_time": "2022-03-13T08:05:38.648Z"
   },
   {
    "duration": 46,
    "start_time": "2022-03-13T08:05:44.801Z"
   },
   {
    "duration": 44,
    "start_time": "2022-03-13T08:07:00.935Z"
   },
   {
    "duration": 49,
    "start_time": "2022-03-13T08:07:09.980Z"
   },
   {
    "duration": 292,
    "start_time": "2022-03-13T08:08:34.406Z"
   },
   {
    "duration": 64,
    "start_time": "2022-03-13T08:09:09.867Z"
   },
   {
    "duration": 44,
    "start_time": "2022-03-13T08:09:43.844Z"
   },
   {
    "duration": 43,
    "start_time": "2022-03-13T08:10:26.344Z"
   },
   {
    "duration": 58,
    "start_time": "2022-03-13T08:10:44.919Z"
   },
   {
    "duration": 82,
    "start_time": "2022-03-13T08:18:49.646Z"
   },
   {
    "duration": 83,
    "start_time": "2022-03-13T08:19:08.721Z"
   },
   {
    "duration": 60,
    "start_time": "2022-03-13T08:21:15.217Z"
   },
   {
    "duration": 60,
    "start_time": "2022-03-13T08:21:41.188Z"
   },
   {
    "duration": 250,
    "start_time": "2022-03-13T14:11:29.077Z"
   },
   {
    "duration": 674,
    "start_time": "2022-03-13T14:11:36.844Z"
   },
   {
    "duration": 447,
    "start_time": "2022-03-13T14:11:37.520Z"
   },
   {
    "duration": 30,
    "start_time": "2022-03-13T14:11:37.969Z"
   },
   {
    "duration": 80,
    "start_time": "2022-03-13T14:11:38.001Z"
   },
   {
    "duration": 16,
    "start_time": "2022-03-13T14:11:38.083Z"
   },
   {
    "duration": 9,
    "start_time": "2022-03-13T14:11:38.101Z"
   },
   {
    "duration": 10,
    "start_time": "2022-03-13T14:11:38.112Z"
   },
   {
    "duration": 38,
    "start_time": "2022-03-13T14:11:38.125Z"
   },
   {
    "duration": 17,
    "start_time": "2022-03-13T14:11:38.166Z"
   },
   {
    "duration": 3,
    "start_time": "2022-03-13T14:11:38.185Z"
   },
   {
    "duration": 8,
    "start_time": "2022-03-13T14:11:38.191Z"
   },
   {
    "duration": 9,
    "start_time": "2022-03-13T14:11:38.200Z"
   },
   {
    "duration": 16,
    "start_time": "2022-03-13T14:11:38.211Z"
   },
   {
    "duration": 64,
    "start_time": "2022-03-13T14:11:38.228Z"
   },
   {
    "duration": 32,
    "start_time": "2022-03-13T14:11:38.294Z"
   },
   {
    "duration": 5,
    "start_time": "2022-03-13T14:11:38.328Z"
   },
   {
    "duration": 33,
    "start_time": "2022-03-13T14:11:38.335Z"
   },
   {
    "duration": 94,
    "start_time": "2022-03-13T14:11:38.370Z"
   },
   {
    "duration": 24,
    "start_time": "2022-03-13T14:11:38.466Z"
   },
   {
    "duration": 25,
    "start_time": "2022-03-13T14:11:38.492Z"
   },
   {
    "duration": 205,
    "start_time": "2022-03-13T14:11:38.519Z"
   },
   {
    "duration": 22,
    "start_time": "2022-03-13T14:11:38.725Z"
   },
   {
    "duration": 18,
    "start_time": "2022-03-13T14:11:38.750Z"
   },
   {
    "duration": 36,
    "start_time": "2022-03-13T14:11:38.770Z"
   },
   {
    "duration": 20,
    "start_time": "2022-03-13T14:11:38.807Z"
   },
   {
    "duration": 43,
    "start_time": "2022-03-13T14:11:38.829Z"
   },
   {
    "duration": 17,
    "start_time": "2022-03-13T14:11:38.874Z"
   },
   {
    "duration": 36,
    "start_time": "2022-03-13T14:11:38.893Z"
   },
   {
    "duration": 40,
    "start_time": "2022-03-13T14:11:38.931Z"
   },
   {
    "duration": 10,
    "start_time": "2022-03-13T14:11:38.973Z"
   },
   {
    "duration": 9,
    "start_time": "2022-03-13T14:11:38.985Z"
   },
   {
    "duration": 11,
    "start_time": "2022-03-13T14:11:40.691Z"
   },
   {
    "duration": 75,
    "start_time": "2022-03-13T14:11:41.158Z"
   },
   {
    "duration": 68,
    "start_time": "2022-03-13T14:13:30.905Z"
   },
   {
    "duration": 67,
    "start_time": "2022-03-13T14:14:33.955Z"
   },
   {
    "duration": 69,
    "start_time": "2022-03-13T14:15:05.351Z"
   },
   {
    "duration": 70,
    "start_time": "2022-03-13T14:15:12.924Z"
   },
   {
    "duration": 21,
    "start_time": "2022-03-13T14:18:34.894Z"
   },
   {
    "duration": 26,
    "start_time": "2022-03-13T14:18:46.464Z"
   },
   {
    "duration": 21,
    "start_time": "2022-03-13T14:20:23.085Z"
   },
   {
    "duration": 287,
    "start_time": "2022-03-13T14:25:17.362Z"
   },
   {
    "duration": 28,
    "start_time": "2022-03-13T14:25:31.433Z"
   },
   {
    "duration": 432,
    "start_time": "2022-03-13T14:29:57.482Z"
   },
   {
    "duration": 251,
    "start_time": "2022-03-13T14:30:33.754Z"
   },
   {
    "duration": 3,
    "start_time": "2022-03-13T14:30:44.844Z"
   },
   {
    "duration": 469,
    "start_time": "2022-03-13T14:30:44.849Z"
   },
   {
    "duration": 48,
    "start_time": "2022-03-13T14:30:45.321Z"
   },
   {
    "duration": 103,
    "start_time": "2022-03-13T14:30:45.371Z"
   },
   {
    "duration": 20,
    "start_time": "2022-03-13T14:30:45.476Z"
   },
   {
    "duration": 8,
    "start_time": "2022-03-13T14:30:45.499Z"
   },
   {
    "duration": 7,
    "start_time": "2022-03-13T14:30:45.508Z"
   },
   {
    "duration": 7,
    "start_time": "2022-03-13T14:30:45.518Z"
   },
   {
    "duration": 12,
    "start_time": "2022-03-13T14:30:45.563Z"
   },
   {
    "duration": 5,
    "start_time": "2022-03-13T14:30:45.577Z"
   },
   {
    "duration": 8,
    "start_time": "2022-03-13T14:30:45.583Z"
   },
   {
    "duration": 9,
    "start_time": "2022-03-13T14:30:45.592Z"
   },
   {
    "duration": 18,
    "start_time": "2022-03-13T14:30:45.602Z"
   },
   {
    "duration": 58,
    "start_time": "2022-03-13T14:30:45.622Z"
   },
   {
    "duration": 49,
    "start_time": "2022-03-13T14:30:45.683Z"
   },
   {
    "duration": 6,
    "start_time": "2022-03-13T14:30:45.734Z"
   },
   {
    "duration": 34,
    "start_time": "2022-03-13T14:30:45.742Z"
   },
   {
    "duration": 129,
    "start_time": "2022-03-13T14:30:45.779Z"
   },
   {
    "duration": 34,
    "start_time": "2022-03-13T14:30:45.911Z"
   },
   {
    "duration": 38,
    "start_time": "2022-03-13T14:30:45.947Z"
   },
   {
    "duration": 228,
    "start_time": "2022-03-13T14:30:45.986Z"
   },
   {
    "duration": 22,
    "start_time": "2022-03-13T14:30:46.215Z"
   },
   {
    "duration": 12,
    "start_time": "2022-03-13T14:30:46.240Z"
   },
   {
    "duration": 41,
    "start_time": "2022-03-13T14:30:46.254Z"
   },
   {
    "duration": 19,
    "start_time": "2022-03-13T14:30:46.297Z"
   },
   {
    "duration": 47,
    "start_time": "2022-03-13T14:30:46.318Z"
   },
   {
    "duration": 18,
    "start_time": "2022-03-13T14:30:46.367Z"
   },
   {
    "duration": 34,
    "start_time": "2022-03-13T14:30:46.387Z"
   },
   {
    "duration": 43,
    "start_time": "2022-03-13T14:30:46.423Z"
   },
   {
    "duration": 13,
    "start_time": "2022-03-13T14:30:46.468Z"
   },
   {
    "duration": 10,
    "start_time": "2022-03-13T14:30:46.483Z"
   },
   {
    "duration": 109,
    "start_time": "2022-03-13T14:30:46.495Z"
   },
   {
    "duration": 69,
    "start_time": "2022-03-13T14:30:47.681Z"
   },
   {
    "duration": 261,
    "start_time": "2022-03-13T14:30:48.851Z"
   },
   {
    "duration": 70,
    "start_time": "2022-03-13T14:31:46.801Z"
   },
   {
    "duration": 69,
    "start_time": "2022-03-13T14:31:50.181Z"
   },
   {
    "duration": 263,
    "start_time": "2022-03-13T14:31:54.061Z"
   },
   {
    "duration": 282,
    "start_time": "2022-03-13T14:36:54.525Z"
   },
   {
    "duration": 38,
    "start_time": "2022-03-13T14:39:21.754Z"
   },
   {
    "duration": 249,
    "start_time": "2022-03-13T14:40:16.919Z"
   },
   {
    "duration": 3,
    "start_time": "2022-03-13T14:40:24.626Z"
   },
   {
    "duration": 429,
    "start_time": "2022-03-13T14:40:24.632Z"
   },
   {
    "duration": 37,
    "start_time": "2022-03-13T14:40:25.063Z"
   },
   {
    "duration": 90,
    "start_time": "2022-03-13T14:40:25.102Z"
   },
   {
    "duration": 14,
    "start_time": "2022-03-13T14:40:25.194Z"
   },
   {
    "duration": 50,
    "start_time": "2022-03-13T14:40:25.210Z"
   },
   {
    "duration": 23,
    "start_time": "2022-03-13T14:40:25.263Z"
   },
   {
    "duration": 64,
    "start_time": "2022-03-13T14:40:25.289Z"
   },
   {
    "duration": 47,
    "start_time": "2022-03-13T14:40:25.356Z"
   },
   {
    "duration": 26,
    "start_time": "2022-03-13T14:40:25.405Z"
   },
   {
    "duration": 12,
    "start_time": "2022-03-13T14:40:25.433Z"
   },
   {
    "duration": 50,
    "start_time": "2022-03-13T14:40:25.446Z"
   },
   {
    "duration": 37,
    "start_time": "2022-03-13T14:40:25.499Z"
   },
   {
    "duration": 27,
    "start_time": "2022-03-13T14:40:25.538Z"
   },
   {
    "duration": 29,
    "start_time": "2022-03-13T14:40:25.567Z"
   },
   {
    "duration": 5,
    "start_time": "2022-03-13T14:40:25.598Z"
   },
   {
    "duration": 147,
    "start_time": "2022-03-13T14:40:25.604Z"
   },
   {
    "duration": 88,
    "start_time": "2022-03-13T14:40:25.753Z"
   },
   {
    "duration": 31,
    "start_time": "2022-03-13T14:40:25.844Z"
   },
   {
    "duration": 22,
    "start_time": "2022-03-13T14:40:25.877Z"
   },
   {
    "duration": 220,
    "start_time": "2022-03-13T14:40:25.901Z"
   },
   {
    "duration": 20,
    "start_time": "2022-03-13T14:40:26.123Z"
   },
   {
    "duration": 25,
    "start_time": "2022-03-13T14:40:26.145Z"
   },
   {
    "duration": 36,
    "start_time": "2022-03-13T14:40:26.172Z"
   },
   {
    "duration": 20,
    "start_time": "2022-03-13T14:40:26.209Z"
   },
   {
    "duration": 43,
    "start_time": "2022-03-13T14:40:26.231Z"
   },
   {
    "duration": 17,
    "start_time": "2022-03-13T14:40:26.276Z"
   },
   {
    "duration": 34,
    "start_time": "2022-03-13T14:40:26.295Z"
   },
   {
    "duration": 41,
    "start_time": "2022-03-13T14:40:26.331Z"
   },
   {
    "duration": 10,
    "start_time": "2022-03-13T14:40:26.374Z"
   },
   {
    "duration": 9,
    "start_time": "2022-03-13T14:40:26.386Z"
   },
   {
    "duration": 105,
    "start_time": "2022-03-13T14:40:26.397Z"
   },
   {
    "duration": 73,
    "start_time": "2022-03-13T14:40:30.061Z"
   },
   {
    "duration": 246,
    "start_time": "2022-03-13T14:40:30.514Z"
   },
   {
    "duration": 41,
    "start_time": "2022-03-13T14:40:47.800Z"
   },
   {
    "duration": 41,
    "start_time": "2022-03-13T14:42:37.497Z"
   },
   {
    "duration": 3,
    "start_time": "2022-03-13T14:43:04.561Z"
   },
   {
    "duration": 430,
    "start_time": "2022-03-13T14:43:04.573Z"
   },
   {
    "duration": 38,
    "start_time": "2022-03-13T14:43:05.005Z"
   },
   {
    "duration": 74,
    "start_time": "2022-03-13T14:43:05.046Z"
   },
   {
    "duration": 42,
    "start_time": "2022-03-13T14:43:05.122Z"
   },
   {
    "duration": 7,
    "start_time": "2022-03-13T14:43:05.166Z"
   },
   {
    "duration": 10,
    "start_time": "2022-03-13T14:43:05.175Z"
   },
   {
    "duration": 9,
    "start_time": "2022-03-13T14:43:05.186Z"
   },
   {
    "duration": 18,
    "start_time": "2022-03-13T14:43:05.197Z"
   },
   {
    "duration": 10,
    "start_time": "2022-03-13T14:43:05.217Z"
   },
   {
    "duration": 11,
    "start_time": "2022-03-13T14:43:05.229Z"
   },
   {
    "duration": 11,
    "start_time": "2022-03-13T14:43:05.242Z"
   },
   {
    "duration": 16,
    "start_time": "2022-03-13T14:43:05.263Z"
   },
   {
    "duration": 46,
    "start_time": "2022-03-13T14:43:05.280Z"
   },
   {
    "duration": 35,
    "start_time": "2022-03-13T14:43:05.328Z"
   },
   {
    "duration": 5,
    "start_time": "2022-03-13T14:43:05.364Z"
   },
   {
    "duration": 29,
    "start_time": "2022-03-13T14:43:05.370Z"
   },
   {
    "duration": 81,
    "start_time": "2022-03-13T14:43:05.400Z"
   },
   {
    "duration": 24,
    "start_time": "2022-03-13T14:43:05.483Z"
   },
   {
    "duration": 22,
    "start_time": "2022-03-13T14:43:05.508Z"
   },
   {
    "duration": 220,
    "start_time": "2022-03-13T14:43:05.532Z"
   },
   {
    "duration": 22,
    "start_time": "2022-03-13T14:43:05.754Z"
   },
   {
    "duration": 14,
    "start_time": "2022-03-13T14:43:05.778Z"
   },
   {
    "duration": 33,
    "start_time": "2022-03-13T14:43:05.796Z"
   },
   {
    "duration": 19,
    "start_time": "2022-03-13T14:43:05.831Z"
   },
   {
    "duration": 20,
    "start_time": "2022-03-13T14:43:05.863Z"
   },
   {
    "duration": 17,
    "start_time": "2022-03-13T14:43:05.885Z"
   },
   {
    "duration": 32,
    "start_time": "2022-03-13T14:43:05.903Z"
   },
   {
    "duration": 26,
    "start_time": "2022-03-13T14:43:05.937Z"
   },
   {
    "duration": 11,
    "start_time": "2022-03-13T14:43:05.964Z"
   },
   {
    "duration": 13,
    "start_time": "2022-03-13T14:43:05.977Z"
   },
   {
    "duration": 83,
    "start_time": "2022-03-13T14:43:05.992Z"
   },
   {
    "duration": 70,
    "start_time": "2022-03-13T14:43:07.130Z"
   },
   {
    "duration": 43,
    "start_time": "2022-03-13T14:43:07.559Z"
   },
   {
    "duration": 54,
    "start_time": "2022-03-13T14:43:57.320Z"
   },
   {
    "duration": 54,
    "start_time": "2022-03-13T14:45:32.443Z"
   },
   {
    "duration": 56,
    "start_time": "2022-03-13T14:45:50.047Z"
   },
   {
    "duration": 3,
    "start_time": "2022-03-13T14:46:50.539Z"
   },
   {
    "duration": 420,
    "start_time": "2022-03-13T14:46:50.544Z"
   },
   {
    "duration": 34,
    "start_time": "2022-03-13T14:46:50.966Z"
   },
   {
    "duration": 78,
    "start_time": "2022-03-13T14:46:51.002Z"
   },
   {
    "duration": 14,
    "start_time": "2022-03-13T14:46:51.081Z"
   },
   {
    "duration": 6,
    "start_time": "2022-03-13T14:46:51.098Z"
   },
   {
    "duration": 7,
    "start_time": "2022-03-13T14:46:51.105Z"
   },
   {
    "duration": 6,
    "start_time": "2022-03-13T14:46:51.113Z"
   },
   {
    "duration": 50,
    "start_time": "2022-03-13T14:46:51.121Z"
   },
   {
    "duration": 3,
    "start_time": "2022-03-13T14:46:51.173Z"
   },
   {
    "duration": 10,
    "start_time": "2022-03-13T14:46:51.178Z"
   },
   {
    "duration": 9,
    "start_time": "2022-03-13T14:46:51.190Z"
   },
   {
    "duration": 16,
    "start_time": "2022-03-13T14:46:51.200Z"
   },
   {
    "duration": 51,
    "start_time": "2022-03-13T14:46:51.218Z"
   },
   {
    "duration": 27,
    "start_time": "2022-03-13T14:46:51.271Z"
   },
   {
    "duration": 4,
    "start_time": "2022-03-13T14:46:51.300Z"
   },
   {
    "duration": 18,
    "start_time": "2022-03-13T14:46:51.306Z"
   },
   {
    "duration": 99,
    "start_time": "2022-03-13T14:46:51.325Z"
   },
   {
    "duration": 22,
    "start_time": "2022-03-13T14:46:51.426Z"
   },
   {
    "duration": 34,
    "start_time": "2022-03-13T14:46:51.450Z"
   },
   {
    "duration": 186,
    "start_time": "2022-03-13T14:46:51.486Z"
   },
   {
    "duration": 21,
    "start_time": "2022-03-13T14:46:51.674Z"
   },
   {
    "duration": 13,
    "start_time": "2022-03-13T14:46:51.697Z"
   },
   {
    "duration": 63,
    "start_time": "2022-03-13T14:46:51.712Z"
   },
   {
    "duration": 19,
    "start_time": "2022-03-13T14:46:51.776Z"
   },
   {
    "duration": 19,
    "start_time": "2022-03-13T14:46:51.797Z"
   },
   {
    "duration": 44,
    "start_time": "2022-03-13T14:46:51.819Z"
   },
   {
    "duration": 34,
    "start_time": "2022-03-13T14:46:51.865Z"
   },
   {
    "duration": 16,
    "start_time": "2022-03-13T14:46:51.900Z"
   },
   {
    "duration": 12,
    "start_time": "2022-03-13T14:46:51.918Z"
   },
   {
    "duration": 40,
    "start_time": "2022-03-13T14:46:51.932Z"
   },
   {
    "duration": 16,
    "start_time": "2022-03-13T14:46:59.126Z"
   },
   {
    "duration": 75,
    "start_time": "2022-03-13T14:47:02.320Z"
   },
   {
    "duration": 3,
    "start_time": "2022-03-13T14:47:25.030Z"
   },
   {
    "duration": 548,
    "start_time": "2022-03-13T14:47:25.037Z"
   },
   {
    "duration": 34,
    "start_time": "2022-03-13T14:47:25.587Z"
   },
   {
    "duration": 66,
    "start_time": "2022-03-13T14:47:25.622Z"
   },
   {
    "duration": 13,
    "start_time": "2022-03-13T14:47:25.690Z"
   },
   {
    "duration": 6,
    "start_time": "2022-03-13T14:47:25.705Z"
   },
   {
    "duration": 11,
    "start_time": "2022-03-13T14:47:25.713Z"
   },
   {
    "duration": 37,
    "start_time": "2022-03-13T14:47:25.726Z"
   },
   {
    "duration": 12,
    "start_time": "2022-03-13T14:47:25.765Z"
   },
   {
    "duration": 8,
    "start_time": "2022-03-13T14:47:25.779Z"
   },
   {
    "duration": 10,
    "start_time": "2022-03-13T14:47:25.789Z"
   },
   {
    "duration": 14,
    "start_time": "2022-03-13T14:47:25.801Z"
   },
   {
    "duration": 20,
    "start_time": "2022-03-13T14:47:25.816Z"
   },
   {
    "duration": 42,
    "start_time": "2022-03-13T14:47:25.838Z"
   },
   {
    "duration": 29,
    "start_time": "2022-03-13T14:47:25.881Z"
   },
   {
    "duration": 30,
    "start_time": "2022-03-13T14:47:25.912Z"
   },
   {
    "duration": 27,
    "start_time": "2022-03-13T14:47:25.944Z"
   },
   {
    "duration": 72,
    "start_time": "2022-03-13T14:47:25.973Z"
   },
   {
    "duration": 38,
    "start_time": "2022-03-13T14:47:26.047Z"
   },
   {
    "duration": 24,
    "start_time": "2022-03-13T14:47:26.086Z"
   },
   {
    "duration": 201,
    "start_time": "2022-03-13T14:47:26.111Z"
   },
   {
    "duration": 20,
    "start_time": "2022-03-13T14:47:26.313Z"
   },
   {
    "duration": 13,
    "start_time": "2022-03-13T14:47:26.335Z"
   },
   {
    "duration": 44,
    "start_time": "2022-03-13T14:47:26.352Z"
   },
   {
    "duration": 19,
    "start_time": "2022-03-13T14:47:26.398Z"
   },
   {
    "duration": 45,
    "start_time": "2022-03-13T14:47:26.419Z"
   },
   {
    "duration": 17,
    "start_time": "2022-03-13T14:47:26.466Z"
   },
   {
    "duration": 34,
    "start_time": "2022-03-13T14:47:26.485Z"
   },
   {
    "duration": 42,
    "start_time": "2022-03-13T14:47:26.521Z"
   },
   {
    "duration": 11,
    "start_time": "2022-03-13T14:47:26.565Z"
   },
   {
    "duration": 18,
    "start_time": "2022-03-13T14:47:29.254Z"
   },
   {
    "duration": 82,
    "start_time": "2022-03-13T14:47:36.370Z"
   },
   {
    "duration": 58,
    "start_time": "2022-03-13T14:47:45.798Z"
   },
   {
    "duration": 3,
    "start_time": "2022-03-13T14:50:13.396Z"
   },
   {
    "duration": 424,
    "start_time": "2022-03-13T14:50:13.402Z"
   },
   {
    "duration": 41,
    "start_time": "2022-03-13T14:50:13.828Z"
   },
   {
    "duration": 60,
    "start_time": "2022-03-13T14:50:13.872Z"
   },
   {
    "duration": 43,
    "start_time": "2022-03-13T14:50:13.934Z"
   },
   {
    "duration": 7,
    "start_time": "2022-03-13T14:50:13.979Z"
   },
   {
    "duration": 7,
    "start_time": "2022-03-13T14:50:13.988Z"
   },
   {
    "duration": 6,
    "start_time": "2022-03-13T14:50:13.996Z"
   },
   {
    "duration": 13,
    "start_time": "2022-03-13T14:50:14.005Z"
   },
   {
    "duration": 45,
    "start_time": "2022-03-13T14:50:14.020Z"
   },
   {
    "duration": 11,
    "start_time": "2022-03-13T14:50:14.067Z"
   },
   {
    "duration": 9,
    "start_time": "2022-03-13T14:50:14.080Z"
   },
   {
    "duration": 16,
    "start_time": "2022-03-13T14:50:14.090Z"
   },
   {
    "duration": 26,
    "start_time": "2022-03-13T14:50:14.107Z"
   },
   {
    "duration": 26,
    "start_time": "2022-03-13T14:50:14.163Z"
   },
   {
    "duration": 5,
    "start_time": "2022-03-13T14:50:14.190Z"
   },
   {
    "duration": 19,
    "start_time": "2022-03-13T14:50:14.196Z"
   },
   {
    "duration": 90,
    "start_time": "2022-03-13T14:50:14.217Z"
   },
   {
    "duration": 22,
    "start_time": "2022-03-13T14:50:14.309Z"
   },
   {
    "duration": 40,
    "start_time": "2022-03-13T14:50:14.332Z"
   },
   {
    "duration": 205,
    "start_time": "2022-03-13T14:50:14.373Z"
   },
   {
    "duration": 20,
    "start_time": "2022-03-13T14:50:14.579Z"
   },
   {
    "duration": 12,
    "start_time": "2022-03-13T14:50:14.600Z"
   },
   {
    "duration": 48,
    "start_time": "2022-03-13T14:50:14.615Z"
   },
   {
    "duration": 18,
    "start_time": "2022-03-13T14:50:14.665Z"
   },
   {
    "duration": 19,
    "start_time": "2022-03-13T14:50:14.685Z"
   },
   {
    "duration": 19,
    "start_time": "2022-03-13T14:50:14.705Z"
   },
   {
    "duration": 65,
    "start_time": "2022-03-13T14:50:14.726Z"
   },
   {
    "duration": 19,
    "start_time": "2022-03-13T14:50:14.793Z"
   },
   {
    "duration": 12,
    "start_time": "2022-03-13T14:50:14.814Z"
   },
   {
    "duration": 44,
    "start_time": "2022-03-13T14:50:14.827Z"
   },
   {
    "duration": 17,
    "start_time": "2022-03-13T14:50:17.145Z"
   },
   {
    "duration": 102,
    "start_time": "2022-03-13T14:50:17.726Z"
   },
   {
    "duration": 61,
    "start_time": "2022-03-13T14:50:20.651Z"
   },
   {
    "duration": 71,
    "start_time": "2022-03-13T14:51:11.599Z"
   },
   {
    "duration": 69,
    "start_time": "2022-03-13T14:52:18.611Z"
   },
   {
    "duration": 53,
    "start_time": "2022-03-13T14:52:53.436Z"
   },
   {
    "duration": 52,
    "start_time": "2022-03-13T14:53:37.227Z"
   },
   {
    "duration": 3,
    "start_time": "2022-03-13T14:53:48.923Z"
   },
   {
    "duration": 412,
    "start_time": "2022-03-13T14:53:48.928Z"
   },
   {
    "duration": 38,
    "start_time": "2022-03-13T14:53:49.342Z"
   },
   {
    "duration": 88,
    "start_time": "2022-03-13T14:53:49.382Z"
   },
   {
    "duration": 15,
    "start_time": "2022-03-13T14:53:49.472Z"
   },
   {
    "duration": 10,
    "start_time": "2022-03-13T14:53:49.489Z"
   },
   {
    "duration": 6,
    "start_time": "2022-03-13T14:53:49.503Z"
   },
   {
    "duration": 6,
    "start_time": "2022-03-13T14:53:49.512Z"
   },
   {
    "duration": 53,
    "start_time": "2022-03-13T14:53:49.519Z"
   },
   {
    "duration": 5,
    "start_time": "2022-03-13T14:53:49.574Z"
   },
   {
    "duration": 8,
    "start_time": "2022-03-13T14:53:49.581Z"
   },
   {
    "duration": 7,
    "start_time": "2022-03-13T14:53:49.590Z"
   },
   {
    "duration": 16,
    "start_time": "2022-03-13T14:53:49.599Z"
   },
   {
    "duration": 59,
    "start_time": "2022-03-13T14:53:49.616Z"
   },
   {
    "duration": 27,
    "start_time": "2022-03-13T14:53:49.677Z"
   },
   {
    "duration": 6,
    "start_time": "2022-03-13T14:53:49.706Z"
   },
   {
    "duration": 14,
    "start_time": "2022-03-13T14:53:49.714Z"
   },
   {
    "duration": 100,
    "start_time": "2022-03-13T14:53:49.729Z"
   },
   {
    "duration": 36,
    "start_time": "2022-03-13T14:53:49.833Z"
   },
   {
    "duration": 24,
    "start_time": "2022-03-13T14:53:49.872Z"
   },
   {
    "duration": 200,
    "start_time": "2022-03-13T14:53:49.898Z"
   },
   {
    "duration": 24,
    "start_time": "2022-03-13T14:53:50.100Z"
   },
   {
    "duration": 15,
    "start_time": "2022-03-13T14:53:50.126Z"
   },
   {
    "duration": 55,
    "start_time": "2022-03-13T14:53:50.143Z"
   },
   {
    "duration": 21,
    "start_time": "2022-03-13T14:53:50.200Z"
   },
   {
    "duration": 45,
    "start_time": "2022-03-13T14:53:50.223Z"
   },
   {
    "duration": 20,
    "start_time": "2022-03-13T14:53:50.270Z"
   },
   {
    "duration": 39,
    "start_time": "2022-03-13T14:53:50.292Z"
   },
   {
    "duration": 43,
    "start_time": "2022-03-13T14:53:50.333Z"
   },
   {
    "duration": 10,
    "start_time": "2022-03-13T14:53:50.378Z"
   },
   {
    "duration": 22,
    "start_time": "2022-03-13T14:53:50.390Z"
   },
   {
    "duration": 94,
    "start_time": "2022-03-13T14:53:50.414Z"
   },
   {
    "duration": 68,
    "start_time": "2022-03-13T14:53:52.247Z"
   },
   {
    "duration": 56,
    "start_time": "2022-03-13T14:53:52.820Z"
   },
   {
    "duration": 55,
    "start_time": "2022-03-13T14:56:16.299Z"
   },
   {
    "duration": 37,
    "start_time": "2022-03-13T14:56:24.189Z"
   },
   {
    "duration": 3,
    "start_time": "2022-03-13T15:02:15.520Z"
   },
   {
    "duration": 418,
    "start_time": "2022-03-13T15:02:15.545Z"
   },
   {
    "duration": 33,
    "start_time": "2022-03-13T15:02:15.965Z"
   },
   {
    "duration": 88,
    "start_time": "2022-03-13T15:02:16.000Z"
   },
   {
    "duration": 13,
    "start_time": "2022-03-13T15:02:16.090Z"
   },
   {
    "duration": 6,
    "start_time": "2022-03-13T15:02:16.105Z"
   },
   {
    "duration": 6,
    "start_time": "2022-03-13T15:02:16.112Z"
   },
   {
    "duration": 8,
    "start_time": "2022-03-13T15:02:16.119Z"
   },
   {
    "duration": 12,
    "start_time": "2022-03-13T15:02:16.163Z"
   },
   {
    "duration": 4,
    "start_time": "2022-03-13T15:02:16.178Z"
   },
   {
    "duration": 6,
    "start_time": "2022-03-13T15:02:16.184Z"
   },
   {
    "duration": 8,
    "start_time": "2022-03-13T15:02:16.192Z"
   },
   {
    "duration": 14,
    "start_time": "2022-03-13T15:02:16.201Z"
   },
   {
    "duration": 55,
    "start_time": "2022-03-13T15:02:16.217Z"
   },
   {
    "duration": 26,
    "start_time": "2022-03-13T15:02:16.273Z"
   },
   {
    "duration": 4,
    "start_time": "2022-03-13T15:02:16.301Z"
   },
   {
    "duration": 15,
    "start_time": "2022-03-13T15:02:16.307Z"
   },
   {
    "duration": 94,
    "start_time": "2022-03-13T15:02:16.323Z"
   },
   {
    "duration": 24,
    "start_time": "2022-03-13T15:02:16.419Z"
   },
   {
    "duration": 39,
    "start_time": "2022-03-13T15:02:16.445Z"
   },
   {
    "duration": 206,
    "start_time": "2022-03-13T15:02:16.486Z"
   },
   {
    "duration": 20,
    "start_time": "2022-03-13T15:02:16.694Z"
   },
   {
    "duration": 12,
    "start_time": "2022-03-13T15:02:16.716Z"
   },
   {
    "duration": 57,
    "start_time": "2022-03-13T15:02:16.730Z"
   },
   {
    "duration": 19,
    "start_time": "2022-03-13T15:02:16.789Z"
   },
   {
    "duration": 20,
    "start_time": "2022-03-13T15:02:16.810Z"
   },
   {
    "duration": 42,
    "start_time": "2022-03-13T15:02:16.832Z"
   },
   {
    "duration": 40,
    "start_time": "2022-03-13T15:02:16.877Z"
   },
   {
    "duration": 18,
    "start_time": "2022-03-13T15:02:16.919Z"
   },
   {
    "duration": 36,
    "start_time": "2022-03-13T15:02:16.939Z"
   },
   {
    "duration": 16,
    "start_time": "2022-03-13T15:02:16.977Z"
   },
   {
    "duration": 85,
    "start_time": "2022-03-13T15:02:16.996Z"
   },
   {
    "duration": 55,
    "start_time": "2022-03-13T15:02:17.707Z"
   },
   {
    "duration": 42,
    "start_time": "2022-03-13T15:02:18.175Z"
   },
   {
    "duration": 40,
    "start_time": "2022-03-13T15:04:16.495Z"
   },
   {
    "duration": 37,
    "start_time": "2022-03-13T15:04:50.589Z"
   },
   {
    "duration": 3,
    "start_time": "2022-03-13T15:04:55.615Z"
   },
   {
    "duration": 436,
    "start_time": "2022-03-13T15:04:55.621Z"
   },
   {
    "duration": 35,
    "start_time": "2022-03-13T15:04:56.059Z"
   },
   {
    "duration": 76,
    "start_time": "2022-03-13T15:04:56.096Z"
   },
   {
    "duration": 13,
    "start_time": "2022-03-13T15:04:56.173Z"
   },
   {
    "duration": 6,
    "start_time": "2022-03-13T15:04:56.188Z"
   },
   {
    "duration": 13,
    "start_time": "2022-03-13T15:04:56.195Z"
   },
   {
    "duration": 10,
    "start_time": "2022-03-13T15:04:56.210Z"
   },
   {
    "duration": 13,
    "start_time": "2022-03-13T15:04:56.223Z"
   },
   {
    "duration": 25,
    "start_time": "2022-03-13T15:04:56.238Z"
   },
   {
    "duration": 9,
    "start_time": "2022-03-13T15:04:56.265Z"
   },
   {
    "duration": 11,
    "start_time": "2022-03-13T15:04:56.275Z"
   },
   {
    "duration": 17,
    "start_time": "2022-03-13T15:04:56.287Z"
   },
   {
    "duration": 25,
    "start_time": "2022-03-13T15:04:56.305Z"
   },
   {
    "duration": 51,
    "start_time": "2022-03-13T15:04:56.331Z"
   },
   {
    "duration": 4,
    "start_time": "2022-03-13T15:04:56.384Z"
   },
   {
    "duration": 25,
    "start_time": "2022-03-13T15:04:56.389Z"
   },
   {
    "duration": 77,
    "start_time": "2022-03-13T15:04:56.416Z"
   },
   {
    "duration": 22,
    "start_time": "2022-03-13T15:04:56.495Z"
   },
   {
    "duration": 46,
    "start_time": "2022-03-13T15:04:56.518Z"
   },
   {
    "duration": 190,
    "start_time": "2022-03-13T15:04:56.565Z"
   },
   {
    "duration": 19,
    "start_time": "2022-03-13T15:04:56.756Z"
   },
   {
    "duration": 12,
    "start_time": "2022-03-13T15:04:56.777Z"
   },
   {
    "duration": 34,
    "start_time": "2022-03-13T15:04:56.792Z"
   },
   {
    "duration": 43,
    "start_time": "2022-03-13T15:04:56.828Z"
   },
   {
    "duration": 20,
    "start_time": "2022-03-13T15:04:56.873Z"
   },
   {
    "duration": 17,
    "start_time": "2022-03-13T15:04:56.895Z"
   },
   {
    "duration": 58,
    "start_time": "2022-03-13T15:04:56.914Z"
   },
   {
    "duration": 17,
    "start_time": "2022-03-13T15:04:56.973Z"
   },
   {
    "duration": 11,
    "start_time": "2022-03-13T15:04:56.992Z"
   },
   {
    "duration": 16,
    "start_time": "2022-03-13T15:04:57.005Z"
   },
   {
    "duration": 91,
    "start_time": "2022-03-13T15:04:57.023Z"
   },
   {
    "duration": 53,
    "start_time": "2022-03-13T15:04:57.779Z"
   },
   {
    "duration": 38,
    "start_time": "2022-03-13T15:04:59.106Z"
   },
   {
    "duration": 3,
    "start_time": "2022-03-13T15:05:38.278Z"
   },
   {
    "duration": 500,
    "start_time": "2022-03-13T15:05:38.286Z"
   },
   {
    "duration": 35,
    "start_time": "2022-03-13T15:05:38.788Z"
   },
   {
    "duration": 70,
    "start_time": "2022-03-13T15:05:38.825Z"
   },
   {
    "duration": 15,
    "start_time": "2022-03-13T15:05:38.897Z"
   },
   {
    "duration": 6,
    "start_time": "2022-03-13T15:05:38.914Z"
   },
   {
    "duration": 6,
    "start_time": "2022-03-13T15:05:38.921Z"
   },
   {
    "duration": 6,
    "start_time": "2022-03-13T15:05:38.963Z"
   },
   {
    "duration": 17,
    "start_time": "2022-03-13T15:05:38.971Z"
   },
   {
    "duration": 6,
    "start_time": "2022-03-13T15:05:38.990Z"
   },
   {
    "duration": 13,
    "start_time": "2022-03-13T15:05:38.997Z"
   },
   {
    "duration": 9,
    "start_time": "2022-03-13T15:05:39.011Z"
   },
   {
    "duration": 16,
    "start_time": "2022-03-13T15:05:39.021Z"
   },
   {
    "duration": 47,
    "start_time": "2022-03-13T15:05:39.038Z"
   },
   {
    "duration": 26,
    "start_time": "2022-03-13T15:05:39.087Z"
   },
   {
    "duration": 4,
    "start_time": "2022-03-13T15:05:39.115Z"
   },
   {
    "duration": 43,
    "start_time": "2022-03-13T15:05:39.121Z"
   },
   {
    "duration": 72,
    "start_time": "2022-03-13T15:05:39.166Z"
   },
   {
    "duration": 40,
    "start_time": "2022-03-13T15:05:39.240Z"
   },
   {
    "duration": 25,
    "start_time": "2022-03-13T15:05:39.282Z"
   },
   {
    "duration": 199,
    "start_time": "2022-03-13T15:05:39.308Z"
   },
   {
    "duration": 20,
    "start_time": "2022-03-13T15:05:39.509Z"
   },
   {
    "duration": 13,
    "start_time": "2022-03-13T15:05:39.531Z"
   },
   {
    "duration": 52,
    "start_time": "2022-03-13T15:05:39.547Z"
   },
   {
    "duration": 21,
    "start_time": "2022-03-13T15:05:39.601Z"
   },
   {
    "duration": 45,
    "start_time": "2022-03-13T15:05:39.624Z"
   },
   {
    "duration": 18,
    "start_time": "2022-03-13T15:05:39.671Z"
   },
   {
    "duration": 36,
    "start_time": "2022-03-13T15:05:39.690Z"
   },
   {
    "duration": 42,
    "start_time": "2022-03-13T15:05:39.728Z"
   },
   {
    "duration": 12,
    "start_time": "2022-03-13T15:05:39.772Z"
   },
   {
    "duration": 16,
    "start_time": "2022-03-13T15:05:39.786Z"
   },
   {
    "duration": 85,
    "start_time": "2022-03-13T15:05:39.803Z"
   },
   {
    "duration": 58,
    "start_time": "2022-03-13T15:05:41.128Z"
   },
   {
    "duration": 39,
    "start_time": "2022-03-13T15:05:41.556Z"
   },
   {
    "duration": 38,
    "start_time": "2022-03-13T15:05:56.455Z"
   },
   {
    "duration": 26,
    "start_time": "2022-03-13T15:06:57.514Z"
   },
   {
    "duration": 34,
    "start_time": "2022-03-13T15:09:30.179Z"
   },
   {
    "duration": 33,
    "start_time": "2022-03-13T15:10:26.581Z"
   },
   {
    "duration": 3,
    "start_time": "2022-03-13T15:22:07.644Z"
   },
   {
    "duration": 201,
    "start_time": "2022-03-13T15:24:28.719Z"
   },
   {
    "duration": 60,
    "start_time": "2022-03-13T15:24:37.287Z"
   },
   {
    "duration": 12,
    "start_time": "2022-03-13T15:24:45.249Z"
   },
   {
    "duration": 9,
    "start_time": "2022-03-13T15:27:45.596Z"
   },
   {
    "duration": 68,
    "start_time": "2022-03-13T15:29:44.511Z"
   },
   {
    "duration": 772,
    "start_time": "2022-03-13T15:30:01.873Z"
   },
   {
    "duration": 3,
    "start_time": "2022-03-13T15:30:17.597Z"
   },
   {
    "duration": 431,
    "start_time": "2022-03-13T15:30:17.602Z"
   },
   {
    "duration": 41,
    "start_time": "2022-03-13T15:30:18.035Z"
   },
   {
    "duration": 85,
    "start_time": "2022-03-13T15:30:18.079Z"
   },
   {
    "duration": 14,
    "start_time": "2022-03-13T15:30:18.165Z"
   },
   {
    "duration": 7,
    "start_time": "2022-03-13T15:30:18.180Z"
   },
   {
    "duration": 15,
    "start_time": "2022-03-13T15:30:18.189Z"
   },
   {
    "duration": 8,
    "start_time": "2022-03-13T15:30:18.206Z"
   },
   {
    "duration": 25,
    "start_time": "2022-03-13T15:30:18.217Z"
   },
   {
    "duration": 4,
    "start_time": "2022-03-13T15:30:18.264Z"
   },
   {
    "duration": 9,
    "start_time": "2022-03-13T15:30:18.270Z"
   },
   {
    "duration": 7,
    "start_time": "2022-03-13T15:30:18.281Z"
   },
   {
    "duration": 18,
    "start_time": "2022-03-13T15:30:18.291Z"
   },
   {
    "duration": 64,
    "start_time": "2022-03-13T15:30:18.311Z"
   },
   {
    "duration": 28,
    "start_time": "2022-03-13T15:30:18.377Z"
   },
   {
    "duration": 5,
    "start_time": "2022-03-13T15:30:18.407Z"
   },
   {
    "duration": 18,
    "start_time": "2022-03-13T15:30:18.414Z"
   },
   {
    "duration": 100,
    "start_time": "2022-03-13T15:30:18.434Z"
   },
   {
    "duration": 35,
    "start_time": "2022-03-13T15:30:18.536Z"
   },
   {
    "duration": 27,
    "start_time": "2022-03-13T15:30:18.573Z"
   },
   {
    "duration": 213,
    "start_time": "2022-03-13T15:30:18.602Z"
   },
   {
    "duration": 20,
    "start_time": "2022-03-13T15:30:18.817Z"
   },
   {
    "duration": 32,
    "start_time": "2022-03-13T15:30:18.839Z"
   },
   {
    "duration": 39,
    "start_time": "2022-03-13T15:30:18.873Z"
   },
   {
    "duration": 23,
    "start_time": "2022-03-13T15:30:18.915Z"
   },
   {
    "duration": 21,
    "start_time": "2022-03-13T15:30:18.963Z"
   },
   {
    "duration": 17,
    "start_time": "2022-03-13T15:30:18.987Z"
   },
   {
    "duration": 60,
    "start_time": "2022-03-13T15:30:19.006Z"
   },
   {
    "duration": 20,
    "start_time": "2022-03-13T15:30:19.068Z"
   },
   {
    "duration": 12,
    "start_time": "2022-03-13T15:30:19.089Z"
   },
   {
    "duration": 25,
    "start_time": "2022-03-13T15:30:19.103Z"
   },
   {
    "duration": 89,
    "start_time": "2022-03-13T15:30:19.130Z"
   },
   {
    "duration": 65,
    "start_time": "2022-03-13T15:30:19.221Z"
   },
   {
    "duration": 40,
    "start_time": "2022-03-13T15:30:19.288Z"
   },
   {
    "duration": 34,
    "start_time": "2022-03-13T15:30:21.377Z"
   },
   {
    "duration": 69,
    "start_time": "2022-03-13T15:30:21.803Z"
   },
   {
    "duration": 3,
    "start_time": "2022-03-13T15:30:46.576Z"
   },
   {
    "duration": 415,
    "start_time": "2022-03-13T15:30:46.581Z"
   },
   {
    "duration": 39,
    "start_time": "2022-03-13T15:30:46.999Z"
   },
   {
    "duration": 70,
    "start_time": "2022-03-13T15:30:47.040Z"
   },
   {
    "duration": 13,
    "start_time": "2022-03-13T15:30:47.112Z"
   },
   {
    "duration": 6,
    "start_time": "2022-03-13T15:30:47.127Z"
   },
   {
    "duration": 33,
    "start_time": "2022-03-13T15:30:47.135Z"
   },
   {
    "duration": 7,
    "start_time": "2022-03-13T15:30:47.170Z"
   },
   {
    "duration": 16,
    "start_time": "2022-03-13T15:30:47.180Z"
   },
   {
    "duration": 3,
    "start_time": "2022-03-13T15:30:47.198Z"
   },
   {
    "duration": 8,
    "start_time": "2022-03-13T15:30:47.203Z"
   },
   {
    "duration": 8,
    "start_time": "2022-03-13T15:30:47.212Z"
   },
   {
    "duration": 47,
    "start_time": "2022-03-13T15:30:47.221Z"
   },
   {
    "duration": 25,
    "start_time": "2022-03-13T15:30:47.270Z"
   },
   {
    "duration": 27,
    "start_time": "2022-03-13T15:30:47.296Z"
   },
   {
    "duration": 4,
    "start_time": "2022-03-13T15:30:47.325Z"
   },
   {
    "duration": 41,
    "start_time": "2022-03-13T15:30:47.331Z"
   },
   {
    "duration": 78,
    "start_time": "2022-03-13T15:30:47.374Z"
   },
   {
    "duration": 29,
    "start_time": "2022-03-13T15:30:47.454Z"
   },
   {
    "duration": 24,
    "start_time": "2022-03-13T15:30:47.484Z"
   },
   {
    "duration": 190,
    "start_time": "2022-03-13T15:30:47.509Z"
   },
   {
    "duration": 20,
    "start_time": "2022-03-13T15:30:47.701Z"
   },
   {
    "duration": 12,
    "start_time": "2022-03-13T15:30:47.723Z"
   },
   {
    "duration": 54,
    "start_time": "2022-03-13T15:30:47.737Z"
   },
   {
    "duration": 20,
    "start_time": "2022-03-13T15:30:47.793Z"
   },
   {
    "duration": 20,
    "start_time": "2022-03-13T15:30:47.815Z"
   },
   {
    "duration": 17,
    "start_time": "2022-03-13T15:30:47.865Z"
   },
   {
    "duration": 34,
    "start_time": "2022-03-13T15:30:47.884Z"
   },
   {
    "duration": 17,
    "start_time": "2022-03-13T15:30:47.920Z"
   },
   {
    "duration": 11,
    "start_time": "2022-03-13T15:30:47.963Z"
   },
   {
    "duration": 23,
    "start_time": "2022-03-13T15:30:47.976Z"
   },
   {
    "duration": 76,
    "start_time": "2022-03-13T15:30:48.001Z"
   },
   {
    "duration": 38,
    "start_time": "2022-03-13T15:30:48.079Z"
   },
   {
    "duration": 37,
    "start_time": "2022-03-13T15:30:52.514Z"
   },
   {
    "duration": 34,
    "start_time": "2022-03-13T15:30:53.610Z"
   },
   {
    "duration": 296,
    "start_time": "2022-03-13T15:31:03.116Z"
   },
   {
    "duration": 67,
    "start_time": "2022-03-13T15:31:10.312Z"
   },
   {
    "duration": 746,
    "start_time": "2022-03-13T15:31:30.564Z"
   },
   {
    "duration": 20,
    "start_time": "2022-03-13T15:31:34.975Z"
   },
   {
    "duration": 2,
    "start_time": "2022-03-13T15:31:46.960Z"
   },
   {
    "duration": 424,
    "start_time": "2022-03-13T15:31:46.964Z"
   },
   {
    "duration": 37,
    "start_time": "2022-03-13T15:31:47.390Z"
   },
   {
    "duration": 67,
    "start_time": "2022-03-13T15:31:47.429Z"
   },
   {
    "duration": 16,
    "start_time": "2022-03-13T15:31:47.499Z"
   },
   {
    "duration": 9,
    "start_time": "2022-03-13T15:31:47.517Z"
   },
   {
    "duration": 7,
    "start_time": "2022-03-13T15:31:47.564Z"
   },
   {
    "duration": 6,
    "start_time": "2022-03-13T15:31:47.573Z"
   },
   {
    "duration": 13,
    "start_time": "2022-03-13T15:31:47.581Z"
   },
   {
    "duration": 8,
    "start_time": "2022-03-13T15:31:47.595Z"
   },
   {
    "duration": 8,
    "start_time": "2022-03-13T15:31:47.604Z"
   },
   {
    "duration": 9,
    "start_time": "2022-03-13T15:31:47.613Z"
   },
   {
    "duration": 47,
    "start_time": "2022-03-13T15:31:47.623Z"
   },
   {
    "duration": 28,
    "start_time": "2022-03-13T15:31:47.671Z"
   },
   {
    "duration": 28,
    "start_time": "2022-03-13T15:31:47.700Z"
   },
   {
    "duration": 33,
    "start_time": "2022-03-13T15:31:47.730Z"
   },
   {
    "duration": 13,
    "start_time": "2022-03-13T15:31:47.765Z"
   },
   {
    "duration": 84,
    "start_time": "2022-03-13T15:31:47.779Z"
   },
   {
    "duration": 22,
    "start_time": "2022-03-13T15:31:47.866Z"
   },
   {
    "duration": 22,
    "start_time": "2022-03-13T15:31:47.890Z"
   },
   {
    "duration": 202,
    "start_time": "2022-03-13T15:31:47.914Z"
   },
   {
    "duration": 20,
    "start_time": "2022-03-13T15:31:48.118Z"
   },
   {
    "duration": 12,
    "start_time": "2022-03-13T15:31:48.140Z"
   },
   {
    "duration": 40,
    "start_time": "2022-03-13T15:31:48.154Z"
   },
   {
    "duration": 19,
    "start_time": "2022-03-13T15:31:48.196Z"
   },
   {
    "duration": 48,
    "start_time": "2022-03-13T15:31:48.217Z"
   },
   {
    "duration": 19,
    "start_time": "2022-03-13T15:31:48.266Z"
   },
   {
    "duration": 35,
    "start_time": "2022-03-13T15:31:48.286Z"
   },
   {
    "duration": 41,
    "start_time": "2022-03-13T15:31:48.323Z"
   },
   {
    "duration": 11,
    "start_time": "2022-03-13T15:31:48.366Z"
   },
   {
    "duration": 14,
    "start_time": "2022-03-13T15:31:48.379Z"
   },
   {
    "duration": 84,
    "start_time": "2022-03-13T15:31:48.395Z"
   },
   {
    "duration": 40,
    "start_time": "2022-03-13T15:31:48.481Z"
   },
   {
    "duration": 52,
    "start_time": "2022-03-13T15:31:48.524Z"
   },
   {
    "duration": 32,
    "start_time": "2022-03-13T15:31:51.159Z"
   },
   {
    "duration": 68,
    "start_time": "2022-03-13T15:31:52.940Z"
   },
   {
    "duration": 3,
    "start_time": "2022-03-13T15:32:28.168Z"
   },
   {
    "duration": 453,
    "start_time": "2022-03-13T15:32:28.175Z"
   },
   {
    "duration": 37,
    "start_time": "2022-03-13T15:32:28.630Z"
   },
   {
    "duration": 57,
    "start_time": "2022-03-13T15:32:28.670Z"
   },
   {
    "duration": 42,
    "start_time": "2022-03-13T15:32:28.729Z"
   },
   {
    "duration": 7,
    "start_time": "2022-03-13T15:32:28.774Z"
   },
   {
    "duration": 7,
    "start_time": "2022-03-13T15:32:28.782Z"
   },
   {
    "duration": 10,
    "start_time": "2022-03-13T15:32:28.791Z"
   },
   {
    "duration": 17,
    "start_time": "2022-03-13T15:32:28.803Z"
   },
   {
    "duration": 6,
    "start_time": "2022-03-13T15:32:28.822Z"
   },
   {
    "duration": 33,
    "start_time": "2022-03-13T15:32:28.830Z"
   },
   {
    "duration": 7,
    "start_time": "2022-03-13T15:32:28.865Z"
   },
   {
    "duration": 15,
    "start_time": "2022-03-13T15:32:28.873Z"
   },
   {
    "duration": 25,
    "start_time": "2022-03-13T15:32:28.889Z"
   },
   {
    "duration": 55,
    "start_time": "2022-03-13T15:32:28.916Z"
   },
   {
    "duration": 4,
    "start_time": "2022-03-13T15:32:28.973Z"
   },
   {
    "duration": 18,
    "start_time": "2022-03-13T15:32:28.978Z"
   },
   {
    "duration": 84,
    "start_time": "2022-03-13T15:32:28.997Z"
   },
   {
    "duration": 22,
    "start_time": "2022-03-13T15:32:29.083Z"
   },
   {
    "duration": 23,
    "start_time": "2022-03-13T15:32:29.106Z"
   },
   {
    "duration": 194,
    "start_time": "2022-03-13T15:32:29.130Z"
   },
   {
    "duration": 20,
    "start_time": "2022-03-13T15:32:29.326Z"
   },
   {
    "duration": 21,
    "start_time": "2022-03-13T15:32:29.347Z"
   },
   {
    "duration": 35,
    "start_time": "2022-03-13T15:32:29.371Z"
   },
   {
    "duration": 19,
    "start_time": "2022-03-13T15:32:29.407Z"
   },
   {
    "duration": 45,
    "start_time": "2022-03-13T15:32:29.428Z"
   },
   {
    "duration": 18,
    "start_time": "2022-03-13T15:32:29.475Z"
   },
   {
    "duration": 40,
    "start_time": "2022-03-13T15:32:29.495Z"
   },
   {
    "duration": 41,
    "start_time": "2022-03-13T15:32:29.536Z"
   },
   {
    "duration": 11,
    "start_time": "2022-03-13T15:32:29.578Z"
   },
   {
    "duration": 16,
    "start_time": "2022-03-13T15:32:29.591Z"
   },
   {
    "duration": 91,
    "start_time": "2022-03-13T15:32:29.609Z"
   },
   {
    "duration": 57,
    "start_time": "2022-03-13T15:32:34.770Z"
   },
   {
    "duration": 40,
    "start_time": "2022-03-13T15:32:36.913Z"
   },
   {
    "duration": 33,
    "start_time": "2022-03-13T15:32:41.119Z"
   },
   {
    "duration": 70,
    "start_time": "2022-03-13T15:32:43.288Z"
   },
   {
    "duration": 18,
    "start_time": "2022-03-13T15:33:17.919Z"
   },
   {
    "duration": 11,
    "start_time": "2022-03-13T15:36:56.815Z"
   },
   {
    "duration": 36,
    "start_time": "2022-03-13T15:39:46.093Z"
   },
   {
    "duration": 25,
    "start_time": "2022-03-13T15:44:31.422Z"
   },
   {
    "duration": 225,
    "start_time": "2022-03-13T15:45:40.401Z"
   },
   {
    "duration": 3,
    "start_time": "2022-03-13T15:45:50.357Z"
   },
   {
    "duration": 449,
    "start_time": "2022-03-13T15:45:50.362Z"
   },
   {
    "duration": 37,
    "start_time": "2022-03-13T15:45:50.813Z"
   },
   {
    "duration": 65,
    "start_time": "2022-03-13T15:45:50.852Z"
   },
   {
    "duration": 14,
    "start_time": "2022-03-13T15:45:50.919Z"
   },
   {
    "duration": 34,
    "start_time": "2022-03-13T15:45:50.935Z"
   },
   {
    "duration": 13,
    "start_time": "2022-03-13T15:45:50.971Z"
   },
   {
    "duration": 11,
    "start_time": "2022-03-13T15:45:50.986Z"
   },
   {
    "duration": 27,
    "start_time": "2022-03-13T15:45:51.001Z"
   },
   {
    "duration": 11,
    "start_time": "2022-03-13T15:45:51.030Z"
   },
   {
    "duration": 14,
    "start_time": "2022-03-13T15:45:51.043Z"
   },
   {
    "duration": 13,
    "start_time": "2022-03-13T15:45:51.059Z"
   },
   {
    "duration": 31,
    "start_time": "2022-03-13T15:45:51.074Z"
   },
   {
    "duration": 31,
    "start_time": "2022-03-13T15:45:51.107Z"
   },
   {
    "duration": 44,
    "start_time": "2022-03-13T15:45:51.140Z"
   },
   {
    "duration": 4,
    "start_time": "2022-03-13T15:45:51.186Z"
   },
   {
    "duration": 26,
    "start_time": "2022-03-13T15:45:51.192Z"
   },
   {
    "duration": 77,
    "start_time": "2022-03-13T15:45:51.220Z"
   },
   {
    "duration": 22,
    "start_time": "2022-03-13T15:45:51.299Z"
   },
   {
    "duration": 44,
    "start_time": "2022-03-13T15:45:51.323Z"
   },
   {
    "duration": 199,
    "start_time": "2022-03-13T15:45:51.369Z"
   },
   {
    "duration": 22,
    "start_time": "2022-03-13T15:45:51.571Z"
   },
   {
    "duration": 13,
    "start_time": "2022-03-13T15:45:51.595Z"
   },
   {
    "duration": 62,
    "start_time": "2022-03-13T15:45:51.610Z"
   },
   {
    "duration": 23,
    "start_time": "2022-03-13T15:45:51.675Z"
   },
   {
    "duration": 22,
    "start_time": "2022-03-13T15:45:51.700Z"
   },
   {
    "duration": 52,
    "start_time": "2022-03-13T15:45:51.726Z"
   },
   {
    "duration": 40,
    "start_time": "2022-03-13T15:45:51.780Z"
   },
   {
    "duration": 44,
    "start_time": "2022-03-13T15:45:51.823Z"
   },
   {
    "duration": 13,
    "start_time": "2022-03-13T15:45:51.869Z"
   },
   {
    "duration": 24,
    "start_time": "2022-03-13T15:45:51.884Z"
   },
   {
    "duration": 92,
    "start_time": "2022-03-13T15:45:51.910Z"
   },
   {
    "duration": 45,
    "start_time": "2022-03-13T15:45:52.004Z"
   },
   {
    "duration": 42,
    "start_time": "2022-03-13T15:45:52.063Z"
   },
   {
    "duration": 95,
    "start_time": "2022-03-13T15:45:52.107Z"
   },
   {
    "duration": 18,
    "start_time": "2022-03-13T15:45:52.204Z"
   },
   {
    "duration": 57,
    "start_time": "2022-03-13T15:45:52.225Z"
   },
   {
    "duration": 28,
    "start_time": "2022-03-13T15:45:57.437Z"
   },
   {
    "duration": 292,
    "start_time": "2022-03-13T15:53:35.533Z"
   },
   {
    "duration": 22,
    "start_time": "2022-03-13T15:55:23.770Z"
   },
   {
    "duration": 22,
    "start_time": "2022-03-13T15:56:44.860Z"
   },
   {
    "duration": 273,
    "start_time": "2022-03-13T16:04:11.126Z"
   },
   {
    "duration": 18,
    "start_time": "2022-03-13T16:04:31.205Z"
   },
   {
    "duration": 215,
    "start_time": "2022-03-13T16:06:32.821Z"
   },
   {
    "duration": 3,
    "start_time": "2022-03-13T16:06:39.561Z"
   },
   {
    "duration": 419,
    "start_time": "2022-03-13T16:06:39.566Z"
   },
   {
    "duration": 51,
    "start_time": "2022-03-13T16:06:39.987Z"
   },
   {
    "duration": 82,
    "start_time": "2022-03-13T16:06:40.041Z"
   },
   {
    "duration": 14,
    "start_time": "2022-03-13T16:06:40.124Z"
   },
   {
    "duration": 28,
    "start_time": "2022-03-13T16:06:40.139Z"
   },
   {
    "duration": 5,
    "start_time": "2022-03-13T16:06:40.169Z"
   },
   {
    "duration": 7,
    "start_time": "2022-03-13T16:06:40.175Z"
   },
   {
    "duration": 15,
    "start_time": "2022-03-13T16:06:40.184Z"
   },
   {
    "duration": 7,
    "start_time": "2022-03-13T16:06:40.200Z"
   },
   {
    "duration": 8,
    "start_time": "2022-03-13T16:06:40.208Z"
   },
   {
    "duration": 10,
    "start_time": "2022-03-13T16:06:40.218Z"
   },
   {
    "duration": 47,
    "start_time": "2022-03-13T16:06:40.229Z"
   },
   {
    "duration": 25,
    "start_time": "2022-03-13T16:06:40.278Z"
   },
   {
    "duration": 26,
    "start_time": "2022-03-13T16:06:40.305Z"
   },
   {
    "duration": 32,
    "start_time": "2022-03-13T16:06:40.333Z"
   },
   {
    "duration": 17,
    "start_time": "2022-03-13T16:06:40.366Z"
   },
   {
    "duration": 90,
    "start_time": "2022-03-13T16:06:40.385Z"
   },
   {
    "duration": 22,
    "start_time": "2022-03-13T16:06:40.479Z"
   },
   {
    "duration": 23,
    "start_time": "2022-03-13T16:06:40.503Z"
   },
   {
    "duration": 197,
    "start_time": "2022-03-13T16:06:40.528Z"
   },
   {
    "duration": 22,
    "start_time": "2022-03-13T16:06:40.726Z"
   },
   {
    "duration": 22,
    "start_time": "2022-03-13T16:06:40.749Z"
   },
   {
    "duration": 36,
    "start_time": "2022-03-13T16:06:40.772Z"
   },
   {
    "duration": 19,
    "start_time": "2022-03-13T16:06:40.810Z"
   },
   {
    "duration": 48,
    "start_time": "2022-03-13T16:06:40.831Z"
   },
   {
    "duration": 18,
    "start_time": "2022-03-13T16:06:40.881Z"
   },
   {
    "duration": 37,
    "start_time": "2022-03-13T16:06:40.901Z"
   },
   {
    "duration": 39,
    "start_time": "2022-03-13T16:06:40.939Z"
   },
   {
    "duration": 13,
    "start_time": "2022-03-13T16:06:40.980Z"
   },
   {
    "duration": 18,
    "start_time": "2022-03-13T16:06:40.995Z"
   },
   {
    "duration": 93,
    "start_time": "2022-03-13T16:06:41.015Z"
   },
   {
    "duration": 52,
    "start_time": "2022-03-13T16:06:41.110Z"
   },
   {
    "duration": 36,
    "start_time": "2022-03-13T16:06:41.164Z"
   },
   {
    "duration": 82,
    "start_time": "2022-03-13T16:06:41.202Z"
   },
   {
    "duration": 16,
    "start_time": "2022-03-13T16:06:41.286Z"
   },
   {
    "duration": 35,
    "start_time": "2022-03-13T16:06:41.304Z"
   },
   {
    "duration": 28,
    "start_time": "2022-03-13T16:06:41.363Z"
   },
   {
    "duration": 21,
    "start_time": "2022-03-13T16:06:41.393Z"
   },
   {
    "duration": 19,
    "start_time": "2022-03-13T16:06:43.161Z"
   },
   {
    "duration": 4,
    "start_time": "2022-03-13T16:09:31.404Z"
   },
   {
    "duration": 530,
    "start_time": "2022-03-13T17:26:56.366Z"
   },
   {
    "duration": 3,
    "start_time": "2022-03-13T17:27:59.747Z"
   },
   {
    "duration": 449,
    "start_time": "2022-03-13T17:27:59.755Z"
   },
   {
    "duration": 34,
    "start_time": "2022-03-13T17:28:00.207Z"
   },
   {
    "duration": 79,
    "start_time": "2022-03-13T17:28:00.242Z"
   },
   {
    "duration": 42,
    "start_time": "2022-03-13T17:28:00.323Z"
   },
   {
    "duration": 8,
    "start_time": "2022-03-13T17:28:00.367Z"
   },
   {
    "duration": 14,
    "start_time": "2022-03-13T17:28:00.376Z"
   },
   {
    "duration": 13,
    "start_time": "2022-03-13T17:28:00.392Z"
   },
   {
    "duration": 25,
    "start_time": "2022-03-13T17:28:00.408Z"
   },
   {
    "duration": 6,
    "start_time": "2022-03-13T17:28:00.435Z"
   },
   {
    "duration": 20,
    "start_time": "2022-03-13T17:28:00.443Z"
   },
   {
    "duration": 13,
    "start_time": "2022-03-13T17:28:00.465Z"
   },
   {
    "duration": 34,
    "start_time": "2022-03-13T17:28:00.480Z"
   },
   {
    "duration": 36,
    "start_time": "2022-03-13T17:28:00.516Z"
   },
   {
    "duration": 37,
    "start_time": "2022-03-13T17:28:00.554Z"
   },
   {
    "duration": 5,
    "start_time": "2022-03-13T17:28:00.593Z"
   },
   {
    "duration": 28,
    "start_time": "2022-03-13T17:28:00.600Z"
   },
   {
    "duration": 101,
    "start_time": "2022-03-13T17:28:00.630Z"
   },
   {
    "duration": 31,
    "start_time": "2022-03-13T17:28:00.733Z"
   },
   {
    "duration": 29,
    "start_time": "2022-03-13T17:28:00.766Z"
   },
   {
    "duration": 234,
    "start_time": "2022-03-13T17:28:00.797Z"
   },
   {
    "duration": 23,
    "start_time": "2022-03-13T17:28:01.032Z"
   },
   {
    "duration": 17,
    "start_time": "2022-03-13T17:28:01.064Z"
   },
   {
    "duration": 50,
    "start_time": "2022-03-13T17:28:01.085Z"
   },
   {
    "duration": 44,
    "start_time": "2022-03-13T17:28:01.138Z"
   },
   {
    "duration": 24,
    "start_time": "2022-03-13T17:28:01.184Z"
   },
   {
    "duration": 21,
    "start_time": "2022-03-13T17:28:01.210Z"
   },
   {
    "duration": 73,
    "start_time": "2022-03-13T17:28:01.232Z"
   },
   {
    "duration": 20,
    "start_time": "2022-03-13T17:28:01.307Z"
   },
   {
    "duration": 37,
    "start_time": "2022-03-13T17:28:01.329Z"
   },
   {
    "duration": 65,
    "start_time": "2022-03-13T17:28:01.368Z"
   },
   {
    "duration": 63,
    "start_time": "2022-03-13T17:28:01.435Z"
   },
   {
    "duration": 39,
    "start_time": "2022-03-13T17:28:01.501Z"
   },
   {
    "duration": 100,
    "start_time": "2022-03-13T17:28:01.542Z"
   },
   {
    "duration": 36,
    "start_time": "2022-03-13T17:28:01.645Z"
   },
   {
    "duration": 48,
    "start_time": "2022-03-13T17:28:01.684Z"
   },
   {
    "duration": 61,
    "start_time": "2022-03-13T17:28:01.734Z"
   },
   {
    "duration": 26,
    "start_time": "2022-03-13T17:28:01.797Z"
   },
   {
    "duration": 39,
    "start_time": "2022-03-13T17:28:01.825Z"
   },
   {
    "duration": 3,
    "start_time": "2022-03-13T17:28:01.867Z"
   },
   {
    "duration": 622,
    "start_time": "2022-03-13T17:28:09.071Z"
   },
   {
    "duration": 5,
    "start_time": "2022-03-13T17:29:58.472Z"
   },
   {
    "duration": 726,
    "start_time": "2022-03-13T17:29:58.484Z"
   },
   {
    "duration": 59,
    "start_time": "2022-03-13T17:29:59.212Z"
   },
   {
    "duration": 391,
    "start_time": "2022-03-13T17:29:59.274Z"
   },
   {
    "duration": 65,
    "start_time": "2022-03-13T17:29:59.669Z"
   },
   {
    "duration": 255,
    "start_time": "2022-03-13T17:29:59.736Z"
   },
   {
    "duration": 313,
    "start_time": "2022-03-13T17:29:59.993Z"
   },
   {
    "duration": 359,
    "start_time": "2022-03-13T17:30:00.309Z"
   },
   {
    "duration": 140,
    "start_time": "2022-03-13T17:30:00.671Z"
   },
   {
    "duration": 94,
    "start_time": "2022-03-13T17:30:00.814Z"
   },
   {
    "duration": 45,
    "start_time": "2022-03-13T17:30:00.911Z"
   },
   {
    "duration": 267,
    "start_time": "2022-03-13T17:30:00.958Z"
   },
   {
    "duration": 160,
    "start_time": "2022-03-13T17:30:01.227Z"
   },
   {
    "duration": 272,
    "start_time": "2022-03-13T17:30:01.389Z"
   },
   {
    "duration": 336,
    "start_time": "2022-03-13T17:30:01.663Z"
   },
   {
    "duration": 121,
    "start_time": "2022-03-13T17:30:02.002Z"
   },
   {
    "duration": 226,
    "start_time": "2022-03-13T17:30:02.125Z"
   },
   {
    "duration": 204,
    "start_time": "2022-03-13T17:30:02.353Z"
   },
   {
    "duration": 40,
    "start_time": "2022-03-13T17:30:02.559Z"
   },
   {
    "duration": 62,
    "start_time": "2022-03-13T17:30:02.601Z"
   },
   {
    "duration": 428,
    "start_time": "2022-03-13T17:30:02.665Z"
   },
   {
    "duration": 32,
    "start_time": "2022-03-13T17:30:03.096Z"
   },
   {
    "duration": 183,
    "start_time": "2022-03-13T17:30:03.130Z"
   },
   {
    "duration": 166,
    "start_time": "2022-03-13T17:30:03.316Z"
   },
   {
    "duration": 127,
    "start_time": "2022-03-13T17:30:03.485Z"
   },
   {
    "duration": 116,
    "start_time": "2022-03-13T17:30:03.614Z"
   },
   {
    "duration": 63,
    "start_time": "2022-03-13T17:30:03.732Z"
   },
   {
    "duration": 204,
    "start_time": "2022-03-13T17:30:03.798Z"
   },
   {
    "duration": 64,
    "start_time": "2022-03-13T17:30:04.005Z"
   },
   {
    "duration": 132,
    "start_time": "2022-03-13T17:30:04.072Z"
   },
   {
    "duration": 124,
    "start_time": "2022-03-13T17:30:04.207Z"
   },
   {
    "duration": 131,
    "start_time": "2022-03-13T17:30:04.333Z"
   },
   {
    "duration": 50,
    "start_time": "2022-03-13T17:30:04.466Z"
   },
   {
    "duration": 224,
    "start_time": "2022-03-13T17:30:04.519Z"
   },
   {
    "duration": 166,
    "start_time": "2022-03-13T17:30:04.745Z"
   },
   {
    "duration": 76,
    "start_time": "2022-03-13T17:30:04.913Z"
   },
   {
    "duration": 89,
    "start_time": "2022-03-13T17:30:04.991Z"
   },
   {
    "duration": 166,
    "start_time": "2022-03-13T17:30:05.083Z"
   },
   {
    "duration": 225,
    "start_time": "2022-03-13T17:30:05.251Z"
   },
   {
    "duration": 41,
    "start_time": "2022-03-13T17:30:05.478Z"
   },
   {
    "duration": 195,
    "start_time": "2022-03-13T17:30:09.981Z"
   },
   {
    "duration": 755,
    "start_time": "2022-03-14T15:34:42.399Z"
   },
   {
    "duration": 544,
    "start_time": "2022-03-14T15:34:43.157Z"
   },
   {
    "duration": 38,
    "start_time": "2022-03-14T15:34:43.704Z"
   },
   {
    "duration": 90,
    "start_time": "2022-03-14T15:34:43.743Z"
   },
   {
    "duration": 18,
    "start_time": "2022-03-14T15:34:43.834Z"
   },
   {
    "duration": 11,
    "start_time": "2022-03-14T15:34:43.854Z"
   },
   {
    "duration": 39,
    "start_time": "2022-03-14T15:34:43.867Z"
   },
   {
    "duration": 19,
    "start_time": "2022-03-14T15:34:43.909Z"
   },
   {
    "duration": 29,
    "start_time": "2022-03-14T15:34:43.930Z"
   },
   {
    "duration": 4,
    "start_time": "2022-03-14T15:34:43.961Z"
   },
   {
    "duration": 16,
    "start_time": "2022-03-14T15:34:43.967Z"
   },
   {
    "duration": 22,
    "start_time": "2022-03-14T15:34:43.986Z"
   },
   {
    "duration": 21,
    "start_time": "2022-03-14T15:34:44.011Z"
   },
   {
    "duration": 36,
    "start_time": "2022-03-14T15:34:44.034Z"
   },
   {
    "duration": 60,
    "start_time": "2022-03-14T15:34:44.072Z"
   },
   {
    "duration": 6,
    "start_time": "2022-03-14T15:34:44.134Z"
   },
   {
    "duration": 28,
    "start_time": "2022-03-14T15:34:44.142Z"
   },
   {
    "duration": 103,
    "start_time": "2022-03-14T15:34:44.171Z"
   },
   {
    "duration": 36,
    "start_time": "2022-03-14T15:34:44.276Z"
   },
   {
    "duration": 26,
    "start_time": "2022-03-14T15:34:44.314Z"
   },
   {
    "duration": 260,
    "start_time": "2022-03-14T15:34:44.342Z"
   },
   {
    "duration": 24,
    "start_time": "2022-03-14T15:34:44.603Z"
   },
   {
    "duration": 15,
    "start_time": "2022-03-14T15:34:44.631Z"
   },
   {
    "duration": 68,
    "start_time": "2022-03-14T15:34:44.648Z"
   },
   {
    "duration": 23,
    "start_time": "2022-03-14T15:34:44.718Z"
   },
   {
    "duration": 24,
    "start_time": "2022-03-14T15:34:44.743Z"
   },
   {
    "duration": 49,
    "start_time": "2022-03-14T15:34:44.769Z"
   },
   {
    "duration": 47,
    "start_time": "2022-03-14T15:34:44.820Z"
   },
   {
    "duration": 39,
    "start_time": "2022-03-14T15:34:44.869Z"
   },
   {
    "duration": 16,
    "start_time": "2022-03-14T15:34:44.911Z"
   },
   {
    "duration": 96,
    "start_time": "2022-03-14T15:34:44.929Z"
   },
   {
    "duration": 50,
    "start_time": "2022-03-14T15:34:45.027Z"
   },
   {
    "duration": 56,
    "start_time": "2022-03-14T15:34:45.079Z"
   },
   {
    "duration": 96,
    "start_time": "2022-03-14T15:34:45.138Z"
   },
   {
    "duration": 24,
    "start_time": "2022-03-14T15:34:45.237Z"
   },
   {
    "duration": 73,
    "start_time": "2022-03-14T15:34:45.263Z"
   },
   {
    "duration": 35,
    "start_time": "2022-03-14T15:34:45.338Z"
   },
   {
    "duration": 48,
    "start_time": "2022-03-14T15:34:45.375Z"
   },
   {
    "duration": 33,
    "start_time": "2022-03-14T15:34:45.425Z"
   },
   {
    "duration": 4,
    "start_time": "2022-03-14T15:34:45.460Z"
   },
   {
    "duration": 217,
    "start_time": "2022-03-14T15:34:45.466Z"
   },
   {
    "duration": 13,
    "start_time": "2022-03-14T15:34:52.182Z"
   },
   {
    "duration": 711,
    "start_time": "2022-03-14T15:34:53.176Z"
   },
   {
    "duration": 598,
    "start_time": "2022-03-14T15:34:56.388Z"
   },
   {
    "duration": 503,
    "start_time": "2022-03-14T15:35:01.157Z"
   },
   {
    "duration": 491,
    "start_time": "2022-03-14T15:35:04.485Z"
   },
   {
    "duration": 453,
    "start_time": "2022-03-14T15:35:07.527Z"
   },
   {
    "duration": 29,
    "start_time": "2022-03-14T15:36:02.893Z"
   },
   {
    "duration": 31,
    "start_time": "2022-03-14T15:36:20.230Z"
   },
   {
    "duration": 246,
    "start_time": "2022-03-14T15:36:29.102Z"
   },
   {
    "duration": 439,
    "start_time": "2022-03-14T15:36:46.787Z"
   },
   {
    "duration": 7,
    "start_time": "2022-03-14T15:36:52.318Z"
   },
   {
    "duration": 10,
    "start_time": "2022-03-14T15:36:58.260Z"
   },
   {
    "duration": 6,
    "start_time": "2022-03-14T15:36:58.918Z"
   },
   {
    "duration": 4,
    "start_time": "2022-03-14T15:39:25.778Z"
   },
   {
    "duration": 539,
    "start_time": "2022-03-14T15:39:25.784Z"
   },
   {
    "duration": 43,
    "start_time": "2022-03-14T15:39:26.325Z"
   },
   {
    "duration": 79,
    "start_time": "2022-03-14T15:39:26.370Z"
   },
   {
    "duration": 50,
    "start_time": "2022-03-14T15:39:26.451Z"
   },
   {
    "duration": 9,
    "start_time": "2022-03-14T15:39:26.503Z"
   },
   {
    "duration": 31,
    "start_time": "2022-03-14T15:39:26.515Z"
   },
   {
    "duration": 21,
    "start_time": "2022-03-14T15:39:26.549Z"
   },
   {
    "duration": 27,
    "start_time": "2022-03-14T15:39:26.572Z"
   },
   {
    "duration": 25,
    "start_time": "2022-03-14T15:39:26.601Z"
   },
   {
    "duration": 23,
    "start_time": "2022-03-14T15:39:26.629Z"
   },
   {
    "duration": 18,
    "start_time": "2022-03-14T15:39:26.655Z"
   },
   {
    "duration": 39,
    "start_time": "2022-03-14T15:39:26.676Z"
   },
   {
    "duration": 41,
    "start_time": "2022-03-14T15:39:26.717Z"
   },
   {
    "duration": 32,
    "start_time": "2022-03-14T15:39:26.760Z"
   },
   {
    "duration": 6,
    "start_time": "2022-03-14T15:39:26.801Z"
   },
   {
    "duration": 37,
    "start_time": "2022-03-14T15:39:26.809Z"
   },
   {
    "duration": 90,
    "start_time": "2022-03-14T15:39:26.848Z"
   },
   {
    "duration": 26,
    "start_time": "2022-03-14T15:39:26.942Z"
   },
   {
    "duration": 44,
    "start_time": "2022-03-14T15:39:26.971Z"
   },
   {
    "duration": 275,
    "start_time": "2022-03-14T15:39:27.018Z"
   },
   {
    "duration": 28,
    "start_time": "2022-03-14T15:39:27.295Z"
   },
   {
    "duration": 22,
    "start_time": "2022-03-14T15:39:27.325Z"
   },
   {
    "duration": 61,
    "start_time": "2022-03-14T15:39:27.349Z"
   },
   {
    "duration": 22,
    "start_time": "2022-03-14T15:39:27.412Z"
   },
   {
    "duration": 24,
    "start_time": "2022-03-14T15:39:27.436Z"
   },
   {
    "duration": 50,
    "start_time": "2022-03-14T15:39:27.462Z"
   },
   {
    "duration": 47,
    "start_time": "2022-03-14T15:39:27.514Z"
   },
   {
    "duration": 39,
    "start_time": "2022-03-14T15:39:27.563Z"
   },
   {
    "duration": 19,
    "start_time": "2022-03-14T15:39:27.604Z"
   },
   {
    "duration": 89,
    "start_time": "2022-03-14T15:39:27.625Z"
   },
   {
    "duration": 47,
    "start_time": "2022-03-14T15:39:27.715Z"
   },
   {
    "duration": 59,
    "start_time": "2022-03-14T15:39:27.764Z"
   },
   {
    "duration": 91,
    "start_time": "2022-03-14T15:39:27.825Z"
   },
   {
    "duration": 21,
    "start_time": "2022-03-14T15:39:27.917Z"
   },
   {
    "duration": 40,
    "start_time": "2022-03-14T15:39:27.940Z"
   },
   {
    "duration": 50,
    "start_time": "2022-03-14T15:39:27.981Z"
   },
   {
    "duration": 26,
    "start_time": "2022-03-14T15:39:28.033Z"
   },
   {
    "duration": 54,
    "start_time": "2022-03-14T15:39:28.061Z"
   },
   {
    "duration": 4,
    "start_time": "2022-03-14T15:39:28.117Z"
   },
   {
    "duration": 179,
    "start_time": "2022-03-14T15:39:28.123Z"
   },
   {
    "duration": 9,
    "start_time": "2022-03-14T15:39:28.304Z"
   },
   {
    "duration": 507,
    "start_time": "2022-03-14T15:39:28.315Z"
   },
   {
    "duration": 525,
    "start_time": "2022-03-14T15:39:28.824Z"
   },
   {
    "duration": 489,
    "start_time": "2022-03-14T15:39:29.351Z"
   },
   {
    "duration": 645,
    "start_time": "2022-03-14T15:39:29.842Z"
   },
   {
    "duration": 38,
    "start_time": "2022-03-14T15:39:30.489Z"
   },
   {
    "duration": 65,
    "start_time": "2022-03-14T15:39:30.529Z"
   },
   {
    "duration": 6,
    "start_time": "2022-03-14T15:39:30.597Z"
   },
   {
    "duration": 31,
    "start_time": "2022-03-14T15:39:30.605Z"
   },
   {
    "duration": 10,
    "start_time": "2022-03-14T15:39:32.831Z"
   },
   {
    "duration": 8,
    "start_time": "2022-03-14T15:39:33.221Z"
   },
   {
    "duration": 2013,
    "start_time": "2022-03-26T06:46:08.556Z"
   },
   {
    "duration": 590,
    "start_time": "2022-03-26T06:46:10.575Z"
   },
   {
    "duration": 48,
    "start_time": "2022-03-26T06:46:11.812Z"
   },
   {
    "duration": 126,
    "start_time": "2022-03-26T06:46:13.354Z"
   },
   {
    "duration": 32,
    "start_time": "2022-03-26T06:46:21.268Z"
   },
   {
    "duration": 10,
    "start_time": "2022-03-26T06:46:25.990Z"
   },
   {
    "duration": 9,
    "start_time": "2022-03-26T06:46:27.312Z"
   },
   {
    "duration": 11,
    "start_time": "2022-03-26T06:46:29.360Z"
   },
   {
    "duration": 22,
    "start_time": "2022-03-26T06:46:30.595Z"
   },
   {
    "duration": 5,
    "start_time": "2022-03-26T06:46:32.839Z"
   },
   {
    "duration": 9,
    "start_time": "2022-03-26T06:46:33.178Z"
   },
   {
    "duration": 9,
    "start_time": "2022-03-26T06:46:33.974Z"
   },
   {
    "duration": 33,
    "start_time": "2022-03-26T06:46:35.017Z"
   },
   {
    "duration": 52,
    "start_time": "2022-03-26T06:46:38.347Z"
   },
   {
    "duration": 78,
    "start_time": "2022-03-26T06:46:40.988Z"
   },
   {
    "duration": 9,
    "start_time": "2022-03-26T06:46:41.466Z"
   },
   {
    "duration": 22,
    "start_time": "2022-03-26T06:46:44.386Z"
   },
   {
    "duration": 171,
    "start_time": "2022-03-26T06:46:45.443Z"
   },
   {
    "duration": 37,
    "start_time": "2022-03-26T06:46:47.750Z"
   },
   {
    "duration": 41,
    "start_time": "2022-03-26T06:46:51.355Z"
   },
   {
    "duration": 261,
    "start_time": "2022-03-26T06:46:54.848Z"
   },
   {
    "duration": 52,
    "start_time": "2022-03-26T06:52:01.600Z"
   },
   {
    "duration": 21,
    "start_time": "2022-03-26T06:52:01.990Z"
   },
   {
    "duration": 61,
    "start_time": "2022-03-26T06:52:03.019Z"
   },
   {
    "duration": 35,
    "start_time": "2022-03-26T06:52:05.436Z"
   },
   {
    "duration": 34,
    "start_time": "2022-03-26T06:52:08.013Z"
   },
   {
    "duration": 31,
    "start_time": "2022-03-26T06:52:10.797Z"
   },
   {
    "duration": 57,
    "start_time": "2022-03-26T06:52:11.228Z"
   },
   {
    "duration": 31,
    "start_time": "2022-03-26T06:52:13.062Z"
   },
   {
    "duration": 25,
    "start_time": "2022-03-26T06:52:16.268Z"
   },
   {
    "duration": 92,
    "start_time": "2022-03-26T06:52:24.491Z"
   },
   {
    "duration": 58,
    "start_time": "2022-03-26T06:52:26.176Z"
   },
   {
    "duration": 53,
    "start_time": "2022-03-26T06:52:41.718Z"
   },
   {
    "duration": 69,
    "start_time": "2022-03-26T06:52:43.953Z"
   },
   {
    "duration": 1080,
    "start_time": "2022-03-26T06:53:11.778Z"
   },
   {
    "duration": 781,
    "start_time": "2022-03-26T06:53:20.130Z"
   },
   {
    "duration": 909,
    "start_time": "2022-03-26T06:53:26.779Z"
   },
   {
    "duration": 5,
    "start_time": "2022-03-26T06:53:30.610Z"
   },
   {
    "duration": 684,
    "start_time": "2022-03-26T06:53:30.618Z"
   },
   {
    "duration": 70,
    "start_time": "2022-03-26T06:53:31.305Z"
   },
   {
    "duration": 751,
    "start_time": "2022-03-26T06:53:31.378Z"
   },
   {
    "duration": 61,
    "start_time": "2022-03-26T06:53:32.132Z"
   },
   {
    "duration": 10,
    "start_time": "2022-03-26T06:53:32.196Z"
   },
   {
    "duration": 10,
    "start_time": "2022-03-26T06:53:32.209Z"
   },
   {
    "duration": 9,
    "start_time": "2022-03-26T06:53:32.222Z"
   },
   {
    "duration": 67,
    "start_time": "2022-03-26T06:53:32.235Z"
   },
   {
    "duration": 10,
    "start_time": "2022-03-26T06:53:32.305Z"
   },
   {
    "duration": 14,
    "start_time": "2022-03-26T06:53:32.320Z"
   },
   {
    "duration": 39,
    "start_time": "2022-03-26T06:53:32.337Z"
   },
   {
    "duration": 44,
    "start_time": "2022-03-26T06:53:32.378Z"
   },
   {
    "duration": 99,
    "start_time": "2022-03-26T06:53:32.426Z"
   },
   {
    "duration": 92,
    "start_time": "2022-03-26T06:53:32.527Z"
   },
   {
    "duration": 7,
    "start_time": "2022-03-26T06:53:32.622Z"
   },
   {
    "duration": 28,
    "start_time": "2022-03-26T06:53:32.632Z"
   },
   {
    "duration": 120,
    "start_time": "2022-03-26T06:53:32.675Z"
   },
   {
    "duration": 42,
    "start_time": "2022-03-26T06:53:32.798Z"
   },
   {
    "duration": 61,
    "start_time": "2022-03-26T06:53:32.842Z"
   },
   {
    "duration": 235,
    "start_time": "2022-03-26T06:53:32.905Z"
   },
   {
    "duration": 64,
    "start_time": "2022-03-26T06:53:33.143Z"
   },
   {
    "duration": 21,
    "start_time": "2022-03-26T06:53:33.210Z"
   },
   {
    "duration": 80,
    "start_time": "2022-03-26T06:53:33.236Z"
   },
   {
    "duration": 59,
    "start_time": "2022-03-26T06:53:33.319Z"
   },
   {
    "duration": 49,
    "start_time": "2022-03-26T06:53:33.381Z"
   },
   {
    "duration": 57,
    "start_time": "2022-03-26T06:53:33.433Z"
   },
   {
    "duration": 53,
    "start_time": "2022-03-26T06:53:33.493Z"
   },
   {
    "duration": 57,
    "start_time": "2022-03-26T06:53:33.549Z"
   },
   {
    "duration": 28,
    "start_time": "2022-03-26T06:53:33.608Z"
   },
   {
    "duration": 120,
    "start_time": "2022-03-26T06:53:33.674Z"
   },
   {
    "duration": 94,
    "start_time": "2022-03-26T06:53:33.797Z"
   },
   {
    "duration": 53,
    "start_time": "2022-03-26T06:53:33.893Z"
   },
   {
    "duration": 66,
    "start_time": "2022-03-26T06:53:36.643Z"
   },
   {
    "duration": 117,
    "start_time": "2022-03-26T06:53:37.671Z"
   },
   {
    "duration": 5,
    "start_time": "2022-03-26T06:53:51.742Z"
   },
   {
    "duration": 1513,
    "start_time": "2022-03-26T06:53:51.751Z"
   },
   {
    "duration": 63,
    "start_time": "2022-03-26T06:53:53.268Z"
   },
   {
    "duration": 161,
    "start_time": "2022-03-26T06:53:53.333Z"
   },
   {
    "duration": 30,
    "start_time": "2022-03-26T06:53:53.497Z"
   },
   {
    "duration": 10,
    "start_time": "2022-03-26T06:53:53.529Z"
   },
   {
    "duration": 9,
    "start_time": "2022-03-26T06:53:53.541Z"
   },
   {
    "duration": 23,
    "start_time": "2022-03-26T06:53:53.552Z"
   },
   {
    "duration": 21,
    "start_time": "2022-03-26T06:53:53.578Z"
   },
   {
    "duration": 6,
    "start_time": "2022-03-26T06:53:53.602Z"
   },
   {
    "duration": 10,
    "start_time": "2022-03-26T06:53:53.613Z"
   },
   {
    "duration": 10,
    "start_time": "2022-03-26T06:53:53.625Z"
   },
   {
    "duration": 42,
    "start_time": "2022-03-26T06:53:53.637Z"
   },
   {
    "duration": 43,
    "start_time": "2022-03-26T06:53:53.681Z"
   },
   {
    "duration": 76,
    "start_time": "2022-03-26T06:53:53.727Z"
   },
   {
    "duration": 7,
    "start_time": "2022-03-26T06:53:53.805Z"
   },
   {
    "duration": 58,
    "start_time": "2022-03-26T06:53:53.815Z"
   },
   {
    "duration": 232,
    "start_time": "2022-03-26T06:53:53.877Z"
   },
   {
    "duration": 85,
    "start_time": "2022-03-26T06:53:54.112Z"
   },
   {
    "duration": 104,
    "start_time": "2022-03-26T06:53:54.199Z"
   },
   {
    "duration": 398,
    "start_time": "2022-03-26T06:53:54.306Z"
   },
   {
    "duration": 36,
    "start_time": "2022-03-26T06:53:54.706Z"
   },
   {
    "duration": 42,
    "start_time": "2022-03-26T06:53:54.745Z"
   },
   {
    "duration": 98,
    "start_time": "2022-03-26T06:53:54.789Z"
   },
   {
    "duration": 33,
    "start_time": "2022-03-26T06:53:54.890Z"
   },
   {
    "duration": 65,
    "start_time": "2022-03-26T06:53:54.926Z"
   },
   {
    "duration": 43,
    "start_time": "2022-03-26T06:53:54.994Z"
   },
   {
    "duration": 94,
    "start_time": "2022-03-26T06:53:55.040Z"
   },
   {
    "duration": 54,
    "start_time": "2022-03-26T06:53:55.141Z"
   },
   {
    "duration": 29,
    "start_time": "2022-03-26T06:53:55.198Z"
   },
   {
    "duration": 152,
    "start_time": "2022-03-26T06:53:55.230Z"
   },
   {
    "duration": 91,
    "start_time": "2022-03-26T06:53:55.384Z"
   },
   {
    "duration": 68,
    "start_time": "2022-03-26T06:53:55.477Z"
   },
   {
    "duration": 68,
    "start_time": "2022-03-26T06:53:57.804Z"
   },
   {
    "duration": 132,
    "start_time": "2022-03-26T06:53:58.336Z"
   },
   {
    "duration": 39,
    "start_time": "2022-03-26T06:54:51.430Z"
   },
   {
    "duration": 72,
    "start_time": "2022-03-26T06:54:52.600Z"
   },
   {
    "duration": 46,
    "start_time": "2022-03-26T06:54:57.326Z"
   },
   {
    "duration": 32,
    "start_time": "2022-03-26T06:55:00.083Z"
   },
   {
    "duration": 27,
    "start_time": "2022-03-26T06:55:02.636Z"
   },
   {
    "duration": 4,
    "start_time": "2022-03-26T06:55:04.210Z"
   },
   {
    "duration": 156,
    "start_time": "2022-03-26T06:55:05.410Z"
   },
   {
    "duration": 12,
    "start_time": "2022-03-26T06:55:11.930Z"
   },
   {
    "duration": 572,
    "start_time": "2022-03-26T06:55:12.144Z"
   },
   {
    "duration": 521,
    "start_time": "2022-03-26T06:55:42.381Z"
   },
   {
    "duration": 548,
    "start_time": "2022-03-26T06:56:18.917Z"
   },
   {
    "duration": 417,
    "start_time": "2022-03-26T06:56:26.376Z"
   },
   {
    "duration": 321,
    "start_time": "2022-03-26T06:56:37.765Z"
   },
   {
    "duration": 327,
    "start_time": "2022-03-26T06:57:03.832Z"
   },
   {
    "duration": 432,
    "start_time": "2022-03-26T06:57:10.082Z"
   },
   {
    "duration": 676,
    "start_time": "2022-03-26T06:58:06.599Z"
   },
   {
    "duration": 641,
    "start_time": "2022-03-26T06:58:09.289Z"
   },
   {
    "duration": 617,
    "start_time": "2022-03-26T06:58:13.454Z"
   },
   {
    "duration": 49,
    "start_time": "2022-03-26T06:58:15.922Z"
   },
   {
    "duration": 53,
    "start_time": "2022-03-26T06:58:19.365Z"
   },
   {
    "duration": 7,
    "start_time": "2022-03-26T06:58:24.131Z"
   },
   {
    "duration": 14,
    "start_time": "2022-03-26T06:58:27.224Z"
   },
   {
    "duration": 9,
    "start_time": "2022-03-26T06:58:27.514Z"
   }
  ],
  "kernelspec": {
   "display_name": "Python 3 (ipykernel)",
   "language": "python",
   "name": "python3"
  },
  "language_info": {
   "codemirror_mode": {
    "name": "ipython",
    "version": 3
   },
   "file_extension": ".py",
   "mimetype": "text/x-python",
   "name": "python",
   "nbconvert_exporter": "python",
   "pygments_lexer": "ipython3",
   "version": "3.9.5"
  },
  "toc": {
   "base_numbering": 1,
   "nav_menu": {},
   "number_sections": false,
   "sideBar": true,
   "skip_h1_title": true,
   "title_cell": "Table of Contents",
   "title_sidebar": "Contents",
   "toc_cell": false,
   "toc_position": {
    "height": "calc(100% - 180px)",
    "left": "10px",
    "top": "150px",
    "width": "270.391px"
   },
   "toc_section_display": true,
   "toc_window_display": true
  }
 },
 "nbformat": 4,
 "nbformat_minor": 2
}
